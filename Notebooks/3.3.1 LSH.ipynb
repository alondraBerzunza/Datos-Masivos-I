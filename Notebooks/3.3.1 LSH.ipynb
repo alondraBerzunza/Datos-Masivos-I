{
 "cells": [
  {
   "cell_type": "markdown",
   "id": "89153706",
   "metadata": {},
   "source": [
    "### Búsqueda del vecino más cercano aproximado mediante funciones hash sensibles a la localidad"
   ]
  },
  {
   "cell_type": "markdown",
   "id": "2c8a1659",
   "metadata": {},
   "source": [
    "En esta libreta se realiza un buscador del vecino más cercano aproximado usando funciones hash sensibles a la localidad (LSH). Especificamente, se define la familia LSH basada en distribuciones p-estables para distancias l1 y l2 y otra familia para la distancia angular."
   ]
  },
  {
   "cell_type": "code",
   "execution_count": 1,
   "id": "d678c225",
   "metadata": {},
   "outputs": [],
   "source": [
    "from os import listdir\n",
    "from os.path import isfile, join\n",
    "import struct\n",
    "import os \n",
    "\n",
    "import numpy as np\n",
    "import struct\n",
    "import os"
   ]
  },
  {
   "cell_type": "markdown",
   "id": "528c7a09",
   "metadata": {},
   "source": [
    "### Conjunto de datos"
   ]
  },
  {
   "cell_type": "markdown",
   "id": "09375ab3",
   "metadata": {},
   "source": [
    "Para evaluar el buscador vamos usar el conjunto de vectores SIFT ANN_SIFT10K del grupo TEXMEX, el cual descargamos y extraemos."
   ]
  },
  {
   "cell_type": "code",
   "execution_count": 2,
   "id": "43b0f8eb",
   "metadata": {},
   "outputs": [
    {
     "name": "stdout",
     "output_type": "stream",
     "text": [
      "siftsmall/\n",
      "siftsmall/siftsmall_base.fvecs\n",
      "siftsmall/siftsmall_groundtruth.ivecs\n",
      "siftsmall/siftsmall_learn.fvecs\n",
      "siftsmall/siftsmall_query.fvecs\n"
     ]
    }
   ],
   "source": [
    "!wget -q ftp://ftp.irisa.fr/local/texmex/corpus/siftsmall.tar.gz\n",
    "!tar xvzf siftsmall.tar.gz"
   ]
  },
  {
   "cell_type": "code",
   "execution_count": 3,
   "id": "d48bdb60",
   "metadata": {},
   "outputs": [],
   "source": [
    "def lee_fvecs(ruta):\n",
    "    with open(ruta, 'rb') as f:\n",
    "        d = struct.unpack('i', f.read(4))[0]\n",
    "        n = f.seek(0, os.SEEK_END) // (4 + 4 * d)\n",
    "        f.seek(0)\n",
    "        vecs = np.zeros((n, d))\n",
    "        for i in range(n):\n",
    "            f.read(4)\n",
    "            vecs[i] = struct.unpack('f' * d, f.read(d * 4))\n",
    "    return vecs"
   ]
  },
  {
   "cell_type": "markdown",
   "id": "bcdf6341",
   "metadata": {},
   "source": [
    "Leemos el conjunto de vectores base y consulta."
   ]
  },
  {
   "cell_type": "code",
   "execution_count": 4,
   "id": "5739b589",
   "metadata": {},
   "outputs": [
    {
     "name": "stdout",
     "output_type": "stream",
     "text": [
      "Base: (10000, 128) Consultas: (100, 128)\n"
     ]
    }
   ],
   "source": [
    "base = lee_fvecs('siftsmall/siftsmall_base.fvecs')\n",
    "consultas = lee_fvecs('siftsmall/siftsmall_query.fvecs')\n",
    "\n",
    "print('Base: {0} Consultas: {1}'.format(base.shape, consultas.shape))"
   ]
  },
  {
   "cell_type": "markdown",
   "id": "adef923f",
   "metadata": {},
   "source": [
    "Definimos una función para leer los vectores más cercanos reales (groundtruth) de un archivo .ivecs"
   ]
  },
  {
   "cell_type": "code",
   "execution_count": 6,
   "id": "0febd7ae",
   "metadata": {},
   "outputs": [],
   "source": [
    "def lee_ivecs(ruta):\n",
    "    with open(ruta, 'rb') as f:\n",
    "        d = struct.unpack('i', f.read(4))[0]\n",
    "        n = f.seek(0, os.SEEK_END) // (4 + 4 * d)\n",
    "        f.seek(0)\n",
    "        vecs = np.zeros((n, d), dtype=np.int)\n",
    "        for i in range(n):\n",
    "            f.read(4)\n",
    "            vecs[i] = struct.unpack('i' * d, f.read(d * 4))\n",
    "    return vecs"
   ]
  },
  {
   "cell_type": "markdown",
   "id": "1fabb6d3",
   "metadata": {},
   "source": [
    "Leemos estos vectores."
   ]
  },
  {
   "cell_type": "code",
   "execution_count": 7,
   "id": "a4f7ad94",
   "metadata": {},
   "outputs": [
    {
     "name": "stdout",
     "output_type": "stream",
     "text": [
      "Groundtruth: (100, 100)\n"
     ]
    },
    {
     "name": "stderr",
     "output_type": "stream",
     "text": [
      "/tmp/ipykernel_5891/3781943012.py:6: DeprecationWarning: `np.int` is a deprecated alias for the builtin `int`. To silence this warning, use `int` by itself. Doing this will not modify any behavior and is safe. When replacing `np.int`, you may wish to use e.g. `np.int64` or `np.int32` to specify the precision. If you wish to review your current use, check the release note link for additional information.\n",
      "Deprecated in NumPy 1.20; for more details and guidance: https://numpy.org/devdocs/release/1.20.0-notes.html#deprecations\n",
      "  vecs = np.zeros((n, d), dtype=np.int)\n"
     ]
    }
   ],
   "source": [
    "gt = lee_ivecs('siftsmall/siftsmall_groundtruth.ivecs')\n",
    "print('Groundtruth: {0}'.format(gt.shape))"
   ]
  },
  {
   "cell_type": "markdown",
   "id": "db2002ca",
   "metadata": {},
   "source": [
    "### Distancias l1, l2"
   ]
  },
  {
   "cell_type": "markdown",
   "id": "a75ac771",
   "metadata": {},
   "source": [
    "Definimos nuestra clase de tabla hash con una familia de funciones basada en distribuciones s-estables. En esta familia se elige aleatoriamente una proyección de R sobre una línea, se desplaza por b y se corta en segmentos de tamaño w"
   ]
  },
  {
   "cell_type": "markdown",
   "id": "e87c1775",
   "metadata": {},
   "source": [
    "    Si se muestrea de una distribución normal se obtiene una familia LSH para distancia l2\n",
    "    Si se muestrea de una distribución de Cauchy se obtiene una familia LSH para distancia l1"
   ]
  },
  {
   "cell_type": "code",
   "execution_count": 8,
   "id": "056edd66",
   "metadata": {},
   "outputs": [],
   "source": [
    "class TablaLpLSH:\n",
    "    def __init__(self, n_cubetas, t_tupla, dim, width=4, norma = 'l2'):\n",
    "        self.n_cubetas = n_cubetas\n",
    "        self.tabla = [[] for i in range(n_cubetas)]\n",
    "        self.t_tupla = t_tupla\n",
    "        self.dim = dim\n",
    "        self.w = width\n",
    "\n",
    "        if norma == 'l2':\n",
    "            self.Amat = np.random.standard_normal((t_tupla, dim))\n",
    "        elif norma == 'l1':\n",
    "            self.Amat = np.random.standard_cauchy((t_tupla, dim))\n",
    "\n",
    "        self.bvec = np.random.uniform(low=0, high=self.w, size=t_tupla)\n",
    "        self.a = np.random.randint(0, np.iinfo(np.int32).max, size=self.t_tupla)\n",
    "        self.b = np.random.randint(0, np.iinfo(np.int32).max, size=self.t_tupla)\n",
    "        self.primo = 4294967291\n",
    "\n",
    "    def __repr__(self):\n",
    "        contenido = ['%d::%s' % (i, self.tabla[i]) for i in range(self.n_cubetas)]\n",
    "        return \"<TablaHash :%s >\" % ('\\n'.join(contenido))\n",
    "\n",
    "    def __str__(self):\n",
    "        contenido = ['%d::%s' % (i, self.tabla[i]) for i in range(self.n_cubetas) if self.tabla[i]]\n",
    "        return '\\n'.join(contenido)\n",
    "\n",
    "    def sl(self, x, i):\n",
    "        return (self.h(x) + i) % self.n_cubetas\n",
    "\n",
    "    def h(self, x):\n",
    "        return x % self.primo\n",
    "\n",
    "    def lphash(self, x):\n",
    "        prod = np.floor((self.Amat @ x.T + self.bvec) / self.w).astype(np.uint)\n",
    "        return np.sum(self.a * prod, dtype=np.ulonglong), np.sum(self.b * prod, dtype=np.ulonglong)\n",
    "     \n",
    "    def insertar(self, x, ident):\n",
    "        lph, v2 = self.lphash(x)\n",
    "\n",
    "        llena = True\n",
    "        for i in range(self.n_cubetas):\n",
    "            cubeta = int(self.sl(v2, i))\n",
    "            if not self.tabla[cubeta]:\n",
    "                self.tabla[cubeta].append(lph)\n",
    "                self.tabla[cubeta].append([ident])\n",
    "                llena = False\n",
    "                break\n",
    "            elif self.tabla[cubeta][0] == lph:\n",
    "                self.tabla[cubeta][1].append(ident)\n",
    "                llena = False\n",
    "                break\n",
    "\n",
    "        if llena:\n",
    "            print('¡Error, tabla llena!')\n",
    "\n",
    "    def buscar(self, x):\n",
    "        mh, v2 = self.lphash(x)\n",
    "        for i in range(self.n_cubetas):\n",
    "            cubeta = int(self.sl(v2, i))\n",
    "            if not self.tabla[cubeta]:\n",
    "                return []\n",
    "            elif self.tabla[cubeta][0] == mh:\n",
    "                return self.tabla[cubeta][1]\n",
    "            return []"
   ]
  },
  {
   "cell_type": "code",
   "execution_count": 9,
   "id": "984aedfe",
   "metadata": {},
   "outputs": [
    {
     "data": {
      "text/plain": [
       "array([[ 0., 16., 35., ..., 25., 23.,  1.],\n",
       "       [14., 35., 19., ..., 11., 21., 33.],\n",
       "       [ 0.,  1.,  5., ...,  4., 23., 10.],\n",
       "       ...,\n",
       "       [48.,  1.,  0., ..., 22., 62., 18.],\n",
       "       [ 0.,  0.,  0., ...,  3.,  3., 11.],\n",
       "       [14.,  2.,  0., ...,  0.,  0.,  7.]])"
      ]
     },
     "execution_count": 9,
     "metadata": {},
     "output_type": "execute_result"
    }
   ],
   "source": [
    "base"
   ]
  },
  {
   "cell_type": "code",
   "execution_count": 10,
   "id": "29ee8f37",
   "metadata": {},
   "outputs": [],
   "source": [
    "n_tablas = 30\n",
    "dim = base.shape[1]\n",
    "tablas = [TablaLpLSH(2**14, 4, dim, 4.0, 'l2') for _ in range(n_tablas)]"
   ]
  },
  {
   "cell_type": "markdown",
   "id": "34c09764",
   "metadata": {},
   "source": [
    "\n",
    "\n",
    "Insertamos los vectores en cada tabla.\n"
   ]
  },
  {
   "cell_type": "code",
   "execution_count": 11,
   "id": "6169a21d",
   "metadata": {},
   "outputs": [],
   "source": [
    "for i,x in enumerate(base):\n",
    "    for t in range(n_tablas):\n",
    "        tablas[t].insertar(x, i)"
   ]
  },
  {
   "cell_type": "markdown",
   "id": "79a77b17",
   "metadata": {},
   "source": [
    "Realizamos la búsqueda de los vectores de consulta y recuperamos los vectores más similares del conjunto base."
   ]
  },
  {
   "cell_type": "code",
   "execution_count": 12,
   "id": "99fb45df",
   "metadata": {},
   "outputs": [],
   "source": [
    "vecs = []\n",
    "for i,q in enumerate(consultas):\n",
    "    dc = []\n",
    "    for t in range(n_tablas):\n",
    "        dc.extend(tablas[t].buscar(q))\n",
    "    vecs.append(set(dc))"
   ]
  },
  {
   "cell_type": "markdown",
   "id": "b19f6b40",
   "metadata": {},
   "source": [
    "Calculamos la distancia euclidiana entre cada vector de consulta y sus correspondientes vectores recuperados y los ordenamos por distancia."
   ]
  },
  {
   "cell_type": "code",
   "execution_count": 13,
   "id": "b662d7cc",
   "metadata": {},
   "outputs": [],
   "source": [
    "def distancia_euclidiana(x, y):   \n",
    "    return np.sqrt(np.sum((x - y)**2))\n",
    "\n",
    "def fuerza_bruta(ds, qs, fd):\n",
    "    medidas = np.zeros(ds.shape[0])\n",
    "    for i,x in enumerate(ds):\n",
    "        medidas[i] = fd(qs, x)\n",
    "    return np.sort(medidas), np.argsort(medidas)\n",
    "\n",
    "dists = []\n",
    "orden = []\n",
    "for i,q in enumerate(consultas):\n",
    "    ld = list(vecs[i])\n",
    "    if ld:\n",
    "        m,o = fuerza_bruta(base[ld], q, distancia_euclidiana)\n",
    "        dists.append(m)\n",
    "        orden.append([ld[e] for e in o])\n",
    "    else:\n",
    "        dists.append([])\n",
    "        orden.append([])"
   ]
  },
  {
   "cell_type": "markdown",
   "id": "99364c95",
   "metadata": {},
   "source": [
    "Extraemos los vecinos más cercanos encontrados por LSH y los reales y los comparamos."
   ]
  },
  {
   "cell_type": "code",
   "execution_count": 14,
   "id": "46574e10",
   "metadata": {},
   "outputs": [
    {
     "name": "stdout",
     "output_type": "stream",
     "text": [
      "Promedio encontrados = 0.8\n"
     ]
    }
   ],
   "source": [
    "vmc_lsh = [o[0] if o else -1 for o in orden]\n",
    "vmc_real = [g[0] for g in gt]\n",
    "correcto = [vmc_lsh[i] == vmc_real[i] for i in range(len(vmc_lsh))]\n",
    "print('Promedio encontrados = {0}'.format(np.mean(correcto)))"
   ]
  },
  {
   "cell_type": "markdown",
   "id": "5d1d056f",
   "metadata": {},
   "source": [
    "### Distancia angular"
   ]
  },
  {
   "cell_type": "code",
   "execution_count": 15,
   "id": "506d05a7",
   "metadata": {},
   "outputs": [],
   "source": [
    "class TablaCos:\n",
    "    def __init__(self, n_cubetas, t_tupla, dim):\n",
    "        self.n_cubetas = n_cubetas\n",
    "        self.tabla = [[] for i in range(n_cubetas)]\n",
    "        self.t_tupla = t_tupla\n",
    "        self.dim = dim\n",
    "\n",
    "        self.Amat = np.random.standard_normal((t_tupla, dim))\n",
    "        self.Amat /= np.linalg.norm(self.Amat, axis=1).reshape(-1, 1)\n",
    "        self.a = np.random.randint(0, np.iinfo(np.int32).max, size=self.t_tupla)\n",
    "        self.b = np.random.randint(0, np.iinfo(np.int32).max, size=self.t_tupla)\n",
    "        self.primo = 4294967291\n",
    "\n",
    "    def __repr__(self):\n",
    "        contenido = ['%d::%s' % (i, self.tabla[i]) for i in range(self.n_cubetas)]\n",
    "        return \"<TablaHash :%s >\" % ('\\n'.join(contenido))\n",
    "\n",
    "    def __str__(self):\n",
    "        contenido = ['%d::%s' % (i, self.tabla[i]) for i in range(self.n_cubetas) if self.tabla[i]]\n",
    "        return '\\n'.join(contenido)\n",
    "\n",
    "    def sl(self, x, i):\n",
    "        return (self.h(x) + i) % self.n_cubetas\n",
    "\n",
    "    def h(self, x):\n",
    "        return x % self.primo\n",
    "\n",
    "    def coshash(self, x):\n",
    "        sign = np.sign(self.Amat @ x.T).astype(np.uint)\n",
    "        return np.sum(self.a * sign, dtype=np.ulonglong), np.sum(self.b * sign, dtype=np.ulonglong)\n",
    "     \n",
    "    def insertar(self, x, ident):\n",
    "        ch, v2 = self.coshash(x)\n",
    "\n",
    "        llena = True\n",
    "        for i in range(self.n_cubetas):\n",
    "            cubeta = int(self.sl(v2, i))\n",
    "            if not self.tabla[cubeta]:\n",
    "                self.tabla[cubeta].append(ch)\n",
    "                self.tabla[cubeta].append([ident])\n",
    "                llena = False\n",
    "                break\n",
    "            elif self.tabla[cubeta][0] == ch:\n",
    "                self.tabla[cubeta][1].append(ident)\n",
    "                llena = False\n",
    "                break\n",
    "\n",
    "        if llena:\n",
    "            print('¡Error, tabla llena!')\n",
    "\n",
    "    def buscar(self, x):\n",
    "        ch, v2 = self.coshash(x)\n",
    "\n",
    "        for i in range(self.n_cubetas):\n",
    "            cubeta = int(self.sl(v2, i))\n",
    "            if not self.tabla[cubeta]:\n",
    "                return []\n",
    "            elif self.tabla[cubeta][0] == ch:\n",
    "                return self.tabla[cubeta][1]\n",
    "        return []"
   ]
  },
  {
   "cell_type": "markdown",
   "id": "d9687ca2",
   "metadata": {},
   "source": [
    "\n",
    "\n",
    "Instanciamos nuestras tablas para la distancia angular\n"
   ]
  },
  {
   "cell_type": "code",
   "execution_count": 16,
   "id": "c5a6efd2",
   "metadata": {},
   "outputs": [],
   "source": [
    "n_tablas_cos = 30\n",
    "tablas_cos = [TablaCos(2**14, 4, dim) for _ in range(n_tablas_cos)]"
   ]
  },
  {
   "cell_type": "markdown",
   "id": "dd6dd6d2",
   "metadata": {},
   "source": [
    "Insertamos todos los vectores en cada tabla"
   ]
  },
  {
   "cell_type": "code",
   "execution_count": 17,
   "id": "17a8081b",
   "metadata": {},
   "outputs": [],
   "source": [
    "for i,x in enumerate(base):\n",
    "    for t in range(n_tablas_cos):\n",
    "        tablas_cos[t].insertar(x, i)"
   ]
  },
  {
   "cell_type": "markdown",
   "id": "c4fc4d51",
   "metadata": {},
   "source": [
    "Realizamos la búsqueda de todos vectores de consulta en cada tabla."
   ]
  },
  {
   "cell_type": "code",
   "execution_count": 18,
   "id": "5a95165f",
   "metadata": {},
   "outputs": [],
   "source": [
    "vecs_cos = []\n",
    "for i,q in enumerate(consultas):\n",
    "    dc_cos = []\n",
    "    for t in range(n_tablas_cos):\n",
    "        dc_cos.extend(tablas_cos[t].buscar(q))\n",
    "    vecs_cos.append(set(dc_cos))"
   ]
  },
  {
   "cell_type": "markdown",
   "id": "f0ae1f8b",
   "metadata": {},
   "source": [
    "Definimos una función para calcular la similitud coseno\n",
    "\n",
    "\n",
    "Calculamos la distancia coseno entre cada consulta y los vectores recuperados de las tablas, los cuales se ordenan por su similitud con el vector de consulta."
   ]
  },
  {
   "cell_type": "code",
   "execution_count": 31,
   "id": "c07a1110",
   "metadata": {},
   "outputs": [],
   "source": [
    "def similitud_coseno(x, y):\n",
    "    pnorma = (np.sqrt(x @ x) * np.sqrt(y @ y))\n",
    "\n",
    "    if pnorma > 0:\n",
    "        return (x @ y) / pnorma\n",
    "    else: \n",
    "        return np.nan \n",
    "\n",
    "def fuerza_bruta_cos(ds, qs, fd):\n",
    "    medidas = np.zeros(ds.shape[0])\n",
    "    for i,x in enumerate(ds):\n",
    "        medidas[i] = fd(qs, x)\n",
    "    return np.sort(medidas)[::-1], np.argsort(medidas)[::-1]\n",
    "\n",
    "sims_cos = []\n",
    "orden_cos = []\n",
    "for i,q in enumerate(consultas):\n",
    "    ldc = list(vecs_cos[i])\n",
    "    if ldc:\n",
    "        mc,oc = fuerza_bruta_cos(base[ldc], q, similitud_coseno)\n",
    "        sims_cos.append(mc)\n",
    "        orden_cos.append([ldc[e] for e in oc])\n",
    "    else:\n",
    "        sims_cos.append([])\n",
    "        orden_cos.append([])"
   ]
  },
  {
   "cell_type": "markdown",
   "id": "7249cdfb",
   "metadata": {},
   "source": [
    "Comparamos los vecinos más cercanos encontrados por LSH y los reales."
   ]
  },
  {
   "cell_type": "code",
   "execution_count": 32,
   "id": "3cf61eed",
   "metadata": {},
   "outputs": [
    {
     "name": "stdout",
     "output_type": "stream",
     "text": [
      "Promedio encontrados = 0.98\n"
     ]
    }
   ],
   "source": [
    "vmc_lshcos = [o[0] if o else -1 for o in orden_cos]\n",
    "vmc_real = [g[0] for g in gt]\n",
    "correctos_cos = [vmc_lshcos[i] == vmc_real[i] for i in range(len(vmc_lshcos))]\n",
    "print('Promedio encontrados = {0}'.format(np.mean(correctos_cos)))"
   ]
  },
  {
   "cell_type": "markdown",
   "id": "7dd5b6a3",
   "metadata": {},
   "source": [
    "## Ejercicio"
   ]
  },
  {
   "cell_type": "markdown",
   "id": "dab32740",
   "metadata": {},
   "source": [
    "\n",
    "    Compara el desempeño de los algoritmos usando distintos hiperparámetros\n",
    "    Usa otro conjunto de datos para evaluar los algoritmos\n"
   ]
  },
  {
   "cell_type": "code",
   "execution_count": null,
   "id": "cb94ef05",
   "metadata": {},
   "outputs": [],
   "source": []
  }
 ],
 "metadata": {
  "kernelspec": {
   "display_name": "Python 3 (ipykernel)",
   "language": "python",
   "name": "python3"
  },
  "language_info": {
   "codemirror_mode": {
    "name": "ipython",
    "version": 3
   },
   "file_extension": ".py",
   "mimetype": "text/x-python",
   "name": "python",
   "nbconvert_exporter": "python",
   "pygments_lexer": "ipython3",
   "version": "3.8.10"
  }
 },
 "nbformat": 4,
 "nbformat_minor": 5
}
