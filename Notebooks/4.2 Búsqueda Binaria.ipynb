{
 "cells": [
  {
   "cell_type": "markdown",
   "id": "b2a548b2",
   "metadata": {},
   "source": [
    "## Búsqueda Binaria"
   ]
  },
  {
   "cell_type": "code",
   "execution_count": null,
   "id": "230a7c15",
   "metadata": {},
   "outputs": [],
   "source": [
    "import numpy as np\n",
    "import math"
   ]
  },
  {
   "cell_type": "code",
   "execution_count": null,
   "id": "14025489",
   "metadata": {},
   "outputs": [],
   "source": [
    "def busqueda_binaria(n_busca, flujo, n_intentos = 0):\n",
    "    if len(flujo) != 0:\n",
    "        min_ = flujo.min()\n",
    "        max_ = flujo.max()\n",
    "        promedio = math.floor((min_+max_)/2)\n",
    "        if promedio == n_busca:\n",
    "            print(\"se encontró en el intento: \", n_intentos)\n",
    "        else:\n",
    "            n_intentos += 1\n",
    "            centinela = np.where(flujo == promedio)[0][0]\n",
    "            if promedio < n_busca:\n",
    "                flujo = flujo[centinela:]\n",
    "            else:\n",
    "                flujo = flujo[:centinela]\n",
    "            print(promedio, min_, max_)\n",
    "            busqueda_binaria(n_busca, flujo, n_intentos)\n",
    "    else:\n",
    "        print('No se encontró el elemento buscado')"
   ]
  },
  {
   "cell_type": "code",
   "execution_count": null,
   "id": "0b212626",
   "metadata": {},
   "outputs": [],
   "source": [
    "flujo = np.arange(1, 201)"
   ]
  },
  {
   "cell_type": "code",
   "execution_count": null,
   "id": "73f08da0",
   "metadata": {},
   "outputs": [],
   "source": [
    "n_busca = \"q\""
   ]
  },
  {
   "cell_type": "code",
   "execution_count": null,
   "id": "8c68f50c",
   "metadata": {},
   "outputs": [],
   "source": [
    "busqueda_binaria(n_busca, flujo)"
   ]
  },
  {
   "cell_type": "markdown",
   "id": "a1a45549",
   "metadata": {},
   "source": [
    "## Ejercicio "
   ]
  },
  {
   "cell_type": "markdown",
   "id": "7fc251fc",
   "metadata": {},
   "source": [
    "Implementa el código para búsqueda de nombres en python & agrega las validaciones necesarias que le falten al código anterior"
   ]
  },
  {
   "cell_type": "markdown",
   "id": "9b892d3e",
   "metadata": {},
   "source": [
    "## Tarea (práctica)"
   ]
  },
  {
   "cell_type": "markdown",
   "id": "7e38252e",
   "metadata": {},
   "source": [
    "Implementa el código en pyspark"
   ]
  },
  {
   "cell_type": "code",
   "execution_count": null,
   "id": "ceb01261",
   "metadata": {},
   "outputs": [],
   "source": []
  }
 ],
 "metadata": {
  "kernelspec": {
   "display_name": "Python 3 (ipykernel)",
   "language": "python",
   "name": "python3"
  },
  "language_info": {
   "codemirror_mode": {
    "name": "ipython",
    "version": 3
   },
   "file_extension": ".py",
   "mimetype": "text/x-python",
   "name": "python",
   "nbconvert_exporter": "python",
   "pygments_lexer": "ipython3",
   "version": "3.8.10"
  }
 },
 "nbformat": 4,
 "nbformat_minor": 5
}
