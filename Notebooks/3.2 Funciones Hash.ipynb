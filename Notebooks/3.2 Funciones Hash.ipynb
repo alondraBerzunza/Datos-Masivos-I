{
 "cells": [
  {
   "cell_type": "code",
   "execution_count": 1,
   "id": "938eeb70",
   "metadata": {},
   "outputs": [],
   "source": [
    "from abc import ABC, abstractmethod \n",
    "from math import floor, sqrt, exp\n",
    "\n",
    "import random\n",
    "\n",
    "import numpy as np\n",
    "import matplotlib.pyplot as plt"
   ]
  },
  {
   "cell_type": "code",
   "execution_count": 2,
   "id": "61d775f8",
   "metadata": {},
   "outputs": [],
   "source": [
    "# Para reproducibilidad\n",
    "semilla = 123\n",
    "random.seed(semilla)\n",
    "np.random.seed(semilla)"
   ]
  },
  {
   "cell_type": "markdown",
   "id": "c9e351cf",
   "metadata": {},
   "source": [
    "### Diccionarios en Python"
   ]
  },
  {
   "cell_type": "markdown",
   "id": "786a999a",
   "metadata": {},
   "source": [
    "Los diccionarios de Python se llevan a cabo a través de tablas hash. Por ej. podemos almacenar 2 conjuntos usando esta estructura de datos."
   ]
  },
  {
   "cell_type": "code",
   "execution_count": 3,
   "id": "9d90cd50",
   "metadata": {},
   "outputs": [
    {
     "name": "stdout",
     "output_type": "stream",
     "text": [
      "O1 = (0, 2, 0, 4), O2 = (1, 2, 0, 2)\n"
     ]
    }
   ],
   "source": [
    "o = {}\n",
    "o['O1']=(0, 2, 0, 4)\n",
    "o['O2']=(1, 2, 0, 2)\n",
    "    \n",
    "print('O1 = {0}, O2 = {1}'.format(o['O1'], o['O2']))"
   ]
  },
  {
   "cell_type": "code",
   "execution_count": 4,
   "id": "42a58e58",
   "metadata": {},
   "outputs": [
    {
     "data": {
      "text/plain": [
       "{'O1': (0, 2, 0, 4), 'O2': (1, 2, 0, 2)}"
      ]
     },
     "execution_count": 4,
     "metadata": {},
     "output_type": "execute_result"
    }
   ],
   "source": [
    "o"
   ]
  },
  {
   "cell_type": "markdown",
   "id": "95e864c0",
   "metadata": {},
   "source": [
    "También es posible hacer lo contrario."
   ]
  },
  {
   "cell_type": "code",
   "execution_count": 5,
   "id": "61078fea",
   "metadata": {},
   "outputs": [
    {
     "name": "stdout",
     "output_type": "stream",
     "text": [
      "(0,2,0,4) = o1\n",
      "(1,2,0,2) = o2\n"
     ]
    }
   ],
   "source": [
    "o2 = {}\n",
    "o2[(0,2,0,4)]='o1'\n",
    "o2[(1,2,0,2)]='o2'\n",
    "\n",
    "print('(0,2,0,4) = {0}'.format(o2[(0,2,0,4)]))\n",
    "print('(1,2,0,2) = {0}'.format(o2[(1,2,0,2)]))"
   ]
  },
  {
   "cell_type": "code",
   "execution_count": 6,
   "id": "bda791ec",
   "metadata": {},
   "outputs": [
    {
     "data": {
      "text/plain": [
       "{(0, 2, 0, 4): 'o1', (1, 2, 0, 2): 'o2'}"
      ]
     },
     "execution_count": 6,
     "metadata": {},
     "output_type": "execute_result"
    }
   ],
   "source": [
    "o2"
   ]
  },
  {
   "cell_type": "markdown",
   "id": "d8acf826",
   "metadata": {},
   "source": [
    "Más generalmente podemos crear diccionarios usando cualquier tipo o estructura de datos al que se le pueda aplicar la función hash."
   ]
  },
  {
   "cell_type": "code",
   "execution_count": 7,
   "id": "40322caf",
   "metadata": {},
   "outputs": [
    {
     "name": "stdout",
     "output_type": "stream",
     "text": [
      "Hash de 1 es 1\n",
      "Hash de 3.14 es 322818021289917443\n",
      "Hash de '10' es 4655771077169673411\n",
      "Hash de (1,2) es -3550055125485641917\n",
      "Hash de (1,2,0,2) es -7331918113253585507\n"
     ]
    }
   ],
   "source": [
    "print('Hash de 1 es {0}'.format(hash(1)))\n",
    "print('Hash de 3.14 es {0}'.format(hash(3.14)))\n",
    "print('Hash de \\'10\\' es {0}'.format(hash('10')))\n",
    "print('Hash de (1,2) es {0}'.format(hash((1,2))))\n",
    "print('Hash de (1,2,0,2) es {0}'.format(hash((1,2,0,2))))"
   ]
  },
  {
   "cell_type": "markdown",
   "id": "d9a69713",
   "metadata": {},
   "source": [
    "### Creando tablas hash en Python"
   ]
  },
  {
   "cell_type": "markdown",
   "id": "37be0176",
   "metadata": {},
   "source": [
    "Definimos una clase abstracta para nuestra estructura de datos, especificando sus métodos principales."
   ]
  },
  {
   "cell_type": "code",
   "execution_count": 8,
   "id": "136cb76e",
   "metadata": {},
   "outputs": [],
   "source": [
    "class TablaHash(ABC):\n",
    "    def __init__(self, n_cubetas):\n",
    "        self.n_cubetas = n_cubetas\n",
    "        self.tabla = [[] for i in range(n_cubetas)]\n",
    "\n",
    "    def __getitem__(self, x):\n",
    "        return self.tabla[self.h(x)]\n",
    "\n",
    "    def __repr__(self):\n",
    "        contenido = ['%d::%s' % (i, self.tabla[i]) for i in range(self.n_cubetas)]\n",
    "        return \"<TablaHash :%s >\" % ('\\n'.join(contenido))\n",
    "\n",
    "    def __str__(self):\n",
    "        contenido = ['%d::%s' % (i, self.tabla[i]) for i in range(self.n_cubetas) if self.tabla[i]]\n",
    "        return '\\n'.join(contenido)\n",
    "\n",
    "    @abstractmethod\n",
    "    def h(self, x):\n",
    "        pass\n",
    "\n",
    "    @abstractmethod\n",
    "    def insertar(self, x):\n",
    "        pass\n",
    "\n",
    "    @abstractmethod\n",
    "    def buscar(self, x):\n",
    "        pass\n",
    "\n",
    "    @abstractmethod\n",
    "    def eliminar(self, x):\n",
    "        pass"
   ]
  },
  {
   "cell_type": "markdown",
   "id": "40d699de",
   "metadata": {},
   "source": [
    "Familia H por método de división"
   ]
  },
  {
   "cell_type": "markdown",
   "id": "bcdc8521",
   "metadata": {},
   "source": [
    "Definimos una clase hija de TablaHash que implemente la función del método de división. Para resolver colisiones usamos encadenamiento, esto es, cada cubeta o registro de la tabla es una lista que contiene todos los objetos que son mapeados al índice correspondiente."
   ]
  },
  {
   "cell_type": "code",
   "execution_count": 9,
   "id": "8e22b9a7",
   "metadata": {},
   "outputs": [],
   "source": [
    "class THMod(TablaHash):\n",
    "    def h(self, x):\n",
    "        return x % self.n_cubetas\n",
    "\n",
    "    def insertar(self, x):\n",
    "        self.tabla[self.h(x)].append(x)\n",
    "\n",
    "    def buscar(self, x):\n",
    "        return x in self.tabla[h(x)]\n",
    "\n",
    "    def eliminar(self, x):\n",
    "        self.tabla[self.h(x)].remove(x)"
   ]
  },
  {
   "cell_type": "markdown",
   "id": "cdc1eacc",
   "metadata": {},
   "source": [
    "Probemos nuestra tabla con un conjunto 5 de números"
   ]
  },
  {
   "cell_type": "code",
   "execution_count": 10,
   "id": "10bb59f1",
   "metadata": {},
   "outputs": [
    {
     "name": "stdout",
     "output_type": "stream",
     "text": [
      "1::[1, 78]\n",
      "3::[36]\n",
      "5::[93]\n",
      "10::[10]\n"
     ]
    }
   ],
   "source": [
    "enteros = [1, 10, 36, 78, 93]\n",
    "n_cubetas = 11\n",
    "\n",
    "thmod = THMod(n_cubetas)\n",
    "for i,e in enumerate(enteros):\n",
    "    thmod.insertar(e)\n",
    "print(thmod)"
   ]
  },
  {
   "cell_type": "markdown",
   "id": "9520aac9",
   "metadata": {},
   "source": [
    "¿Qué pasa si tenemos una lista de objetos más grande?"
   ]
  },
  {
   "cell_type": "code",
   "execution_count": 11,
   "id": "eb8c8fed",
   "metadata": {},
   "outputs": [
    {
     "name": "stdout",
     "output_type": "stream",
     "text": [
      "0::[1155, 1232]\n",
      "1::[12310, 12, 882113, 782]\n",
      "2::[12454]\n",
      "3::[36, 69]\n",
      "4::[4]\n",
      "5::[27]\n",
      "6::[9433]\n",
      "7::[864189, 634]\n",
      "8::[481]\n",
      "9::[9865]\n",
      "10::[73523, 39654]\n"
     ]
    }
   ],
   "source": [
    "enteros = [12454, 73523, 9865, 12310, 12, 864189, 882113, 27, 36, 39654, 4, 481, 1155, 634, 69, 782, 1232, 9433]\n",
    "\n",
    "thmod_mas = THMod(n_cubetas)\n",
    "for i,e in enumerate(enteros):\n",
    "    thmod_mas.insertar(e)\n",
    "print(thmod_mas)"
   ]
  },
  {
   "cell_type": "markdown",
   "id": "62d6c9ec",
   "metadata": {},
   "source": [
    "Para evitar colisiones podemos aumentar el tamaño de la tabla. Suponiendo que la función anterior es uniforme, ¿cuál sería la probabilidad de colisión si deseamos almacenar n objetos en una tabla de tamaño m? Podemos calcular esta probabilidad como el complemento de la probabilidad que no haya colisión."
   ]
  },
  {
   "cell_type": "code",
   "execution_count": 12,
   "id": "752f9efb",
   "metadata": {},
   "outputs": [],
   "source": [
    "def cumple(m, n):\n",
    "    prod = 1\n",
    "    for i in range(n):\n",
    "        prod *= (m - i) / m\n",
    "    return 1.0 - prod"
   ]
  },
  {
   "cell_type": "markdown",
   "id": "c55f02cc",
   "metadata": {},
   "source": [
    "Este problema está relacionado a la paradoja del cumpleaños, en el cual se tienen un conjunto de personas y se busca calular la probabilidad de que al menos 2 personas cumplan años el mismo día. En este caso las probabilidades para diferentes valores de quedan de la siguiente manera:"
   ]
  },
  {
   "cell_type": "code",
   "execution_count": 13,
   "id": "3ae1ad96",
   "metadata": {},
   "outputs": [
    {
     "data": {
      "image/png": "[encoded data removed]",
      "text/plain": [
       "<Figure size 432x288 with 1 Axes>"
      ]
     },
     "metadata": {
      "needs_background": "light"
     },
     "output_type": "display_data"
    }
   ],
   "source": [
    "pcs = []\n",
    "n_personas = range(1,90,5)\n",
    "for n in n_personas:\n",
    "    pcs.append(cumple(365, n))\n",
    "\n",
    "plt.plot(range(1,90,5), pcs)\n",
    "plt.show()"
   ]
  },
  {
   "cell_type": "markdown",
   "id": "b3de8d8f",
   "metadata": {},
   "source": [
    "Regresando al problema de las colisiones en nuestra tabla m=11, las probabilidades para serían"
   ]
  },
  {
   "cell_type": "code",
   "execution_count": 14,
   "id": "8b828651",
   "metadata": {},
   "outputs": [
    {
     "data": {
      "image/png": "[encoded data removed]",
      "text/plain": [
       "<Figure size 432x288 with 1 Axes>"
      ]
     },
     "metadata": {
      "needs_background": "light"
     },
     "output_type": "display_data"
    }
   ],
   "source": [
    "pcs = []\n",
    "n_personas = range(1,20,5)\n",
    "for n in n_personas:\n",
    "    pcs.append(cumple(11, n))\n",
    "\n",
    "plt.plot(n_personas, pcs)\n",
    "plt.show()"
   ]
  },
  {
   "cell_type": "markdown",
   "id": "ddee5c19",
   "metadata": {},
   "source": [
    "Podemos hacer más grande el tamaño de la tabla para reducir el número de colisiones. La probabilidad de colisión para n=18 y diferentes valores de m es"
   ]
  },
  {
   "cell_type": "code",
   "execution_count": 15,
   "id": "b7f61887",
   "metadata": {},
   "outputs": [
    {
     "data": {
      "text/plain": [
       "[12454,\n",
       " 73523,\n",
       " 9865,\n",
       " 12310,\n",
       " 12,\n",
       " 864189,\n",
       " 882113,\n",
       " 27,\n",
       " 36,\n",
       " 39654,\n",
       " 4,\n",
       " 481,\n",
       " 1155,\n",
       " 634,\n",
       " 69,\n",
       " 782,\n",
       " 1232,\n",
       " 9433]"
      ]
     },
     "execution_count": 15,
     "metadata": {},
     "output_type": "execute_result"
    }
   ],
   "source": [
    "enteros"
   ]
  },
  {
   "cell_type": "code",
   "execution_count": 16,
   "id": "f851845f",
   "metadata": {},
   "outputs": [],
   "source": [
    "emes = range(1, 1500, 100)\n",
    "n = len(enteros)\n",
    "probs = []\n",
    "for m in emes:\n",
    "    probs.append(cumple(m, n))"
   ]
  },
  {
   "cell_type": "markdown",
   "id": "396759a3",
   "metadata": {},
   "source": [
    "En lugar de hacer el cálculo de la probabilidad exacta con la función cumple, es posible aproximarla de la siguiente manera:"
   ]
  },
  {
   "cell_type": "code",
   "execution_count": 17,
   "id": "66de8303",
   "metadata": {},
   "outputs": [],
   "source": [
    "def cumple_aprox(m, n):\n",
    "    return 1.0 - exp((-n**2) / (2 * m))\n",
    "\n",
    "aprox = []\n",
    "for m in emes:\n",
    "    aprox.append(cumple_aprox(m, n))"
   ]
  },
  {
   "cell_type": "markdown",
   "id": "0d3b6463",
   "metadata": {},
   "source": [
    "Graficamos las probabilidades de colisión con diferentes tamaños de tabla calculadas con las 2 estrategias"
   ]
  },
  {
   "cell_type": "code",
   "execution_count": 18,
   "id": "c9504c7b",
   "metadata": {},
   "outputs": [
    {
     "data": {
      "image/png": "[encoded data removed]",
      "text/plain": [
       "<Figure size 432x288 with 1 Axes>"
      ]
     },
     "metadata": {
      "needs_background": "light"
     },
     "output_type": "display_data"
    }
   ],
   "source": [
    "plt.plot(emes, probs, label='$P[h(x) = h(y)]$')\n",
    "plt.plot(emes, aprox, label='Aproximación')\n",
    "plt.legend()\n",
    "plt.show()"
   ]
  },
  {
   "cell_type": "markdown",
   "id": "6e42736e",
   "metadata": {},
   "source": [
    "Asimismo, podemos calcular el número esperado de colisiones para valores dados de n y m de la siguiente manera"
   ]
  },
  {
   "cell_type": "code",
   "execution_count": 19,
   "id": "442d093d",
   "metadata": {},
   "outputs": [],
   "source": [
    "def n_colisiones_esperado(m, n): \n",
    "    return n - m * (1 - ((m - 1) / m)**n)"
   ]
  },
  {
   "cell_type": "markdown",
   "id": "b84a2e15",
   "metadata": {},
   "source": [
    "Para una tabla con 11 cubetas y 18 números a almacenar esperaríamos el siguiente número de colisiones:"
   ]
  },
  {
   "cell_type": "code",
   "execution_count": 20,
   "id": "74ebc14d",
   "metadata": {},
   "outputs": [
    {
     "data": {
      "text/plain": [
       "8.978446689001352"
      ]
     },
     "execution_count": 20,
     "metadata": {},
     "output_type": "execute_result"
    }
   ],
   "source": [
    "n_colisiones_esperado(11, 18)"
   ]
  },
  {
   "cell_type": "markdown",
   "id": "37a2811f",
   "metadata": {},
   "source": [
    "El número de colisiones que ocurrieron para el caso anterior fue:"
   ]
  },
  {
   "cell_type": "code",
   "execution_count": 21,
   "id": "13fd7b91",
   "metadata": {},
   "outputs": [
    {
     "data": {
      "text/plain": [
       "7"
      ]
     },
     "execution_count": 21,
     "metadata": {},
     "output_type": "execute_result"
    }
   ],
   "source": [
    "sum([len(c) - 1 for c in thmod_mas.tabla if len(c) > 1])"
   ]
  },
  {
   "cell_type": "markdown",
   "id": "151592d4",
   "metadata": {},
   "source": [
    "Si aumentamos el tamaño de la tabla a 281 cubetas esperaríamos"
   ]
  },
  {
   "cell_type": "code",
   "execution_count": 22,
   "id": "b07031a3",
   "metadata": {},
   "outputs": [
    {
     "data": {
      "text/plain": [
       "0.5342863185881868"
      ]
     },
     "execution_count": 22,
     "metadata": {},
     "output_type": "execute_result"
    }
   ],
   "source": [
    "n_cubetas = 281\n",
    "n_colisiones_esperado(n_cubetas, 18)"
   ]
  },
  {
   "cell_type": "markdown",
   "id": "08ecae10",
   "metadata": {},
   "source": [
    "Registremos los números en una tabla con este número de cubetas"
   ]
  },
  {
   "cell_type": "code",
   "execution_count": 23,
   "id": "40b81c40",
   "metadata": {},
   "outputs": [
    {
     "name": "stdout",
     "output_type": "stream",
     "text": [
      "4::[4]\n",
      "12::[12]\n",
      "27::[27]\n",
      "30::[9865]\n",
      "31::[1155]\n",
      "33::[39654]\n",
      "36::[36]\n",
      "54::[882113]\n",
      "69::[69]\n",
      "72::[634]\n",
      "90::[12454]\n",
      "108::[1232]\n",
      "114::[864189]\n",
      "160::[9433]\n",
      "182::[73523]\n",
      "200::[481]\n",
      "220::[782]\n",
      "227::[12310]\n"
     ]
    }
   ],
   "source": [
    "thmod_grande = THMod(n_cubetas)\n",
    "for i,e in enumerate(enteros):\n",
    "    thmod_grande.insertar(e)\n",
    "print(thmod_grande)"
   ]
  },
  {
   "cell_type": "code",
   "execution_count": 24,
   "id": "7a72e201",
   "metadata": {},
   "outputs": [
    {
     "data": {
      "text/plain": [
       "18"
      ]
     },
     "execution_count": 24,
     "metadata": {},
     "output_type": "execute_result"
    }
   ],
   "source": [
    "len(enteros)"
   ]
  },
  {
   "cell_type": "markdown",
   "id": "3b5399ed",
   "metadata": {},
   "source": [
    "Si tenemos más números para almacenar, el número esperado de colisiones sería:"
   ]
  },
  {
   "cell_type": "code",
   "execution_count": 25,
   "id": "8a61c607",
   "metadata": {},
   "outputs": [
    {
     "data": {
      "text/plain": [
       "56.73636182748538"
      ]
     },
     "execution_count": 25,
     "metadata": {},
     "output_type": "execute_result"
    }
   ],
   "source": [
    "n_objetos = 200\n",
    "n_colisiones_esperado(n_cubetas, n_objetos)"
   ]
  },
  {
   "cell_type": "markdown",
   "id": "afc3c2ec",
   "metadata": {},
   "source": [
    "Veamos que pasa con nuestra tabla anterior si almacenamos 200 números"
   ]
  },
  {
   "cell_type": "code",
   "execution_count": 26,
   "id": "c317e9a2",
   "metadata": {},
   "outputs": [
    {
     "name": "stdout",
     "output_type": "stream",
     "text": [
      "2::[189396]\n",
      "6::[555543]\n",
      "8::[821652]\n",
      "11::[4968934]\n",
      "14::[1956898]\n",
      "17::[5309512]\n",
      "19::[822787]\n",
      "21::[4090819]\n",
      "22::[5231680, 3817407]\n",
      "23::[1574185]\n",
      "25::[3710068, 347060]\n",
      "27::[48078]\n",
      "28::[4617139, 2289897]\n",
      "29::[3439750]\n",
      "30::[41337, 4024793]\n",
      "31::[1720313, 628628]\n",
      "32::[1242052, 2292430]\n",
      "33::[2978633, 5600644]\n",
      "38::[4327719]\n",
      "41::[2166551, 337803]\n",
      "42::[1324114, 4154065]\n",
      "43::[892780]\n",
      "44::[211637, 1749269]\n",
      "46::[3454379]\n",
      "47::[1650360, 220632]\n",
      "48::[2821569]\n",
      "49::[2707203]\n",
      "51::[621904]\n",
      "52::[5387103]\n",
      "55::[755102]\n",
      "57::[1963123]\n",
      "60::[4242879]\n",
      "61::[57385]\n",
      "63::[1917045]\n",
      "65::[3839087]\n",
      "66::[5603206]\n",
      "67::[1779359]\n",
      "68::[3777270]\n",
      "69::[2742067]\n",
      "70::[5643674]\n",
      "71::[1435419]\n",
      "72::[970365, 2344174]\n",
      "74::[1885584]\n",
      "76::[5130574]\n",
      "82::[276586]\n",
      "83::[1563848]\n",
      "85::[2670428]\n",
      "87::[4657381]\n",
      "89::[2411350]\n",
      "91::[153798]\n",
      "94::[971230]\n",
      "96::[310882]\n",
      "99::[3021130, 1952206]\n",
      "100::[3287238]\n",
      "102::[1271627]\n",
      "104::[1493619]\n",
      "105::[4791155]\n",
      "106::[1594219]\n",
      "107::[3656479, 4487958]\n",
      "108::[267339, 1198011, 337870, 4679039]\n",
      "109::[175172]\n",
      "110::[3265611]\n",
      "111::[1269950]\n",
      "112::[250764]\n",
      "115::[4606267, 2057878]\n",
      "117::[278869, 3164458, 2205686]\n",
      "120::[981934]\n",
      "123::[2658102]\n",
      "131::[462376, 3218143]\n",
      "132::[642217, 2084309, 5449003]\n",
      "133::[5777493]\n",
      "134::[3698656]\n",
      "137::[726522, 3561812]\n",
      "138::[4724310]\n",
      "139::[5804194]\n",
      "141::[5089613]\n",
      "142::[4991264]\n",
      "143::[545845]\n",
      "145::[983083]\n",
      "147::[2675548, 2600521, 5330155, 2633398]\n",
      "153::[170158, 4214310]\n",
      "154::[3666361]\n",
      "159::[3892571]\n",
      "160::[3281116]\n",
      "163::[3577574]\n",
      "167::[2449363]\n",
      "172::[1319748, 1978974]\n",
      "174::[3450292]\n",
      "175::[3165640]\n",
      "177::[4224731]\n",
      "178::[2379967]\n",
      "180::[1956783]\n",
      "182::[3241798]\n",
      "183::[3800146, 4006681, 192668]\n",
      "184::[2631187, 2423528]\n",
      "185::[4223334]\n",
      "186::[1819380, 210093]\n",
      "189::[5128439]\n",
      "192::[3250238]\n",
      "194::[2616304]\n",
      "197::[307330]\n",
      "202::[3890085, 1889646, 4600734]\n",
      "203::[3088955, 2934686]\n",
      "204::[1990246, 1480231]\n",
      "211::[4332107, 812863]\n",
      "213::[2481724, 4506048]\n",
      "214::[3157530, 2596373]\n",
      "215::[5193657]\n",
      "216::[933136]\n",
      "217::[337698, 708899, 4813185]\n",
      "219::[5780389]\n",
      "221::[4324249]\n",
      "225::[2294871, 2080187]\n",
      "229::[2597793]\n",
      "231::[5844750, 2929656]\n",
      "232::[5777873, 3122423]\n",
      "233::[5493783]\n",
      "234::[4941057]\n",
      "235::[3140129, 3989592]\n",
      "239::[1410016]\n",
      "240::[3109505, 3921314]\n",
      "241::[4999231, 3352009]\n",
      "243::[1823933, 311029]\n",
      "246::[1295375, 2247122]\n",
      "247::[1270367, 1640163]\n",
      "248::[2911970]\n",
      "250::[2059699]\n",
      "251::[102816]\n",
      "252::[655544, 593162, 1627523, 143843]\n",
      "255::[2693640, 4101169]\n",
      "258::[5290083, 3300041]\n",
      "261::[1832662, 4513402]\n",
      "263::[2787502]\n",
      "265::[5219559, 5540461]\n",
      "267::[4674140, 5423286]\n",
      "268::[5048714, 3929210]\n",
      "269::[502416]\n",
      "270::[3484389]\n",
      "274::[4982966]\n",
      "279::[3201993]\n"
     ]
    }
   ],
   "source": [
    "conj = np.random.randint(1000, high=5890123, size=n_objetos)\n",
    "thmod_mas_grande = THMod(n_cubetas)\n",
    "for i,e in enumerate(conj):\n",
    "    thmod_mas_grande.insertar(e)\n",
    "print(thmod_mas_grande)"
   ]
  },
  {
   "cell_type": "markdown",
   "id": "595ac0b7",
   "metadata": {},
   "source": [
    "Examinemos la cantidad de números mapeados a cada cubeta por nuestra función hash"
   ]
  },
  {
   "cell_type": "code",
   "execution_count": 27,
   "id": "fd1dcfb6",
   "metadata": {},
   "outputs": [
    {
     "data": {
      "image/png": "[encoded data removed]",
      "text/plain": [
       "<Figure size 432x288 with 1 Axes>"
      ]
     },
     "metadata": {
      "needs_background": "light"
     },
     "output_type": "display_data"
    }
   ],
   "source": [
    "cubetas = [c for c in range(n_cubetas)]\n",
    "tam_cubetas = [len(c) for c in thmod_mas_grande.tabla]\n",
    "plt.bar(cubetas, tam_cubetas)\n",
    "plt.xlabel('Cubeta')\n",
    "plt.ylabel(u'Número de colisiones')\n",
    "plt.show()"
   ]
  },
  {
   "cell_type": "markdown",
   "id": "3331baa1",
   "metadata": {},
   "source": [
    "El número de colisiones que ocurrieron"
   ]
  },
  {
   "cell_type": "code",
   "execution_count": 28,
   "id": "bebab449",
   "metadata": {},
   "outputs": [
    {
     "data": {
      "text/plain": [
       "60"
      ]
     },
     "execution_count": 28,
     "metadata": {},
     "output_type": "execute_result"
    }
   ],
   "source": [
    "sum([len(c) - 1 for c in thmod_mas_grande.tabla if len(c) > 1])"
   ]
  },
  {
   "cell_type": "markdown",
   "id": "06b7fba5",
   "metadata": {},
   "source": [
    "#### Direccionamiento abierto"
   ]
  },
  {
   "cell_type": "markdown",
   "id": "16750a36",
   "metadata": {},
   "source": [
    "En lugar de usar encadenamiento, podemos usar direccionamiento abierto resolver colisiones. En esta estrategia, si hay una colisión, se sondean otras cubetas o registros en la tabla hasta encontrar una libre. Si no hay ninguna disponible decimos que la tabla está llena y es necesario aumentar su tamaño para poder almacenar más objetos.\n",
    "\n",
    "Para determinar el siguiente índice a examinar es necesario extender la función hash para que incorpore la información de índice. Esta función debe garantizar que se examinen todos los índices en caso de que ninguno esté disponible."
   ]
  },
  {
   "cell_type": "markdown",
   "id": "cf1726b7",
   "metadata": {},
   "source": [
    "##### Sondeo lineal"
   ]
  },
  {
   "cell_type": "code",
   "execution_count": 29,
   "id": "70ad2beb",
   "metadata": {},
   "outputs": [],
   "source": [
    "class THOA(TablaHash):\n",
    "    def __init__(self, n_cubetas):\n",
    "        super().__init__(n_cubetas)\n",
    "        self.colisiones = np.zeros(n_cubetas)\n",
    "\n",
    "    def sl(self, cubeta, i):\n",
    "        return (cubeta + i) % self.n_cubetas\n",
    "\n",
    "    def insertar(self, x):\n",
    "        llena = True\n",
    "        cubeta = self.h(x)  \n",
    "        self.colisiones[cubeta] += 1\n",
    "        for i in range(self.n_cubetas):\n",
    "            ind = self.sl(cubeta, i)\n",
    "            if not self.tabla[ind]:\n",
    "                self.tabla[ind].append(x)\n",
    "                llena = False\n",
    "                break\n",
    "\n",
    "        if llena:\n",
    "            print('Tabla llena')\n",
    "\n",
    "    def buscar(self, x):\n",
    "        cubeta = self.h(x)\n",
    "        for i in range(self.n_cubetas):\n",
    "            ind = self.sl(cubeta, i)\n",
    "            if self.tabla[ind][0] == x:\n",
    "                return ind\n",
    "\n",
    "        return -1\n",
    "\n",
    "    def eliminar(self, x):\n",
    "        cubeta = self.h(x)\n",
    "        for i in range(self.n_cubetas):\n",
    "            ind = self.sl(cubeta, i)\n",
    "            if self.tabla[ind][0] == x:\n",
    "                self.tabla[ind].remove(x)\n",
    "                return ind\n",
    "\n",
    "        return -1\n",
    "\n",
    "class THModOA(THOA):\n",
    "    def h(self, x):\n",
    "        return x % self.n_cubetas "
   ]
  },
  {
   "cell_type": "markdown",
   "id": "db7dfdd6",
   "metadata": {},
   "source": [
    "Intentemos nuevamente con el conjunto anterior usando esta estrategia"
   ]
  },
  {
   "cell_type": "code",
   "execution_count": 30,
   "id": "b7d1cf04",
   "metadata": {},
   "outputs": [
    {
     "name": "stdout",
     "output_type": "stream",
     "text": [
      "2::[189396]\n",
      "6::[555543]\n",
      "8::[821652]\n",
      "11::[4968934]\n",
      "14::[1956898]\n",
      "17::[5309512]\n",
      "19::[822787]\n",
      "21::[4090819]\n",
      "22::[5231680]\n",
      "23::[1574185]\n",
      "24::[3817407]\n",
      "25::[3710068]\n",
      "26::[347060]\n",
      "27::[48078]\n",
      "28::[4617139]\n",
      "29::[3439750]\n",
      "30::[41337]\n",
      "31::[1720313]\n",
      "32::[1242052]\n",
      "33::[2292430]\n",
      "34::[2978633]\n",
      "35::[628628]\n",
      "36::[5600644]\n",
      "37::[4024793]\n",
      "38::[4327719]\n",
      "39::[2289897]\n",
      "41::[2166551]\n",
      "42::[1324114]\n",
      "43::[4154065]\n",
      "44::[211637]\n",
      "45::[1749269]\n",
      "46::[3454379]\n",
      "47::[1650360]\n",
      "48::[2821569]\n",
      "49::[220632]\n",
      "50::[337803]\n",
      "51::[621904]\n",
      "52::[5387103]\n",
      "53::[2707203]\n",
      "54::[892780]\n",
      "55::[755102]\n",
      "57::[1963123]\n",
      "60::[4242879]\n",
      "61::[57385]\n",
      "63::[1917045]\n",
      "65::[3839087]\n",
      "66::[5603206]\n",
      "67::[1779359]\n",
      "68::[3777270]\n",
      "69::[2742067]\n",
      "70::[5643674]\n",
      "71::[1435419]\n",
      "72::[970365]\n",
      "73::[2344174]\n",
      "74::[1885584]\n",
      "76::[5130574]\n",
      "82::[276586]\n",
      "83::[1563848]\n",
      "85::[2670428]\n",
      "87::[4657381]\n",
      "89::[2411350]\n",
      "91::[153798]\n",
      "94::[971230]\n",
      "96::[310882]\n",
      "99::[3021130]\n",
      "100::[3287238]\n",
      "101::[1952206]\n",
      "102::[1271627]\n",
      "104::[1493619]\n",
      "105::[4791155]\n",
      "106::[1594219]\n",
      "107::[3656479]\n",
      "108::[267339]\n",
      "109::[1198011]\n",
      "110::[3265611]\n",
      "111::[1269950]\n",
      "112::[337870]\n",
      "113::[250764]\n",
      "114::[4487958]\n",
      "115::[4606267]\n",
      "116::[2057878]\n",
      "117::[278869]\n",
      "118::[3164458]\n",
      "119::[2205686]\n",
      "120::[981934]\n",
      "121::[175172]\n",
      "122::[4679039]\n",
      "123::[2658102]\n",
      "131::[462376]\n",
      "132::[642217]\n",
      "133::[2084309]\n",
      "134::[3698656]\n",
      "135::[5777493]\n",
      "136::[5449003]\n",
      "137::[726522]\n",
      "138::[3561812]\n",
      "139::[5804194]\n",
      "140::[3218143]\n",
      "141::[5089613]\n",
      "142::[4724310]\n",
      "143::[545845]\n",
      "144::[4991264]\n",
      "145::[983083]\n",
      "147::[2675548]\n",
      "148::[2600521]\n",
      "149::[5330155]\n",
      "150::[2633398]\n",
      "153::[170158]\n",
      "154::[3666361]\n",
      "155::[4214310]\n",
      "159::[3892571]\n",
      "160::[3281116]\n",
      "163::[3577574]\n",
      "167::[2449363]\n",
      "172::[1319748]\n",
      "173::[1978974]\n",
      "174::[3450292]\n",
      "175::[3165640]\n",
      "177::[4224731]\n",
      "178::[2379967]\n",
      "180::[1956783]\n",
      "182::[3241798]\n",
      "183::[3800146]\n",
      "184::[4006681]\n",
      "185::[4223334]\n",
      "186::[192668]\n",
      "187::[2631187]\n",
      "188::[1819380]\n",
      "189::[5128439]\n",
      "190::[2423528]\n",
      "191::[210093]\n",
      "192::[3250238]\n",
      "194::[2616304]\n",
      "197::[307330]\n",
      "202::[3890085]\n",
      "203::[3088955]\n",
      "204::[1990246]\n",
      "205::[2934686]\n",
      "206::[1889646]\n",
      "207::[1480231]\n",
      "208::[4600734]\n",
      "211::[4332107]\n",
      "212::[812863]\n",
      "213::[2481724]\n",
      "214::[4506048]\n",
      "215::[3157530]\n",
      "216::[933136]\n",
      "217::[337698]\n",
      "218::[708899]\n",
      "219::[5780389]\n",
      "220::[4813185]\n",
      "221::[4324249]\n",
      "222::[5193657]\n",
      "223::[2596373]\n",
      "225::[2294871]\n",
      "226::[2080187]\n",
      "229::[2597793]\n",
      "231::[5844750]\n",
      "232::[5777873]\n",
      "233::[5493783]\n",
      "234::[2929656]\n",
      "235::[3140129]\n",
      "236::[3122423]\n",
      "237::[4941057]\n",
      "238::[3989592]\n",
      "239::[1410016]\n",
      "240::[3109505]\n",
      "241::[4999231]\n",
      "242::[3352009]\n",
      "243::[1823933]\n",
      "244::[311029]\n",
      "245::[3921314]\n",
      "246::[1295375]\n",
      "247::[1270367]\n",
      "248::[2911970]\n",
      "249::[2247122]\n",
      "250::[1640163]\n",
      "251::[102816]\n",
      "252::[655544]\n",
      "253::[593162]\n",
      "254::[1627523]\n",
      "255::[2693640]\n",
      "256::[4101169]\n",
      "257::[2059699]\n",
      "258::[5290083]\n",
      "259::[3300041]\n",
      "260::[143843]\n",
      "261::[1832662]\n",
      "262::[4513402]\n",
      "263::[2787502]\n",
      "265::[5219559]\n",
      "266::[5540461]\n",
      "267::[4674140]\n",
      "268::[5048714]\n",
      "269::[502416]\n",
      "270::[3929210]\n",
      "271::[3484389]\n",
      "272::[5423286]\n",
      "274::[4982966]\n",
      "279::[3201993]\n"
     ]
    }
   ],
   "source": [
    "thmodoa = THModOA(n_cubetas)\n",
    "for i,e in enumerate(conj):\n",
    "    thmodoa.insertar(e)\n",
    "print(thmodoa)"
   ]
  },
  {
   "cell_type": "markdown",
   "id": "b407544f",
   "metadata": {},
   "source": [
    "#### Familias por método de multiplicación"
   ]
  },
  {
   "cell_type": "code",
   "execution_count": 31,
   "id": "7434a62f",
   "metadata": {},
   "outputs": [],
   "source": [
    "class THMultOA(THOA):\n",
    "    def __init__(self, n_cubetas, a):\n",
    "        super().__init__(n_cubetas)\n",
    "        self.a = a\n",
    "\n",
    "    def h(self, x):\n",
    "        return floor(((self.a * x) % 1) * self.n_cubetas) "
   ]
  },
  {
   "cell_type": "code",
   "execution_count": 32,
   "id": "f59be228",
   "metadata": {},
   "outputs": [
    {
     "name": "stdout",
     "output_type": "stream",
     "text": [
      "0::[1885584]\n",
      "6::[3021130]\n",
      "11::[4006681]\n",
      "12::[5777493]\n",
      "16::[5449003]\n",
      "17::[5231680]\n",
      "19::[1480231]\n",
      "20::[2693640]\n",
      "21::[220632]\n",
      "22::[5423286]\n",
      "23::[462376]\n",
      "27::[5290083]\n",
      "28::[4968934]\n",
      "31::[5130574]\n",
      "32::[3165640]\n",
      "33::[1319748]\n",
      "34::[3698656]\n",
      "35::[3710068]\n",
      "38::[4679039]\n",
      "40::[337870]\n",
      "42::[971230]\n",
      "43::[5844750]\n",
      "44::[2166551]\n",
      "45::[4724310]\n",
      "46::[502416]\n",
      "47::[189396]\n",
      "48::[5804194]\n",
      "49::[2289897]\n",
      "50::[3088955]\n",
      "51::[3892571]\n",
      "52::[4090819]\n",
      "53::[4941057]\n",
      "54::[1978974]\n",
      "58::[3281116]\n",
      "59::[2344174]\n",
      "60::[5540461]\n",
      "61::[1563848]\n",
      "68::[3777270]\n",
      "70::[3839087]\n",
      "71::[175172]\n",
      "72::[2411350]\n",
      "74::[1269950]\n",
      "75::[2080187]\n",
      "76::[2670428]\n",
      "77::[593162]\n",
      "78::[2294871]\n",
      "79::[3817407]\n",
      "81::[726522]\n",
      "84::[3656479]\n",
      "86::[1493619]\n",
      "92::[3929210]\n",
      "93::[822787]\n",
      "94::[3577574]\n",
      "95::[1779359]\n",
      "96::[3921314]\n",
      "97::[3241798]\n",
      "98::[1242052]\n",
      "99::[5643674]\n",
      "100::[4224731]\n",
      "101::[4154065]\n",
      "102::[5600644]\n",
      "103::[4982966]\n",
      "104::[192668]\n",
      "105::[2600521]\n",
      "106::[2597793]\n",
      "107::[2658102]\n",
      "108::[307330]\n",
      "109::[3800146]\n",
      "110::[4674140]\n",
      "111::[153798]\n",
      "112::[4332107]\n",
      "113::[1956783]\n",
      "114::[1832662]\n",
      "115::[3439750]\n",
      "116::[892780]\n",
      "120::[170158]\n",
      "121::[2978633]\n",
      "122::[4327719]\n",
      "123::[2911970]\n",
      "124::[4242879]\n",
      "126::[3140129]\n",
      "127::[1889646]\n",
      "128::[555543]\n",
      "129::[1324114]\n",
      "130::[3989592]\n",
      "131::[2707203]\n",
      "132::[655544]\n",
      "133::[628628]\n",
      "134::[1956898]\n",
      "135::[1640163]\n",
      "136::[2633398]\n",
      "138::[311029]\n",
      "139::[3352009]\n",
      "140::[2379967]\n",
      "141::[3300041]\n",
      "142::[3201993]\n",
      "145::[1198011]\n",
      "146::[278869]\n",
      "148::[1594219]\n",
      "149::[1627523]\n",
      "152::[2821569]\n",
      "153::[3122423]\n",
      "154::[970365]\n",
      "155::[276586]\n",
      "156::[3250238]\n",
      "157::[2057878]\n",
      "158::[5193657]\n",
      "159::[4606267]\n",
      "161::[1650360]\n",
      "164::[2449363]\n",
      "165::[267339]\n",
      "166::[1823933]\n",
      "167::[3265611]\n",
      "168::[3164458]\n",
      "169::[2675548]\n",
      "170::[2742067]\n",
      "171::[5128439]\n",
      "172::[981934]\n",
      "173::[210093]\n",
      "174::[5493783]\n",
      "175::[4487958]\n",
      "177::[3454379]\n",
      "178::[4791155]\n",
      "180::[310882]\n",
      "184::[2292430]\n",
      "185::[1952206]\n",
      "188::[41337]\n",
      "189::[1990246]\n",
      "190::[1819380]\n",
      "191::[4999231]\n",
      "192::[708899]\n",
      "193::[2423528]\n",
      "194::[250764]\n",
      "195::[2934686]\n",
      "196::[755102]\n",
      "197::[1749269]\n",
      "198::[983083]\n",
      "199::[1271627]\n",
      "200::[3666361]\n",
      "204::[3450292]\n",
      "205::[1435419]\n",
      "206::[337803]\n",
      "207::[1963123]\n",
      "210::[3890085]\n",
      "211::[5603206]\n",
      "212::[4657381]\n",
      "213::[5387103]\n",
      "214::[933136]\n",
      "215::[545845]\n",
      "216::[3218143]\n",
      "217::[2247122]\n",
      "218::[1295375]\n",
      "219::[2481724]\n",
      "220::[3109505]\n",
      "221::[102816]\n",
      "222::[2596373]\n",
      "223::[2616304]\n",
      "224::[4991264]\n",
      "226::[2084309]\n",
      "227::[621904]\n",
      "228::[3287238]\n",
      "229::[1410016]\n",
      "230::[4506048]\n",
      "231::[5089613]\n",
      "232::[4214310]\n",
      "233::[3484389]\n",
      "234::[4617139]\n",
      "235::[48078]\n",
      "236::[337698]\n",
      "237::[1574185]\n",
      "238::[4513402]\n",
      "239::[5048714]\n",
      "240::[4101169]\n",
      "241::[211637]\n",
      "242::[4324249]\n",
      "243::[5219559]\n",
      "244::[5780389]\n",
      "245::[4024793]\n",
      "246::[347060]\n",
      "247::[5309512]\n",
      "248::[3561812]\n",
      "249::[57385]\n",
      "250::[821652]\n",
      "251::[5777873]\n",
      "252::[3157530]\n",
      "253::[143843]\n",
      "254::[1720313]\n",
      "257::[2205686]\n",
      "259::[4813185]\n",
      "262::[642217]\n",
      "268::[5330155]\n",
      "269::[4223334]\n",
      "270::[812863]\n",
      "271::[1917045]\n",
      "275::[2787502]\n",
      "276::[2929656]\n",
      "277::[1270367]\n",
      "278::[4600734]\n",
      "279::[2059699]\n",
      "280::[2631187]\n"
     ]
    }
   ],
   "source": [
    "thmultoa = THMultOA(281, (sqrt(5) - 1) / 2)\n",
    "for i,e in enumerate(conj):\n",
    "    thmultoa.insertar(e)\n",
    "print(thmultoa)"
   ]
  },
  {
   "cell_type": "markdown",
   "id": "e538c8c2",
   "metadata": {},
   "source": [
    "La cantidad de números mapeados a cada cubeta por esta función hash es"
   ]
  },
  {
   "cell_type": "code",
   "execution_count": 33,
   "id": "45bab36c",
   "metadata": {},
   "outputs": [
    {
     "data": {
      "image/png": "[encoded data removed]",
      "text/plain": [
       "<Figure size 432x288 with 1 Axes>"
      ]
     },
     "metadata": {
      "needs_background": "light"
     },
     "output_type": "display_data"
    }
   ],
   "source": [
    "plt.bar(np.arange(thmultoa.colisiones.size), thmultoa.colisiones)\n",
    "plt.xlabel('Cubeta')\n",
    "plt.ylabel(u'Número de colisiones')\n",
    "plt.show()"
   ]
  },
  {
   "cell_type": "markdown",
   "id": "cefd12a7",
   "metadata": {},
   "source": [
    "El total de colisiones que ocurrieron en la tabla fue"
   ]
  },
  {
   "cell_type": "code",
   "execution_count": 34,
   "id": "7534ad34",
   "metadata": {},
   "outputs": [
    {
     "data": {
      "text/plain": [
       "57.0"
      ]
     },
     "execution_count": 34,
     "metadata": {},
     "output_type": "execute_result"
    }
   ],
   "source": [
    "np.sum(thmultoa.colisiones[thmultoa.colisiones > 1] - 1)"
   ]
  },
  {
   "cell_type": "markdown",
   "id": "fe379464",
   "metadata": {},
   "source": [
    "#### Familia de funciones hash universal"
   ]
  },
  {
   "cell_type": "code",
   "execution_count": 35,
   "id": "89de3944",
   "metadata": {},
   "outputs": [],
   "source": [
    "class THUnivOA(THOA):\n",
    "    def __init__(self, n_cubetas, a, b, primo):\n",
    "        super().__init__(n_cubetas)\n",
    "        self.a = a\n",
    "        self.b = b\n",
    "        self.primo = primo\n",
    "\n",
    "    def h(self, x):\n",
    "        return ((self.a * x + self.b) % self.primo) % self.n_cubetas"
   ]
  },
  {
   "cell_type": "markdown",
   "id": "835c5734",
   "metadata": {},
   "source": [
    "\n",
    "\n",
    "Instanciamos nuestra tabla con función hash universal y almacenamos el conjunto de 200 números\n"
   ]
  },
  {
   "cell_type": "code",
   "execution_count": 36,
   "id": "c3f6e597",
   "metadata": {},
   "outputs": [
    {
     "name": "stdout",
     "output_type": "stream",
     "text": [
      "0::[4982966]\n",
      "1::[3088955]\n",
      "5::[5128439]\n",
      "6::[2631187]\n",
      "7::[2821569]\n",
      "8::[3250238]\n",
      "9::[1963123]\n",
      "10::[3561812]\n",
      "11::[1324114]\n",
      "13::[3484389]\n",
      "14::[347060]\n",
      "15::[4941057]\n",
      "16::[3989592]\n",
      "17::[1319748]\n",
      "18::[2481724]\n",
      "20::[5603206]\n",
      "21::[2247122]\n",
      "22::[307330]\n",
      "23::[5804194]\n",
      "24::[4090819]\n",
      "25::[2205686]\n",
      "26::[821652]\n",
      "27::[3656479]\n",
      "28::[655544]\n",
      "29::[970365]\n",
      "30::[628628]\n",
      "31::[1242052]\n",
      "32::[3157530]\n",
      "33::[621904]\n",
      "34::[4154065]\n",
      "35::[1885584]\n",
      "36::[4224731]\n",
      "38::[211637]\n",
      "39::[5777873]\n",
      "40::[1435419]\n",
      "41::[4024793]\n",
      "44::[1410016]\n",
      "48::[2693640]\n",
      "49::[2597793]\n",
      "50::[2057878]\n",
      "53::[57385]\n",
      "54::[981934]\n",
      "55::[822787]\n",
      "57::[933136]\n",
      "60::[2292430]\n",
      "61::[4506048]\n",
      "62::[4657381]\n",
      "63::[708899]\n",
      "64::[545845]\n",
      "65::[1952206]\n",
      "69::[5449003]\n",
      "70::[102816]\n",
      "71::[4991264]\n",
      "75::[3929210]\n",
      "78::[5231680]\n",
      "79::[1832662]\n",
      "80::[210093]\n",
      "81::[3140129]\n",
      "82::[2658102]\n",
      "83::[1269950]\n",
      "84::[3800146]\n",
      "85::[1823933]\n",
      "86::[1627523]\n",
      "87::[1990246]\n",
      "88::[1889646]\n",
      "89::[5387103]\n",
      "90::[3890085]\n",
      "91::[48078]\n",
      "92::[2787502]\n",
      "93::[3265611]\n",
      "94::[1271627]\n",
      "95::[3218143]\n",
      "96::[4223334]\n",
      "100::[189396]\n",
      "101::[1493619]\n",
      "102::[311029]\n",
      "104::[1594219]\n",
      "105::[5290083]\n",
      "106::[1563848]\n",
      "109::[3454379]\n",
      "110::[5777493]\n",
      "111::[3164458]\n",
      "112::[3281116]\n",
      "114::[278869]\n",
      "117::[4487958]\n",
      "118::[4724310]\n",
      "120::[1574185]\n",
      "122::[2411350]\n",
      "123::[4813185]\n",
      "124::[3241798]\n",
      "125::[1270367]\n",
      "126::[175172]\n",
      "127::[3439750]\n",
      "130::[2294871]\n",
      "131::[3109505]\n",
      "132::[3921314]\n",
      "133::[41337]\n",
      "135::[2084309]\n",
      "136::[2080187]\n",
      "137::[220632]\n",
      "138::[3165640]\n",
      "140::[2934686]\n",
      "141::[1956783]\n",
      "142::[755102]\n",
      "143::[143843]\n",
      "145::[2675548]\n",
      "150::[337870]\n",
      "151::[3021130]\n",
      "152::[2379967]\n",
      "153::[555543]\n",
      "154::[1198011]\n",
      "155::[2742067]\n",
      "156::[2423528]\n",
      "157::[4332107]\n",
      "158::[4327719]\n",
      "159::[4999231]\n",
      "160::[267339]\n",
      "161::[2633398]\n",
      "162::[3666361]\n",
      "163::[971230]\n",
      "164::[812863]\n",
      "165::[983083]\n",
      "166::[642217]\n",
      "168::[2670428]\n",
      "169::[310882]\n",
      "170::[2911970]\n",
      "172::[5130574]\n",
      "173::[4674140]\n",
      "174::[276586]\n",
      "175::[192668]\n",
      "176::[726522]\n",
      "179::[250764]\n",
      "180::[3817407]\n",
      "181::[462376]\n",
      "182::[4006681]\n",
      "183::[3287238]\n",
      "184::[1749269]\n",
      "185::[892780]\n",
      "187::[2600521]\n",
      "188::[1640163]\n",
      "189::[4679039]\n",
      "192::[2449363]\n",
      "193::[3892571]\n",
      "194::[4101169]\n",
      "195::[4600734]\n",
      "196::[5219559]\n",
      "197::[2059699]\n",
      "198::[1956898]\n",
      "199::[4214310]\n",
      "202::[1720313]\n",
      "204::[337803]\n",
      "206::[1978974]\n",
      "207::[5089613]\n",
      "208::[4617139]\n",
      "209::[5493783]\n",
      "212::[4606267]\n",
      "213::[5600644]\n",
      "214::[5193657]\n",
      "215::[593162]\n",
      "220::[3839087]\n",
      "222::[3777270]\n",
      "223::[337698]\n",
      "225::[4513402]\n",
      "227::[2929656]\n",
      "230::[1917045]\n",
      "232::[2978633]\n",
      "233::[3352009]\n",
      "234::[5048714]\n",
      "235::[2616304]\n",
      "237::[5540461]\n",
      "238::[5643674]\n",
      "240::[4324249]\n",
      "243::[2166551]\n",
      "246::[3698656]\n",
      "247::[1819380]\n",
      "248::[2289897]\n",
      "249::[170158]\n",
      "251::[4242879]\n",
      "252::[5423286]\n",
      "253::[1480231]\n",
      "256::[5780389]\n",
      "259::[3300041]\n",
      "261::[3710068]\n",
      "262::[5844750]\n",
      "263::[3577574]\n",
      "264::[3450292]\n",
      "266::[1650360]\n",
      "267::[3201993]\n",
      "268::[4791155]\n",
      "269::[3122423]\n",
      "270::[1779359]\n",
      "271::[4968934]\n",
      "272::[1295375]\n",
      "273::[153798]\n",
      "274::[502416]\n",
      "275::[2344174]\n",
      "276::[2596373]\n",
      "277::[2707203]\n",
      "278::[5330155]\n",
      "280::[5309512]\n"
     ]
    }
   ],
   "source": [
    "a = random.randint(1, 104729 - 1)\n",
    "b = random.randint(0, 104729 - 1)\n",
    "thunivoa = THUnivOA(281, a, b, 104729)\n",
    "for i,e in enumerate(conj):\n",
    "    thunivoa.insertar(e)\n",
    "print(thunivoa)"
   ]
  },
  {
   "cell_type": "markdown",
   "id": "88c3fce7",
   "metadata": {},
   "source": [
    "La cantidad de números mapeados a cada cubeta por la función hash universal es"
   ]
  },
  {
   "cell_type": "code",
   "execution_count": 37,
   "id": "6cb5ca95",
   "metadata": {},
   "outputs": [
    {
     "data": {
      "image/png": "[encoded data removed]",
      "text/plain": [
       "<Figure size 432x288 with 1 Axes>"
      ]
     },
     "metadata": {
      "needs_background": "light"
     },
     "output_type": "display_data"
    }
   ],
   "source": [
    "plt.bar(np.arange(thunivoa.colisiones.size), thunivoa.colisiones)\n",
    "plt.xlabel('Cubeta')\n",
    "plt.ylabel(u'Número de colisiones')\n",
    "plt.show()"
   ]
  },
  {
   "cell_type": "markdown",
   "id": "ac439e0f",
   "metadata": {},
   "source": [
    "El número de colisiones totales que ocurrieron es"
   ]
  },
  {
   "cell_type": "code",
   "execution_count": 38,
   "id": "04df9117",
   "metadata": {},
   "outputs": [
    {
     "data": {
      "text/plain": [
       "58.0"
      ]
     },
     "execution_count": 38,
     "metadata": {},
     "output_type": "execute_result"
    }
   ],
   "source": [
    "np.sum(thunivoa.colisiones[thunivoa.colisiones > 1] - 1)"
   ]
  },
  {
   "cell_type": "markdown",
   "id": "b63a230d",
   "metadata": {},
   "source": [
    "#### Funciones hash para cadenas"
   ]
  },
  {
   "cell_type": "markdown",
   "id": "e95835dc",
   "metadata": {},
   "source": [
    "Modificamos nuestra clase anterior para que cuando haya una colisión verifique si es la misma subcadena."
   ]
  },
  {
   "cell_type": "code",
   "execution_count": 39,
   "id": "1037a3ce",
   "metadata": {},
   "outputs": [],
   "source": [
    "class THUnivCad(THUnivOA):\n",
    "    def __init__(self, n_cubetas, a, b, primo, g):\n",
    "        super().__init__(n_cubetas, a, b, primo)\n",
    "        self.g = g\n",
    "\n",
    "    def s2i(self, s):\n",
    "        return sum([ord(c) * self.g**ord(c) for c in s])\n",
    "\n",
    "    def insertar(self, s):\n",
    "        x = int(self.s2i(s))\n",
    "        cubeta = self.h(x)\n",
    "        self.colisiones[cubeta] += 1\n",
    "\n",
    "        llena = True\n",
    "        for i in range(self.n_cubetas):\n",
    "            ind = self.sl(cubeta, i)\n",
    "            if not self.tabla[ind]:\n",
    "                self.tabla[ind].append(s)\n",
    "                llena = False\n",
    "                break\n",
    "\n",
    "        if llena:\n",
    "            print('Tabla llena')\n",
    "\n",
    "    def buscar(self, s):\n",
    "        x = self.s2i(s)\n",
    "        cubeta = self.h(x)\n",
    "        for i in range(self.n_cubetas):\n",
    "            ind = self.sl(cubeta, i)\n",
    "            if self.tabla[ind][0] == s:\n",
    "                return ind\n",
    "\n",
    "        return -1\n",
    "\n",
    "    def eliminar(self, s):\n",
    "        x = self.s2i(s)\n",
    "        cubeta = self.h(x)\n",
    "        for i in range(self.n_cubetas):\n",
    "            ind = self.sl(cubeta, i)\n",
    "            if self.tabla[ind][0] == s:\n",
    "                self.tabla[ind].remove(s)\n",
    "                return ind\n",
    "\n",
    "        return -1"
   ]
  },
  {
   "cell_type": "code",
   "execution_count": 40,
   "id": "21e8ae0d",
   "metadata": {},
   "outputs": [
    {
     "name": "stdout",
     "output_type": "stream",
     "text": [
      "2::['mariana']\n",
      "4::['jose']\n",
      "73::['blanca']\n",
      "85::['julia']\n",
      "88::['enrique']\n",
      "104::['rodolfo']\n",
      "117::['serena']\n",
      "120::['juan']\n",
      "163::['alfonso']\n",
      "174::['pedro']\n",
      "248::['ignacio']\n"
     ]
    }
   ],
   "source": [
    "nombres = ['blanca', 'juan', 'pedro', 'julia', 'serena', 'enrique', 'jose', \n",
    "           'alfonso', 'rodolfo', 'ignacio', 'mariana']\n",
    "thucad = THUnivCad(281, a, b, 104729, 1.1)\n",
    "for e in nombres:\n",
    "    thucad.insertar(e)\n",
    "print(thucad)"
   ]
  },
  {
   "cell_type": "markdown",
   "id": "70168306",
   "metadata": {},
   "source": [
    "Revisemos la cantidad de nombres mapeados a cada cubeta"
   ]
  },
  {
   "cell_type": "code",
   "execution_count": 41,
   "id": "a90a219c",
   "metadata": {},
   "outputs": [
    {
     "data": {
      "image/png": "[encoded data removed]",
      "text/plain": [
       "<Figure size 432x288 with 1 Axes>"
      ]
     },
     "metadata": {
      "needs_background": "light"
     },
     "output_type": "display_data"
    }
   ],
   "source": [
    "plt.bar(np.arange(thucad.colisiones.size), thucad.colisiones)\n",
    "plt.xlabel('Cubeta')\n",
    "plt.ylabel(u'Número de colisiones')\n",
    "plt.show()"
   ]
  },
  {
   "cell_type": "code",
   "execution_count": null,
   "id": "eb439a72",
   "metadata": {},
   "outputs": [],
   "source": []
  }
 ],
 "metadata": {
  "kernelspec": {
   "display_name": "Python 3 (ipykernel)",
   "language": "python",
   "name": "python3"
  },
  "language_info": {
   "codemirror_mode": {
    "name": "ipython",
    "version": 3
   },
   "file_extension": ".py",
   "mimetype": "text/x-python",
   "name": "python",
   "nbconvert_exporter": "python",
   "pygments_lexer": "ipython3",
   "version": "3.8.10"
  }
 },
 "nbformat": 4,
 "nbformat_minor": 5
}
