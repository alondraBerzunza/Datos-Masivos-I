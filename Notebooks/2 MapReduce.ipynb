{
 "cells": [
  {
   "cell_type": "markdown",
   "id": "5e2e0c13",
   "metadata": {},
   "source": [
    "## MapReduce"
   ]
  },
  {
   "cell_type": "markdown",
   "id": "67dca595",
   "metadata": {},
   "source": [
    "MapReduce es un modelo de programación que nos permite procesar enormes cantidades de datos de forma distribuida sobre un cluster.\n",
    "\n",
    "La idea principal detrás de este modelo de programación consiste en primero transformar los datos de tal forma que tengan un formato (llave, valor) para después reducir los datos, combinando de alguna manera todos los valores correspondientes a la misma llave.\n",
    "\n",
    "Para realizar este proceso solo es necesario definir dos funciones:\n",
    "\n",
    "    Map: Transforma los datos en pares (llave, valor).\n",
    "    Reduce: Combina todos los valores asociados a la misma llave de alguna forma.\n",
    "\n",
    "El gran atractivo que tiene este modelo de programación es que permite a herramientas como Spark procesar grandes cantidades de datos sobre un cluster si no que incluso puede evitar que fallas en los nodos del cluster afecten los cálculos y procesos realizados con los datos.\n",
    "\n",
    "En este notebook nos daremos a la tarea de mostrar varios ejemplos de como llevar a cabo este modelo de programación usando Python y PySpark.\n",
    "\n",
    "Antes de pasar a los ejemplos debemos instalar nuestro entorno de desarrollo con PySpark."
   ]
  },
  {
   "cell_type": "code",
   "execution_count": 1,
   "id": "2ceeef52",
   "metadata": {},
   "outputs": [
    {
     "name": "stdout",
     "output_type": "stream",
     "text": [
      "Requirement already satisfied: pyspark in /home/vania/jupyter/jupyterenv/lib/python3.8/site-packages (3.2.1)\n",
      "Requirement already satisfied: py4j==0.10.9.3 in /home/vania/jupyter/jupyterenv/lib/python3.8/site-packages (from pyspark) (0.10.9.3)\n",
      "\u001b[33mWARNING: Retrying (Retry(total=4, connect=None, read=None, redirect=None, status=None)) after connection broken by 'NewConnectionError('<pip._vendor.urllib3.connection.HTTPSConnection object at 0x7f2144e296d0>: Failed to establish a new connection: [Errno -3] Fallo temporal en la resolución del nombre')': /simple/pydrive/\u001b[0m\u001b[33m\n",
      "\u001b[0m\u001b[33mWARNING: Retrying (Retry(total=3, connect=None, read=None, redirect=None, status=None)) after connection broken by 'NewConnectionError('<pip._vendor.urllib3.connection.HTTPSConnection object at 0x7f2144dc90d0>: Failed to establish a new connection: [Errno -3] Fallo temporal en la resolución del nombre')': /simple/pydrive/\u001b[0m\u001b[33m\n",
      "\u001b[0m\u001b[33mWARNING: Retrying (Retry(total=2, connect=None, read=None, redirect=None, status=None)) after connection broken by 'NewConnectionError('<pip._vendor.urllib3.connection.HTTPSConnection object at 0x7f2144e29fd0>: Failed to establish a new connection: [Errno -3] Fallo temporal en la resolución del nombre')': /simple/pydrive/\u001b[0m\u001b[33m\n",
      "\u001b[0m\u001b[33mWARNING: Retrying (Retry(total=1, connect=None, read=None, redirect=None, status=None)) after connection broken by 'NewConnectionError('<pip._vendor.urllib3.connection.HTTPSConnection object at 0x7f2144e29e80>: Failed to establish a new connection: [Errno -3] Fallo temporal en la resolución del nombre')': /simple/pydrive/\u001b[0m\u001b[33m\n",
      "\u001b[0m\u001b[33mWARNING: Retrying (Retry(total=0, connect=None, read=None, redirect=None, status=None)) after connection broken by 'NewConnectionError('<pip._vendor.urllib3.connection.HTTPSConnection object at 0x7f2144e292b0>: Failed to establish a new connection: [Errno -3] Fallo temporal en la resolución del nombre')': /simple/pydrive/\u001b[0m\u001b[33m\n",
      "\u001b[0m"
     ]
    }
   ],
   "source": [
    "!pip install pyspark\n",
    "!pip install -U -q PyDrive\n",
    "# !apt install openjdk-8-jdk-headless -qq\n",
    "import os\n",
    "os.environ[\"JAVA_HOME\"] = \"/usr/lib/jvm/java-8-openjdk-amd64\""
   ]
  },
  {
   "cell_type": "code",
   "execution_count": 1,
   "id": "ff5ff73b",
   "metadata": {},
   "outputs": [
    {
     "name": "stderr",
     "output_type": "stream",
     "text": [
      "25/02/22 08:43:14 WARN Utils: Your hostname, vania-Latitude-7400 resolves to a loopback address: 127.0.1.1; using 10.153.221.214 instead (on interface wlo1)\n",
      "25/02/22 08:43:14 WARN Utils: Set SPARK_LOCAL_IP if you need to bind to another address\n",
      "Using Spark's default log4j profile: org/apache/spark/log4j-defaults.properties\n",
      "Setting default log level to \"WARN\".\n",
      "To adjust logging level use sc.setLogLevel(newLevel). For SparkR, use setLogLevel(newLevel).\n",
      "25/02/22 08:43:15 WARN NativeCodeLoader: Unable to load native-hadoop library for your platform... using builtin-java classes where applicable\n"
     ]
    }
   ],
   "source": [
    "import pyspark\n",
    "# Carga ufnciones extra\n",
    "from pyspark.sql.functions import * \n",
    "from pyspark.sql import SparkSession\n",
    "spark = SparkSession.builder.appName('MapReduce').getOrCreate()"
   ]
  },
  {
   "cell_type": "code",
   "execution_count": 2,
   "id": "2d2ed5a6",
   "metadata": {},
   "outputs": [
    {
     "name": "stdout",
     "output_type": "stream",
     "text": [
      "Requirement already satisfied: nltk in /home/vania/jupyter/jupyterenv/lib/python3.8/site-packages (3.7)\n",
      "Requirement already satisfied: click in /home/vania/jupyter/jupyterenv/lib/python3.8/site-packages (from nltk) (8.0.3)\n",
      "Requirement already satisfied: joblib in /home/vania/jupyter/jupyterenv/lib/python3.8/site-packages (from nltk) (1.1.0)\n",
      "Requirement already satisfied: regex>=2021.8.3 in /home/vania/jupyter/jupyterenv/lib/python3.8/site-packages (from nltk) (2022.1.18)\n",
      "Requirement already satisfied: tqdm in /home/vania/jupyter/jupyterenv/lib/python3.8/site-packages (from nltk) (4.62.3)\n",
      "\n",
      "\u001b[1m[\u001b[0m\u001b[34;49mnotice\u001b[0m\u001b[1;39;49m]\u001b[0m\u001b[39;49m A new release of pip is available: \u001b[0m\u001b[31;49m23.1.1\u001b[0m\u001b[39;49m -> \u001b[0m\u001b[32;49m25.0.1\u001b[0m\n",
      "\u001b[1m[\u001b[0m\u001b[34;49mnotice\u001b[0m\u001b[1;39;49m]\u001b[0m\u001b[39;49m To update, run: \u001b[0m\u001b[32;49mpip install --upgrade pip\u001b[0m\n",
      "Requirement already satisfied: pip in /home/vania/jupyter/jupyterenv/lib/python3.8/site-packages (23.1.1)\n",
      "Collecting pip\n",
      "  Downloading pip-25.0.1-py3-none-any.whl (1.8 MB)\n",
      "\u001b[2K     \u001b[38;2;114;156;31m━━━━━━━━━━━━━━━━━━━━━━━━━━━━━━━━━━━━━━━━\u001b[0m \u001b[32m1.8/1.8 MB\u001b[0m \u001b[31m8.8 MB/s\u001b[0m eta \u001b[36m0:00:00\u001b[0m0m eta \u001b[36m0:00:01\u001b[0m:01\u001b[0m\n",
      "\u001b[?25hInstalling collected packages: pip\n",
      "  Attempting uninstall: pip\n",
      "    Found existing installation: pip 23.1.1\n",
      "    Uninstalling pip-23.1.1:\n",
      "      Successfully uninstalled pip-23.1.1\n",
      "Successfully installed pip-25.0.1\n",
      "/usr/lib/python3.8/runpy.py:127: RuntimeWarning: 'nltk.downloader' found in sys.modules after import of package 'nltk', but prior to execution of 'nltk.downloader'; this may result in unpredictable behaviour\n",
      "  warn(RuntimeWarning(msg))\n",
      "[nltk_data] Downloading collection 'all'\n",
      "[nltk_data]    | \n",
      "[nltk_data]    | Downloading package abc to /home/vania/nltk_data...\n",
      "[nltk_data]    |   Package abc is already up-to-date!\n",
      "[nltk_data]    | Downloading package alpino to\n",
      "[nltk_data]    |     /home/vania/nltk_data...\n",
      "[nltk_data]    |   Package alpino is already up-to-date!\n",
      "[nltk_data]    | Downloading package averaged_perceptron_tagger to\n",
      "[nltk_data]    |     /home/vania/nltk_data...\n",
      "[nltk_data]    |   Package averaged_perceptron_tagger is already up-\n",
      "[nltk_data]    |       to-date!\n",
      "[nltk_data]    | Downloading package averaged_perceptron_tagger_eng to\n",
      "[nltk_data]    |     /home/vania/nltk_data...\n",
      "[nltk_data]    |   Unzipping\n",
      "[nltk_data]    |       taggers/averaged_perceptron_tagger_eng.zip.\n",
      "[nltk_data]    | Downloading package averaged_perceptron_tagger_ru to\n",
      "[nltk_data]    |     /home/vania/nltk_data...\n",
      "[nltk_data]    |   Package averaged_perceptron_tagger_ru is already\n",
      "[nltk_data]    |       up-to-date!\n",
      "[nltk_data]    | Downloading package averaged_perceptron_tagger_rus to\n",
      "[nltk_data]    |     /home/vania/nltk_data...\n",
      "[nltk_data]    |   Unzipping\n",
      "[nltk_data]    |       taggers/averaged_perceptron_tagger_rus.zip.\n",
      "[nltk_data]    | Downloading package basque_grammars to\n",
      "[nltk_data]    |     /home/vania/nltk_data...\n",
      "[nltk_data]    |   Package basque_grammars is already up-to-date!\n",
      "[nltk_data]    | Downloading package bcp47 to /home/vania/nltk_data...\n",
      "[nltk_data]    |   Package bcp47 is already up-to-date!\n",
      "[nltk_data]    | Downloading package biocreative_ppi to\n",
      "[nltk_data]    |     /home/vania/nltk_data...\n",
      "[nltk_data]    |   Package biocreative_ppi is already up-to-date!\n",
      "[nltk_data]    | Downloading package bllip_wsj_no_aux to\n",
      "[nltk_data]    |     /home/vania/nltk_data...\n",
      "[nltk_data]    |   Package bllip_wsj_no_aux is already up-to-date!\n",
      "[nltk_data]    | Downloading package book_grammars to\n",
      "[nltk_data]    |     /home/vania/nltk_data...\n",
      "[nltk_data]    |   Package book_grammars is already up-to-date!\n",
      "[nltk_data]    | Downloading package brown to /home/vania/nltk_data...\n",
      "[nltk_data]    |   Package brown is already up-to-date!\n",
      "[nltk_data]    | Downloading package brown_tei to\n",
      "[nltk_data]    |     /home/vania/nltk_data...\n",
      "[nltk_data]    |   Package brown_tei is already up-to-date!\n",
      "[nltk_data]    | Downloading package cess_cat to\n",
      "[nltk_data]    |     /home/vania/nltk_data...\n",
      "[nltk_data]    |   Package cess_cat is already up-to-date!\n",
      "[nltk_data]    | Downloading package cess_esp to\n",
      "[nltk_data]    |     /home/vania/nltk_data...\n",
      "[nltk_data]    |   Package cess_esp is already up-to-date!\n",
      "[nltk_data]    | Downloading package chat80 to\n",
      "[nltk_data]    |     /home/vania/nltk_data...\n",
      "[nltk_data]    |   Package chat80 is already up-to-date!\n",
      "[nltk_data]    | Downloading package city_database to\n",
      "[nltk_data]    |     /home/vania/nltk_data...\n",
      "[nltk_data]    |   Package city_database is already up-to-date!\n",
      "[nltk_data]    | Downloading package cmudict to\n",
      "[nltk_data]    |     /home/vania/nltk_data...\n",
      "[nltk_data]    |   Package cmudict is already up-to-date!\n",
      "[nltk_data]    | Downloading package comparative_sentences to\n",
      "[nltk_data]    |     /home/vania/nltk_data...\n",
      "[nltk_data]    |   Package comparative_sentences is already up-to-\n",
      "[nltk_data]    |       date!\n",
      "[nltk_data]    | Downloading package comtrans to\n",
      "[nltk_data]    |     /home/vania/nltk_data...\n",
      "[nltk_data]    |   Package comtrans is already up-to-date!\n",
      "[nltk_data]    | Downloading package conll2000 to\n",
      "[nltk_data]    |     /home/vania/nltk_data...\n",
      "[nltk_data]    |   Package conll2000 is already up-to-date!\n",
      "[nltk_data]    | Downloading package conll2002 to\n",
      "[nltk_data]    |     /home/vania/nltk_data...\n",
      "[nltk_data]    |   Package conll2002 is already up-to-date!\n",
      "[nltk_data]    | Downloading package conll2007 to\n",
      "[nltk_data]    |     /home/vania/nltk_data...\n",
      "[nltk_data]    |   Package conll2007 is already up-to-date!\n",
      "[nltk_data]    | Downloading package crubadan to\n",
      "[nltk_data]    |     /home/vania/nltk_data...\n",
      "[nltk_data]    |   Package crubadan is already up-to-date!\n",
      "[nltk_data]    | Downloading package dependency_treebank to\n",
      "[nltk_data]    |     /home/vania/nltk_data...\n",
      "[nltk_data]    |   Package dependency_treebank is already up-to-date!\n",
      "[nltk_data]    | Downloading package dolch to /home/vania/nltk_data...\n",
      "[nltk_data]    |   Package dolch is already up-to-date!\n",
      "[nltk_data]    | Downloading package europarl_raw to\n",
      "[nltk_data]    |     /home/vania/nltk_data...\n",
      "[nltk_data]    |   Package europarl_raw is already up-to-date!\n",
      "[nltk_data]    | Downloading package extended_omw to\n",
      "[nltk_data]    |     /home/vania/nltk_data...\n",
      "[nltk_data]    |   Package extended_omw is already up-to-date!\n",
      "[nltk_data]    | Downloading package floresta to\n",
      "[nltk_data]    |     /home/vania/nltk_data...\n",
      "[nltk_data]    |   Package floresta is already up-to-date!\n",
      "[nltk_data]    | Downloading package framenet_v15 to\n",
      "[nltk_data]    |     /home/vania/nltk_data...\n",
      "[nltk_data]    |   Package framenet_v15 is already up-to-date!\n",
      "[nltk_data]    | Downloading package framenet_v17 to\n",
      "[nltk_data]    |     /home/vania/nltk_data...\n",
      "[nltk_data]    |   Package framenet_v17 is already up-to-date!\n",
      "[nltk_data]    | Downloading package gazetteers to\n",
      "[nltk_data]    |     /home/vania/nltk_data...\n",
      "[nltk_data]    |   Package gazetteers is already up-to-date!\n",
      "[nltk_data]    | Downloading package genesis to\n",
      "[nltk_data]    |     /home/vania/nltk_data...\n",
      "[nltk_data]    |   Package genesis is already up-to-date!\n",
      "[nltk_data]    | Downloading package gutenberg to\n",
      "[nltk_data]    |     /home/vania/nltk_data...\n",
      "[nltk_data]    |   Package gutenberg is already up-to-date!\n",
      "[nltk_data]    | Downloading package ieer to /home/vania/nltk_data...\n",
      "[nltk_data]    |   Package ieer is already up-to-date!\n",
      "[nltk_data]    | Downloading package inaugural to\n",
      "[nltk_data]    |     /home/vania/nltk_data...\n",
      "[nltk_data]    |   Unzipping corpora/inaugural.zip.\n",
      "[nltk_data]    | Downloading package indian to\n",
      "[nltk_data]    |     /home/vania/nltk_data...\n",
      "[nltk_data]    |   Package indian is already up-to-date!\n",
      "[nltk_data]    | Downloading package jeita to /home/vania/nltk_data...\n",
      "[nltk_data]    |   Package jeita is already up-to-date!\n",
      "[nltk_data]    | Downloading package kimmo to /home/vania/nltk_data...\n",
      "[nltk_data]    |   Package kimmo is already up-to-date!\n",
      "[nltk_data]    | Downloading package knbc to /home/vania/nltk_data...\n",
      "[nltk_data]    |   Package knbc is already up-to-date!\n",
      "[nltk_data]    | Downloading package large_grammars to\n",
      "[nltk_data]    |     /home/vania/nltk_data...\n",
      "[nltk_data]    |   Package large_grammars is already up-to-date!\n",
      "[nltk_data]    | Downloading package lin_thesaurus to\n",
      "[nltk_data]    |     /home/vania/nltk_data...\n"
     ]
    },
    {
     "name": "stdout",
     "output_type": "stream",
     "text": [
      "[nltk_data]    |   Package lin_thesaurus is already up-to-date!\n",
      "[nltk_data]    | Downloading package mac_morpho to\n",
      "[nltk_data]    |     /home/vania/nltk_data...\n",
      "[nltk_data]    |   Package mac_morpho is already up-to-date!\n",
      "[nltk_data]    | Downloading package machado to\n",
      "[nltk_data]    |     /home/vania/nltk_data...\n",
      "[nltk_data]    |   Package machado is already up-to-date!\n",
      "[nltk_data]    | Downloading package masc_tagged to\n",
      "[nltk_data]    |     /home/vania/nltk_data...\n",
      "[nltk_data]    |   Package masc_tagged is already up-to-date!\n",
      "[nltk_data]    | Downloading package maxent_ne_chunker to\n",
      "[nltk_data]    |     /home/vania/nltk_data...\n",
      "[nltk_data]    |   Package maxent_ne_chunker is already up-to-date!\n",
      "[nltk_data]    | Downloading package maxent_ne_chunker_tab to\n",
      "[nltk_data]    |     /home/vania/nltk_data...\n",
      "[nltk_data]    |   Unzipping chunkers/maxent_ne_chunker_tab.zip.\n",
      "[nltk_data]    | Downloading package maxent_treebank_pos_tagger to\n",
      "[nltk_data]    |     /home/vania/nltk_data...\n",
      "[nltk_data]    |   Package maxent_treebank_pos_tagger is already up-\n",
      "[nltk_data]    |       to-date!\n",
      "[nltk_data]    | Downloading package maxent_treebank_pos_tagger_tab to\n",
      "[nltk_data]    |     /home/vania/nltk_data...\n",
      "[nltk_data]    |   Unzipping\n",
      "[nltk_data]    |       taggers/maxent_treebank_pos_tagger_tab.zip.\n",
      "[nltk_data]    | Downloading package moses_sample to\n",
      "[nltk_data]    |     /home/vania/nltk_data...\n",
      "[nltk_data]    |   Package moses_sample is already up-to-date!\n",
      "[nltk_data]    | Downloading package movie_reviews to\n",
      "[nltk_data]    |     /home/vania/nltk_data...\n",
      "[nltk_data]    |   Package movie_reviews is already up-to-date!\n",
      "[nltk_data]    | Downloading package mte_teip5 to\n",
      "[nltk_data]    |     /home/vania/nltk_data...\n",
      "[nltk_data]    |   Package mte_teip5 is already up-to-date!\n",
      "[nltk_data]    | Downloading package mwa_ppdb to\n",
      "[nltk_data]    |     /home/vania/nltk_data...\n",
      "[nltk_data]    |   Package mwa_ppdb is already up-to-date!\n",
      "[nltk_data]    | Downloading package names to /home/vania/nltk_data...\n",
      "[nltk_data]    |   Package names is already up-to-date!\n",
      "[nltk_data]    | Downloading package nombank.1.0 to\n",
      "[nltk_data]    |     /home/vania/nltk_data...\n",
      "[nltk_data]    |   Package nombank.1.0 is already up-to-date!\n",
      "[nltk_data]    | Downloading package nonbreaking_prefixes to\n",
      "[nltk_data]    |     /home/vania/nltk_data...\n",
      "[nltk_data]    |   Package nonbreaking_prefixes is already up-to-date!\n",
      "[nltk_data]    | Downloading package nps_chat to\n",
      "[nltk_data]    |     /home/vania/nltk_data...\n",
      "[nltk_data]    |   Package nps_chat is already up-to-date!\n",
      "[nltk_data]    | Downloading package omw to /home/vania/nltk_data...\n",
      "[nltk_data]    |   Package omw is already up-to-date!\n",
      "[nltk_data]    | Downloading package omw-1.4 to\n",
      "[nltk_data]    |     /home/vania/nltk_data...\n",
      "[nltk_data]    |   Package omw-1.4 is already up-to-date!\n",
      "[nltk_data]    | Downloading package opinion_lexicon to\n",
      "[nltk_data]    |     /home/vania/nltk_data...\n",
      "[nltk_data]    |   Package opinion_lexicon is already up-to-date!\n",
      "[nltk_data]    | Downloading package panlex_swadesh to\n",
      "[nltk_data]    |     /home/vania/nltk_data...\n",
      "[nltk_data]    |   Package panlex_swadesh is already up-to-date!\n",
      "[nltk_data]    | Downloading package paradigms to\n",
      "[nltk_data]    |     /home/vania/nltk_data...\n",
      "[nltk_data]    |   Package paradigms is already up-to-date!\n",
      "[nltk_data]    | Downloading package pe08 to /home/vania/nltk_data...\n",
      "[nltk_data]    |   Package pe08 is already up-to-date!\n",
      "[nltk_data]    | Downloading package perluniprops to\n",
      "[nltk_data]    |     /home/vania/nltk_data...\n",
      "[nltk_data]    |   Package perluniprops is already up-to-date!\n",
      "[nltk_data]    | Downloading package pil to /home/vania/nltk_data...\n",
      "[nltk_data]    |   Package pil is already up-to-date!\n",
      "[nltk_data]    | Downloading package pl196x to\n",
      "[nltk_data]    |     /home/vania/nltk_data...\n",
      "[nltk_data]    |   Package pl196x is already up-to-date!\n",
      "[nltk_data]    | Downloading package porter_test to\n",
      "[nltk_data]    |     /home/vania/nltk_data...\n",
      "[nltk_data]    |   Package porter_test is already up-to-date!\n",
      "[nltk_data]    | Downloading package ppattach to\n",
      "[nltk_data]    |     /home/vania/nltk_data...\n",
      "[nltk_data]    |   Package ppattach is already up-to-date!\n",
      "[nltk_data]    | Downloading package problem_reports to\n",
      "[nltk_data]    |     /home/vania/nltk_data...\n",
      "[nltk_data]    |   Package problem_reports is already up-to-date!\n",
      "[nltk_data]    | Downloading package product_reviews_1 to\n",
      "[nltk_data]    |     /home/vania/nltk_data...\n",
      "[nltk_data]    |   Package product_reviews_1 is already up-to-date!\n",
      "[nltk_data]    | Downloading package product_reviews_2 to\n",
      "[nltk_data]    |     /home/vania/nltk_data...\n",
      "[nltk_data]    |   Package product_reviews_2 is already up-to-date!\n",
      "[nltk_data]    | Downloading package propbank to\n",
      "[nltk_data]    |     /home/vania/nltk_data...\n",
      "[nltk_data]    |   Package propbank is already up-to-date!\n",
      "[nltk_data]    | Downloading package pros_cons to\n",
      "[nltk_data]    |     /home/vania/nltk_data...\n",
      "[nltk_data]    |   Package pros_cons is already up-to-date!\n",
      "[nltk_data]    | Downloading package ptb to /home/vania/nltk_data...\n",
      "[nltk_data]    |   Package ptb is already up-to-date!\n",
      "[nltk_data]    | Downloading package punkt to /home/vania/nltk_data...\n",
      "[nltk_data]    |   Package punkt is already up-to-date!\n",
      "[nltk_data]    | Downloading package punkt_tab to\n",
      "[nltk_data]    |     /home/vania/nltk_data...\n",
      "[nltk_data]    |   Unzipping tokenizers/punkt_tab.zip.\n",
      "[nltk_data]    | Downloading package qc to /home/vania/nltk_data...\n",
      "[nltk_data]    |   Package qc is already up-to-date!\n",
      "[nltk_data]    | Downloading package reuters to\n",
      "[nltk_data]    |     /home/vania/nltk_data...\n",
      "[nltk_data]    |   Package reuters is already up-to-date!\n",
      "[nltk_data]    | Downloading package rslp to /home/vania/nltk_data...\n",
      "[nltk_data]    |   Package rslp is already up-to-date!\n",
      "[nltk_data]    | Downloading package rte to /home/vania/nltk_data...\n",
      "[nltk_data]    |   Package rte is already up-to-date!\n",
      "[nltk_data]    | Downloading package sample_grammars to\n",
      "[nltk_data]    |     /home/vania/nltk_data...\n",
      "[nltk_data]    |   Package sample_grammars is already up-to-date!\n",
      "[nltk_data]    | Downloading package semcor to\n",
      "[nltk_data]    |     /home/vania/nltk_data...\n",
      "[nltk_data]    |   Package semcor is already up-to-date!\n",
      "[nltk_data]    | Downloading package senseval to\n",
      "[nltk_data]    |     /home/vania/nltk_data...\n",
      "[nltk_data]    |   Package senseval is already up-to-date!\n",
      "[nltk_data]    | Downloading package sentence_polarity to\n",
      "[nltk_data]    |     /home/vania/nltk_data...\n",
      "[nltk_data]    |   Package sentence_polarity is already up-to-date!\n",
      "[nltk_data]    | Downloading package sentiwordnet to\n",
      "[nltk_data]    |     /home/vania/nltk_data...\n",
      "[nltk_data]    |   Package sentiwordnet is already up-to-date!\n",
      "[nltk_data]    | Downloading package shakespeare to\n",
      "[nltk_data]    |     /home/vania/nltk_data...\n",
      "[nltk_data]    |   Package shakespeare is already up-to-date!\n",
      "[nltk_data]    | Downloading package sinica_treebank to\n",
      "[nltk_data]    |     /home/vania/nltk_data...\n",
      "[nltk_data]    |   Package sinica_treebank is already up-to-date!\n",
      "[nltk_data]    | Downloading package smultron to\n",
      "[nltk_data]    |     /home/vania/nltk_data...\n",
      "[nltk_data]    |   Package smultron is already up-to-date!\n",
      "[nltk_data]    | Downloading package snowball_data to\n",
      "[nltk_data]    |     /home/vania/nltk_data...\n",
      "[nltk_data]    |   Package snowball_data is already up-to-date!\n",
      "[nltk_data]    | Downloading package spanish_grammars to\n",
      "[nltk_data]    |     /home/vania/nltk_data...\n",
      "[nltk_data]    |   Package spanish_grammars is already up-to-date!\n",
      "[nltk_data]    | Downloading package state_union to\n",
      "[nltk_data]    |     /home/vania/nltk_data...\n",
      "[nltk_data]    |   Package state_union is already up-to-date!\n",
      "[nltk_data]    | Downloading package stopwords to\n",
      "[nltk_data]    |     /home/vania/nltk_data...\n",
      "[nltk_data]    |   Unzipping corpora/stopwords.zip.\n",
      "[nltk_data]    | Downloading package subjectivity to\n",
      "[nltk_data]    |     /home/vania/nltk_data...\n",
      "[nltk_data]    |   Package subjectivity is already up-to-date!\n",
      "[nltk_data]    | Downloading package swadesh to\n",
      "[nltk_data]    |     /home/vania/nltk_data...\n",
      "[nltk_data]    |   Package swadesh is already up-to-date!\n",
      "[nltk_data]    | Downloading package switchboard to\n",
      "[nltk_data]    |     /home/vania/nltk_data...\n",
      "[nltk_data]    |   Package switchboard is already up-to-date!\n",
      "[nltk_data]    | Downloading package tagsets to\n",
      "[nltk_data]    |     /home/vania/nltk_data...\n",
      "[nltk_data]    |   Package tagsets is already up-to-date!\n",
      "[nltk_data]    | Downloading package tagsets_json to\n",
      "[nltk_data]    |     /home/vania/nltk_data...\n"
     ]
    },
    {
     "name": "stdout",
     "output_type": "stream",
     "text": [
      "[nltk_data]    |   Unzipping help/tagsets_json.zip.\n",
      "[nltk_data]    | Downloading package timit to /home/vania/nltk_data...\n",
      "[nltk_data]    |   Package timit is already up-to-date!\n",
      "[nltk_data]    | Downloading package toolbox to\n",
      "[nltk_data]    |     /home/vania/nltk_data...\n",
      "[nltk_data]    |   Package toolbox is already up-to-date!\n",
      "[nltk_data]    | Downloading package treebank to\n",
      "[nltk_data]    |     /home/vania/nltk_data...\n",
      "[nltk_data]    |   Package treebank is already up-to-date!\n",
      "[nltk_data]    | Downloading package twitter_samples to\n",
      "[nltk_data]    |     /home/vania/nltk_data...\n",
      "[nltk_data]    |   Package twitter_samples is already up-to-date!\n",
      "[nltk_data]    | Downloading package udhr to /home/vania/nltk_data...\n",
      "[nltk_data]    |   Package udhr is already up-to-date!\n",
      "[nltk_data]    | Downloading package udhr2 to /home/vania/nltk_data...\n",
      "[nltk_data]    |   Package udhr2 is already up-to-date!\n",
      "[nltk_data]    | Downloading package unicode_samples to\n",
      "[nltk_data]    |     /home/vania/nltk_data...\n",
      "[nltk_data]    |   Package unicode_samples is already up-to-date!\n",
      "[nltk_data]    | Downloading package universal_tagset to\n",
      "[nltk_data]    |     /home/vania/nltk_data...\n",
      "[nltk_data]    |   Package universal_tagset is already up-to-date!\n",
      "[nltk_data]    | Downloading package universal_treebanks_v20 to\n",
      "[nltk_data]    |     /home/vania/nltk_data...\n",
      "[nltk_data]    |   Package universal_treebanks_v20 is already up-to-\n",
      "[nltk_data]    |       date!\n",
      "[nltk_data]    | Downloading package vader_lexicon to\n",
      "[nltk_data]    |     /home/vania/nltk_data...\n",
      "[nltk_data]    |   Package vader_lexicon is already up-to-date!\n",
      "[nltk_data]    | Downloading package verbnet to\n",
      "[nltk_data]    |     /home/vania/nltk_data...\n",
      "[nltk_data]    |   Package verbnet is already up-to-date!\n",
      "[nltk_data]    | Downloading package verbnet3 to\n",
      "[nltk_data]    |     /home/vania/nltk_data...\n",
      "[nltk_data]    |   Package verbnet3 is already up-to-date!\n",
      "[nltk_data]    | Downloading package webtext to\n",
      "[nltk_data]    |     /home/vania/nltk_data...\n",
      "[nltk_data]    |   Package webtext is already up-to-date!\n",
      "[nltk_data]    | Downloading package wmt15_eval to\n",
      "[nltk_data]    |     /home/vania/nltk_data...\n",
      "[nltk_data]    |   Package wmt15_eval is already up-to-date!\n",
      "[nltk_data]    | Downloading package word2vec_sample to\n",
      "[nltk_data]    |     /home/vania/nltk_data...\n",
      "[nltk_data]    |   Package word2vec_sample is already up-to-date!\n",
      "[nltk_data]    | Downloading package wordnet to\n",
      "[nltk_data]    |     /home/vania/nltk_data...\n",
      "[nltk_data]    |   Package wordnet is already up-to-date!\n",
      "[nltk_data]    | Downloading package wordnet2021 to\n",
      "[nltk_data]    |     /home/vania/nltk_data...\n",
      "[nltk_data]    |   Package wordnet2021 is already up-to-date!\n",
      "[nltk_data]    | Downloading package wordnet2022 to\n",
      "[nltk_data]    |     /home/vania/nltk_data...\n",
      "[nltk_data]    |   Package wordnet2022 is already up-to-date!\n",
      "[nltk_data]    | Downloading package wordnet31 to\n",
      "[nltk_data]    |     /home/vania/nltk_data...\n",
      "[nltk_data]    |   Package wordnet31 is already up-to-date!\n",
      "[nltk_data]    | Downloading package wordnet_ic to\n",
      "[nltk_data]    |     /home/vania/nltk_data...\n",
      "[nltk_data]    |   Package wordnet_ic is already up-to-date!\n",
      "[nltk_data]    | Downloading package words to /home/vania/nltk_data...\n",
      "[nltk_data]    |   Package words is already up-to-date!\n",
      "[nltk_data]    | Downloading package ycoe to /home/vania/nltk_data...\n",
      "[nltk_data]    |   Package ycoe is already up-to-date!\n",
      "[nltk_data]    | \n",
      "[nltk_data]  Done downloading collection all\n"
     ]
    }
   ],
   "source": [
    "import numpy as np\n",
    "import matplotlib.pyplot as plt\n",
    "\n",
    "# Procesamiento del lenguaje natural\n",
    "!pip install nltk\n",
    "!pip install --upgrade pip\n",
    "!python -m nltk.downloader all\n",
    "\n",
    "import nltk\n",
    "import string\n",
    "\n",
    "# Experimental?\n",
    "\n",
    "#!pip install sentiment-analysis-spanish\n",
    "#!pip install keras tensorflow\n",
    "\n",
    "from sentiment_analysis_spanish import sentiment_analysis"
   ]
  },
  {
   "cell_type": "markdown",
   "id": "215eaced",
   "metadata": {},
   "source": [
    "En esta sección revisaremos con ejemplos muy sencillos algunas de las combinaciones de funciones Map y Reduce más comunes. Estos ejemplos usan datos muy sencillos."
   ]
  },
  {
   "cell_type": "markdown",
   "id": "ed06630e",
   "metadata": {},
   "source": [
    "### Reduce"
   ]
  },
  {
   "cell_type": "markdown",
   "id": "e69193cf",
   "metadata": {},
   "source": [
    "La operación Reduce asume que todos los valores corresponden a la misma llave, es decir se toma la función Map como la función identidad.\n",
    "\n",
    "Creemos un RDD a partir cuyos elementos sean 500 números enteros, estos los crearemos de forma aleatoria usando numpy"
   ]
  },
  {
   "cell_type": "code",
   "execution_count": 4,
   "id": "75d7513f",
   "metadata": {},
   "outputs": [],
   "source": [
    "np.random.seed(182)\n",
    "dat_numeros = np.random.randint(10, size=500)"
   ]
  },
  {
   "cell_type": "markdown",
   "id": "dfc97926",
   "metadata": {},
   "source": [
    "Veamos una muestra"
   ]
  },
  {
   "cell_type": "code",
   "execution_count": 5,
   "id": "aec22438",
   "metadata": {},
   "outputs": [
    {
     "data": {
      "text/plain": [
       "array([9, 8, 2, 2, 2, 5, 8, 8, 7, 2])"
      ]
     },
     "execution_count": 5,
     "metadata": {},
     "output_type": "execute_result"
    }
   ],
   "source": [
    "dat_numeros[:10]"
   ]
  },
  {
   "cell_type": "markdown",
   "id": "9b80c934",
   "metadata": {},
   "source": [
    "Creamos el RDD y revisamos su contenido"
   ]
  },
  {
   "cell_type": "code",
   "execution_count": 6,
   "id": "f685550b",
   "metadata": {},
   "outputs": [],
   "source": [
    "rdd_numeros = spark.sparkContext.parallelize(dat_numeros)"
   ]
  },
  {
   "cell_type": "code",
   "execution_count": 7,
   "id": "3cac85bc",
   "metadata": {},
   "outputs": [
    {
     "name": "stdout",
     "output_type": "stream",
     "text": [
      "9\n",
      "8\n",
      "2\n",
      "2\n",
      "2\n"
     ]
    },
    {
     "name": "stderr",
     "output_type": "stream",
     "text": [
      "\r",
      "[Stage 0:>                                                          (0 + 1) / 1]\r",
      "\r",
      "                                                                                \r"
     ]
    }
   ],
   "source": [
    "for elemento in rdd_numeros.take(5):\n",
    "    print(elemento)"
   ]
  },
  {
   "cell_type": "markdown",
   "id": "eb353a09",
   "metadata": {},
   "source": [
    "Podemos usar reduce para sumar todos los elementos"
   ]
  },
  {
   "cell_type": "code",
   "execution_count": 8,
   "id": "64d53a48",
   "metadata": {},
   "outputs": [
    {
     "data": {
      "text/plain": [
       "2141"
      ]
     },
     "execution_count": 8,
     "metadata": {},
     "output_type": "execute_result"
    }
   ],
   "source": [
    "suma = rdd_numeros.reduce(lambda a, b: a + b)\n",
    "suma"
   ]
  },
  {
   "cell_type": "markdown",
   "id": "8aa4cde1",
   "metadata": {},
   "source": [
    "O encontrar el número más grande"
   ]
  },
  {
   "cell_type": "code",
   "execution_count": 9,
   "id": "78e02e36",
   "metadata": {},
   "outputs": [
    {
     "data": {
      "text/plain": [
       "9"
      ]
     },
     "execution_count": 9,
     "metadata": {},
     "output_type": "execute_result"
    }
   ],
   "source": [
    "maximo = rdd_numeros.reduce(lambda a, b: a if a > b else b)\n",
    "maximo"
   ]
  },
  {
   "cell_type": "markdown",
   "id": "0ca8ee61",
   "metadata": {},
   "source": [
    "### Map"
   ]
  },
  {
   "cell_type": "markdown",
   "id": "ab493df6",
   "metadata": {},
   "source": [
    "Supongamos ahora que queremos saber la distribución de números en los datos, para esto tendremos que contar cuantas veces aparece cada numero, para esto podemos mapear los elemento de tal forma que cada elemento numero al par cuya llave sea el numero y el valor el numero de apariciones de dicho numero en cada renglón, es decir (numero, 1). Esto lo podemos lograr con la función map de la siguiente forma"
   ]
  },
  {
   "cell_type": "code",
   "execution_count": 10,
   "id": "fbca95fa",
   "metadata": {},
   "outputs": [
    {
     "name": "stdout",
     "output_type": "stream",
     "text": [
      "(9, 1)\n",
      "(8, 1)\n",
      "(2, 1)\n",
      "(2, 1)\n",
      "(2, 1)\n"
     ]
    }
   ],
   "source": [
    "rdd_conteo = rdd_numeros.map(lambda x: (x, 1))\n",
    "\n",
    "for elemento in rdd_conteo.take(5):\n",
    "    print(elemento)"
   ]
  },
  {
   "cell_type": "markdown",
   "id": "28837232",
   "metadata": {},
   "source": [
    "La función map también la podemos usar para transformar a los elementos del RDD de la forma en que queramos. Por ejemplo, podríamos querer obtener las 3 primeras potencias de cada elemento"
   ]
  },
  {
   "cell_type": "code",
   "execution_count": 11,
   "id": "f15b9cc5",
   "metadata": {},
   "outputs": [
    {
     "name": "stdout",
     "output_type": "stream",
     "text": [
      "(9, 81, 729)\n",
      "(8, 64, 512)\n",
      "(2, 4, 8)\n",
      "(2, 4, 8)\n",
      "(2, 4, 8)\n"
     ]
    }
   ],
   "source": [
    "# Podemos pasar una funcion \n",
    "def potencias(x):\n",
    "    return (x**1, x**2, x**3)\n",
    "\n",
    "# Aplicamos la funcion\n",
    "rdd_potencias = rdd_numeros.map(potencias)\n",
    "\n",
    "# Imprimimos \n",
    "for elemento in rdd_potencias.take(5):\n",
    "    print(elemento)"
   ]
  },
  {
   "cell_type": "markdown",
   "id": "05f122fd",
   "metadata": {},
   "source": [
    "### reduceByKey"
   ]
  },
  {
   "cell_type": "markdown",
   "id": "462c5c16",
   "metadata": {},
   "source": [
    "Habiendo transformado nuestros datos en pares (llave, etiqueta) podemos aplicar una función de Reduce, para saber cuantas veces aparece cada numero solo debemos sumar los valores para cada llave. Esto lo logramos de la siguiente manera"
   ]
  },
  {
   "cell_type": "code",
   "execution_count": 12,
   "id": "5dd419fb",
   "metadata": {},
   "outputs": [
    {
     "data": {
      "image/png": "[encoded data removed]",
      "text/plain": [
       "<Figure size 432x288 with 1 Axes>"
      ]
     },
     "metadata": {
      "needs_background": "light"
     },
     "output_type": "display_data"
    }
   ],
   "source": [
    "# Calculamos la suma para cada llave\n",
    "rdd_histograma = rdd_conteo.reduceByKey(lambda a, b: a + b)\n",
    "\n",
    "# Imprimimos el histograma\n",
    "\n",
    "histograma = rdd_histograma.collect()\n",
    "\n",
    "numeros = [ numero for (numero, _) in histograma ]\n",
    "frecuencias = [ frecuencia for (_, frecuencia) in histograma ]\n",
    "plt.bar(numeros, frecuencias)\n",
    "plt.xlabel('Numero')\n",
    "plt.ylabel('Frecuencia')\n",
    "plt.show()"
   ]
  },
  {
   "cell_type": "markdown",
   "id": "58541610",
   "metadata": {},
   "source": [
    "Supongamos ahora que tenemos un texto separado por renglones de la siguiente manera"
   ]
  },
  {
   "cell_type": "code",
   "execution_count": 13,
   "id": "31138c88",
   "metadata": {},
   "outputs": [],
   "source": [
    "texto = ['este es el primer parrafo del texto', \n",
    "         'este es el segundo parrafo del texto', \n",
    "         'agreguemos otro parrafo']"
   ]
  },
  {
   "cell_type": "markdown",
   "id": "1cde4691",
   "metadata": {},
   "source": [
    "Carguamos este texto a un RDD"
   ]
  },
  {
   "cell_type": "code",
   "execution_count": 14,
   "id": "e1c008ff",
   "metadata": {},
   "outputs": [
    {
     "name": "stdout",
     "output_type": "stream",
     "text": [
      "este es el primer parrafo del texto\n",
      "este es el segundo parrafo del texto\n",
      "agreguemos otro parrafo\n"
     ]
    }
   ],
   "source": [
    "rdd_texto = spark.sparkContext.parallelize(texto)\n",
    "\n",
    "for parrafo in rdd_texto.collect():\n",
    "    print(parrafo)"
   ]
  },
  {
   "cell_type": "markdown",
   "id": "b7cd455a",
   "metadata": {},
   "source": [
    "Pensemos que queremos contar cuantas veces aparece cada palabra en todo el texto. Una forma de hacerlo es creando pares (palabra, 1) (parecido al ejemplo pasado), sin embargo los elementos del RDD deberían ser las palabras no los párrafos."
   ]
  },
  {
   "cell_type": "code",
   "execution_count": 15,
   "id": "2bf3a7cc",
   "metadata": {},
   "outputs": [
    {
     "name": "stdout",
     "output_type": "stream",
     "text": [
      "('este es el primer parrafo del texto', 1)\n",
      "('este es el segundo parrafo del texto', 1)\n",
      "('agreguemos otro parrafo', 1)\n"
     ]
    }
   ],
   "source": [
    "rdd_conteo_texto = rdd_texto.map(lambda x: (x, 1))\n",
    "\n",
    "for elemento in rdd_conteo_texto.take(5):\n",
    "    print(elemento)"
   ]
  },
  {
   "cell_type": "markdown",
   "id": "8697e4b7",
   "metadata": {},
   "source": [
    "Para esto existe la función flatMap, nos ayuda a aplanar los elementos del RDD. Veamos como funciona"
   ]
  },
  {
   "cell_type": "code",
   "execution_count": 16,
   "id": "921f0b14",
   "metadata": {},
   "outputs": [
    {
     "name": "stdout",
     "output_type": "stream",
     "text": [
      "este\n",
      "es\n",
      "el\n",
      "primer\n",
      "parrafo\n",
      "del\n",
      "texto\n",
      "este\n",
      "es\n",
      "el\n"
     ]
    }
   ],
   "source": [
    "rdd_palabras = rdd_texto.flatMap(lambda parrafo: parrafo.split(' '))\n",
    "\n",
    "for palabra in rdd_palabras.take(10):\n",
    "    print(palabra)"
   ]
  },
  {
   "cell_type": "markdown",
   "id": "31f92c0b",
   "metadata": {},
   "source": [
    "Para el conteo de palabras..."
   ]
  },
  {
   "cell_type": "code",
   "execution_count": 17,
   "id": "a6d33e85",
   "metadata": {},
   "outputs": [
    {
     "name": "stdout",
     "output_type": "stream",
     "text": [
      "PALABRA    FRECUENCIA\n",
      "parrafo    3         \n",
      "este       2         \n",
      "el         2         \n",
      "es         2         \n",
      "del        2         \n",
      "texto      2         \n",
      "segundo    1         \n",
      "primer     1         \n",
      "agreguemos 1         \n",
      "otro       1         \n"
     ]
    }
   ],
   "source": [
    "histograma_palabras = rdd_palabras.map(lambda palabra: (palabra, 1)) \\\n",
    "                                  .reduceByKey(lambda a, b: a + b) \\\n",
    "                                  .sortBy(lambda x: x[1], ascending = False) \\\n",
    "                                  .collect()\n",
    "\n",
    "\n",
    "print (\"{:<10} {:<10}\".format('PALABRA', 'FRECUENCIA'))\n",
    "\n",
    "for palabra, frecuencia in histograma_palabras:\n",
    "    print (\"{:<10} {:<10}\".format(palabra, frecuencia))"
   ]
  },
  {
   "cell_type": "markdown",
   "id": "879708c8",
   "metadata": {},
   "source": [
    "Si quisiéramos separar las tareas map y reduce"
   ]
  },
  {
   "cell_type": "code",
   "execution_count": 18,
   "id": "f41cced9",
   "metadata": {},
   "outputs": [
    {
     "name": "stdout",
     "output_type": "stream",
     "text": [
      "Resultado del Map\n",
      "('este', 1)\n",
      "('es', 1)\n",
      "('el', 1)\n",
      "('primer', 1)\n",
      "('parrafo', 1)\n",
      "\n",
      "Resultado del Reduce\n",
      "('parrafo', 3)\n",
      "('este', 2)\n",
      "('el', 2)\n",
      "('es', 2)\n",
      "('del', 2)\n"
     ]
    }
   ],
   "source": [
    "# Map\n",
    "rdd_par_palabras = rdd_texto.flatMap(lambda parrafo: parrafo.split(' ')) \\\n",
    "                            .map(lambda palabra: (palabra, 1))\n",
    "\n",
    "print('Resultado del Map')\n",
    "for par in rdd_par_palabras.take(5):\n",
    "    print(par)\n",
    "\n",
    "# Reduce\n",
    "rdd_histograma_palabras = rdd_par_palabras.reduceByKey(lambda a, b: a + b) \\\n",
    "                                      .sortBy(lambda x: x[1], ascending = False)\n",
    "\n",
    "print('\\nResultado del Reduce')\n",
    "for par in rdd_histograma_palabras.take(5):\n",
    "    print(par)                                "
   ]
  },
  {
   "cell_type": "markdown",
   "id": "3a302f75",
   "metadata": {},
   "source": [
    "### mapValues"
   ]
  },
  {
   "cell_type": "markdown",
   "id": "c0093ec6",
   "metadata": {},
   "source": [
    "Otra función que puede resultar útil al momento de crear funciones Map es la de mapValues. Imaginemos que ahora tenemos tres textos diferentes"
   ]
  },
  {
   "cell_type": "code",
   "execution_count": 19,
   "id": "98126cd8",
   "metadata": {},
   "outputs": [],
   "source": [
    "texto_1 = ['esto es un parrafo', 'otro_parrafo']\n",
    "texto_2 = ['este texto solo tiene un parrafo']\n",
    "texto_3 = ['parrafo 1', 'parrafo 2', 'parrafo 3']\n",
    "\n",
    "textos = [('texto_1', texto_1), ('texto_2', texto_2), ('texto_3', texto_3)]"
   ]
  },
  {
   "cell_type": "markdown",
   "id": "556893cf",
   "metadata": {},
   "source": [
    "Creamos un RDD con los textos"
   ]
  },
  {
   "cell_type": "code",
   "execution_count": 20,
   "id": "258d0e78",
   "metadata": {},
   "outputs": [
    {
     "name": "stdout",
     "output_type": "stream",
     "text": [
      "('texto_1', ['esto es un parrafo', 'otro_parrafo'])\n"
     ]
    }
   ],
   "source": [
    "rdd_textos = spark.sparkContext.parallelize(textos)\n",
    "\n",
    "for texto in rdd_textos.take(1):\n",
    "    print(texto)"
   ]
  },
  {
   "cell_type": "markdown",
   "id": "456a6cff",
   "metadata": {},
   "source": [
    "Este RDD ya está formateado en pares (texto_id, texto). \n",
    "\n",
    "Si quisiéramos saber cuantos párrafos tiene cada texto deberíamos encontrar una forma de calcular len(texto) para cada par sin alterar la llave. Podemos hacer esto usando la función mapValues, que dado un par (llave, valor) aplica una transformación solo al valor"
   ]
  },
  {
   "cell_type": "code",
   "execution_count": 21,
   "id": "e6d45574",
   "metadata": {},
   "outputs": [
    {
     "name": "stdout",
     "output_type": "stream",
     "text": [
      "TEXTO      NUM_PARRAFOS\n",
      "texto_1    2         \n",
      "texto_2    1         \n",
      "texto_3    3         \n"
     ]
    }
   ],
   "source": [
    "rdd_num_parrafos = rdd_textos.mapValues(lambda valor: len(valor))\n",
    "\n",
    "print (\"{:<10} {:<10}\".format('TEXTO', 'NUM_PARRAFOS'))\n",
    "\n",
    "for texto, num_parrafos in rdd_num_parrafos.collect():\n",
    "    print (\"{:<10} {:<10}\".format(texto, num_parrafos))"
   ]
  },
  {
   "cell_type": "markdown",
   "id": "6a3f9d32",
   "metadata": {},
   "source": [
    "### Caso de Uso"
   ]
  },
  {
   "cell_type": "markdown",
   "id": "f3333dda",
   "metadata": {},
   "source": [
    "En nuestro caso de uso emplearemos una base de datos que contiene las letras del top 10 de canciones en México según spotify (esto es para el día 4 de marzo de 2021). Por simplicidad se han omitido las canciones que estén en ingles.\n",
    "\n",
    "La base de datos cuenta con los siguientes campos canción, artista y letra separados por el caracter '*'. "
   ]
  },
  {
   "cell_type": "code",
   "execution_count": 22,
   "id": "2bdb511c",
   "metadata": {},
   "outputs": [
    {
     "name": "stdout",
     "output_type": "stream",
     "text": [
      "['Bad Bunny, Jhay Cortez', 'DÁKITI', \"Baby, ya yo me enteré, se nota cuando me ve' Ahí donde no has llegao' sabes que yo te llevaré Y dime qué quieres beber, es que tú eres mi bebé ¿Y de nosotros quién va a hablar? Si no nos dejamos ver Y a veces es Dolce, a veces Bulgari Cuando te lo quito después de los parties Las copas de vino, las libras de mari Tú estás bien suelta, yo de safari Tú mueve' el culo fenomenal Pa' yo devorarte como animal Si no te has vení'o, yo te vo' a esperar En mi cama y lo vo' a celebrar Baby, a ti no me opongo Y siempre te lo pongo Y si tú me tiras, vamo' a nadar en lo hondo Si es por mí te lo pongo De septiembre hasta agosto A mí sin cojone' lo que digan tus amigas Ya yo me enteré, se nota cuando me ve' Ahí donde no has llegao' sabes que yo te llevaré Y dime qué quieres beber, es que tú eres mi bebé ¿Y de nosotros quién va a hablar? Si no nos dejamos ver (¿me sigues?) Mami, me tienes juqueao', sí Si fueras la Uru, me tuvieses parqueao' Dando vueltas por Condado, contigo siempre arrebatao' Tú no eres mi señora, pero Toma cinco mil, gástalo en Sephora Louis Vuitton, ya no compra en Pandora Como piercing a los hombres perfora, eh-eh-eh Hace tiempo le rompieron el cora (el cora) Estudiosa, puesta pa' ser doctora (doctora) Pero (pero), le gustan los títeres wheeleando motoras (motoras) Yo estoy pa' ti las veinticuatro hora' Baby, a ti no me opongo Y siempre te lo pongo (-pre te lo pongo) Y si tú me tiras, vamo' a nadar en lo hondo (nadar en lo hondo) Si es por mí te lo pongo De septiembre hasta agosto Y a mí sin cojone' lo que digan tus amigas Ya yo me enteré, se nota cuando me ve' Ahí donde no has llegao' sabes que yo te llevaré Y dime qué quieres beber, es que tú eres mi bebé ¿Y de nosotros quién va a hablar? Si no nos dejamos ver Y a veces es Dolce, a veces Bulgari Cuando te lo quito después de los parties Las copas de vino, las libras de mari Tú estás bien suelta, yo de safari Tú mueve' el culo fenomenal Pa' yo devorarte como animal Si no te has vení'o, yo te vo' a esperar En mi cama y lo vo' a celebrar\"]\n"
     ]
    }
   ],
   "source": [
    "rdd_letras = spark.sparkContext.textFile('../data/top_10_mexico.csv').map(lambda x: x.split('*'))\n",
    "\n",
    "for cancion in rdd_letras.take(1):\n",
    "    print(cancion)"
   ]
  },
  {
   "cell_type": "markdown",
   "id": "59f0953a",
   "metadata": {},
   "source": [
    "### Limpieza de datos"
   ]
  },
  {
   "cell_type": "markdown",
   "id": "f2318dfb",
   "metadata": {},
   "source": [
    "Notemos que las letras de canciones, como el texto en general, deben ser preprocesados para poder analizados de una forma más eficiente. En nuestro caso nos enfocaremos en los siguientes puntos:\n",
    "\n",
    "    Transformar todo el texto a minúsculas.\n",
    "    Eliminar signos de puntuación.\n",
    "    Eliminar las palabras vacías, que son palabras que aportan poco contexto al problema.\n",
    "\n",
    "Empecemos transformando las letras a minúsculas"
   ]
  },
  {
   "cell_type": "code",
   "execution_count": 23,
   "id": "43edf8af",
   "metadata": {},
   "outputs": [
    {
     "name": "stdout",
     "output_type": "stream",
     "text": [
      "baby, ya yo me enteré, se nota cuando me ve' ahí donde no has llegao' sabes que yo te llevaré y dime qué quieres beber, es que tú eres mi bebé ¿y de nosotros quién va a hablar? si no nos dejamos ver y a veces es dolce, a veces bulgari cuando te lo quito después de los parties las copas de vino, las libras de mari tú estás bien suelta, yo de safari tú mueve' el culo fenomenal pa' yo devorarte como animal si no te has vení'o, yo te vo' a esperar en mi cama y lo vo' a celebrar baby, a ti no me opongo y siempre te lo pongo y si tú me tiras, vamo' a nadar en lo hondo si es por mí te lo pongo de septiembre hasta agosto a mí sin cojone' lo que digan tus amigas ya yo me enteré, se nota cuando me ve' ahí donde no has llegao' sabes que yo te llevaré y dime qué quieres beber, es que tú eres mi bebé ¿y de nosotros quién va a hablar? si no nos dejamos ver (¿me sigues?) mami, me tienes juqueao', sí si fueras la uru, me tuvieses parqueao' dando vueltas por condado, contigo siempre arrebatao' tú no eres mi señora, pero toma cinco mil, gástalo en sephora louis vuitton, ya no compra en pandora como piercing a los hombres perfora, eh-eh-eh hace tiempo le rompieron el cora (el cora) estudiosa, puesta pa' ser doctora (doctora) pero (pero), le gustan los títeres wheeleando motoras (motoras) yo estoy pa' ti las veinticuatro hora' baby, a ti no me opongo y siempre te lo pongo (-pre te lo pongo) y si tú me tiras, vamo' a nadar en lo hondo (nadar en lo hondo) si es por mí te lo pongo de septiembre hasta agosto y a mí sin cojone' lo que digan tus amigas ya yo me enteré, se nota cuando me ve' ahí donde no has llegao' sabes que yo te llevaré y dime qué quieres beber, es que tú eres mi bebé ¿y de nosotros quién va a hablar? si no nos dejamos ver y a veces es dolce, a veces bulgari cuando te lo quito después de los parties las copas de vino, las libras de mari tú estás bien suelta, yo de safari tú mueve' el culo fenomenal pa' yo devorarte como animal si no te has vení'o, yo te vo' a esperar en mi cama y lo vo' a celebrar \n",
      "\n"
     ]
    }
   ],
   "source": [
    "rdd_letras = rdd_letras.map(lambda x: (x[0], x[1], x[2].lower()))\n",
    "\n",
    "for letra in rdd_letras.take(1):\n",
    "    print(letra[2],'\\n')"
   ]
  },
  {
   "cell_type": "markdown",
   "id": "41467103",
   "metadata": {},
   "source": [
    "Para poder tratar con el texto a nivel de palabras debemos hacer lo siguiente"
   ]
  },
  {
   "cell_type": "code",
   "execution_count": 24,
   "id": "6b314a5c",
   "metadata": {},
   "outputs": [
    {
     "name": "stdout",
     "output_type": "stream",
     "text": [
      "['baby,', 'ya', 'yo', 'me', 'enteré,', 'se', 'nota', 'cuando', 'me', \"ve'\", 'ahí', 'donde', 'no', 'has', \"llegao'\", 'sabes', 'que', 'yo', 'te', 'llevaré', 'y', 'dime', 'qué', 'quieres', 'beber,', 'es', 'que', 'tú', 'eres', 'mi', 'bebé', '¿y', 'de', 'nosotros', 'quién', 'va', 'a', 'hablar?', 'si', 'no', 'nos', 'dejamos', 'ver', 'y', 'a', 'veces', 'es', 'dolce,', 'a', 'veces', 'bulgari', 'cuando', 'te', 'lo', 'quito', 'después', 'de', 'los', 'parties', 'las', 'copas', 'de', 'vino,', 'las', 'libras', 'de', 'mari', 'tú', 'estás', 'bien', 'suelta,', 'yo', 'de', 'safari', 'tú', \"mueve'\", 'el', 'culo', 'fenomenal', \"pa'\", 'yo', 'devorarte', 'como', 'animal', 'si', 'no', 'te', 'has', \"vení'o,\", 'yo', 'te', \"vo'\", 'a', 'esperar', 'en', 'mi', 'cama', 'y', 'lo', \"vo'\", 'a', 'celebrar', 'baby,', 'a', 'ti', 'no', 'me', 'opongo', 'y', 'siempre', 'te', 'lo', 'pongo', 'y', 'si', 'tú', 'me', 'tiras,', \"vamo'\", 'a', 'nadar', 'en', 'lo', 'hondo', 'si', 'es', 'por', 'mí', 'te', 'lo', 'pongo', 'de', 'septiembre', 'hasta', 'agosto', 'a', 'mí', 'sin', \"cojone'\", 'lo', 'que', 'digan', 'tus', 'amigas', 'ya', 'yo', 'me', 'enteré,', 'se', 'nota', 'cuando', 'me', \"ve'\", 'ahí', 'donde', 'no', 'has', \"llegao'\", 'sabes', 'que', 'yo', 'te', 'llevaré', 'y', 'dime', 'qué', 'quieres', 'beber,', 'es', 'que', 'tú', 'eres', 'mi', 'bebé', '¿y', 'de', 'nosotros', 'quién', 'va', 'a', 'hablar?', 'si', 'no', 'nos', 'dejamos', 'ver', '(¿me', 'sigues?)', 'mami,', 'me', 'tienes', \"juqueao',\", 'sí', 'si', 'fueras', 'la', 'uru,', 'me', 'tuvieses', \"parqueao'\", 'dando', 'vueltas', 'por', 'condado,', 'contigo', 'siempre', \"arrebatao'\", 'tú', 'no', 'eres', 'mi', 'señora,', 'pero', 'toma', 'cinco', 'mil,', 'gástalo', 'en', 'sephora', 'louis', 'vuitton,', 'ya', 'no', 'compra', 'en', 'pandora', 'como', 'piercing', 'a', 'los', 'hombres', 'perfora,', 'eh-eh-eh', 'hace', 'tiempo', 'le', 'rompieron', 'el', 'cora', '(el', 'cora)', 'estudiosa,', 'puesta', \"pa'\", 'ser', 'doctora', '(doctora)', 'pero', '(pero),', 'le', 'gustan', 'los', 'títeres', 'wheeleando', 'motoras', '(motoras)', 'yo', 'estoy', \"pa'\", 'ti', 'las', 'veinticuatro', \"hora'\", 'baby,', 'a', 'ti', 'no', 'me', 'opongo', 'y', 'siempre', 'te', 'lo', 'pongo', '(-pre', 'te', 'lo', 'pongo)', 'y', 'si', 'tú', 'me', 'tiras,', \"vamo'\", 'a', 'nadar', 'en', 'lo', 'hondo', '(nadar', 'en', 'lo', 'hondo)', 'si', 'es', 'por', 'mí', 'te', 'lo', 'pongo', 'de', 'septiembre', 'hasta', 'agosto', 'y', 'a', 'mí', 'sin', \"cojone'\", 'lo', 'que', 'digan', 'tus', 'amigas', 'ya', 'yo', 'me', 'enteré,', 'se', 'nota', 'cuando', 'me', \"ve'\", 'ahí', 'donde', 'no', 'has', \"llegao'\", 'sabes', 'que', 'yo', 'te', 'llevaré', 'y', 'dime', 'qué', 'quieres', 'beber,', 'es', 'que', 'tú', 'eres', 'mi', 'bebé', '¿y', 'de', 'nosotros', 'quién', 'va', 'a', 'hablar?', 'si', 'no', 'nos', 'dejamos', 'ver', 'y', 'a', 'veces', 'es', 'dolce,', 'a', 'veces', 'bulgari', 'cuando', 'te', 'lo', 'quito', 'después', 'de', 'los', 'parties', 'las', 'copas', 'de', 'vino,', 'las', 'libras', 'de', 'mari', 'tú', 'estás', 'bien', 'suelta,', 'yo', 'de', 'safari', 'tú', \"mueve'\", 'el', 'culo', 'fenomenal', \"pa'\", 'yo', 'devorarte', 'como', 'animal', 'si', 'no', 'te', 'has', \"vení'o,\", 'yo', 'te', \"vo'\", 'a', 'esperar', 'en', 'mi', 'cama', 'y', 'lo', \"vo'\", 'a', 'celebrar']\n"
     ]
    }
   ],
   "source": [
    "rdd_letras = rdd_letras.map(lambda x: (x[0], x[1], x[2].split(' ')))\n",
    "\n",
    "for letra in rdd_letras.take(1):\n",
    "    l = letra[2]\n",
    "    print(letra[2])"
   ]
  },
  {
   "cell_type": "markdown",
   "id": "e0151b5e",
   "metadata": {},
   "source": [
    "Eliminamos los signos de puntuación"
   ]
  },
  {
   "cell_type": "code",
   "execution_count": 25,
   "id": "64638baa",
   "metadata": {},
   "outputs": [
    {
     "name": "stdout",
     "output_type": "stream",
     "text": [
      "['baby', 'ya', 'yo', 'me', 'enteré', 'se', 'nota', 'cuando', 'me', 've', 'ahí', 'donde', 'no', 'has', 'llegao', 'sabes', 'que', 'yo', 'te', 'llevaré', 'y', 'dime', 'qué', 'quieres', 'beber', 'es', 'que', 'tú', 'eres', 'mi', 'bebé', 'y', 'de', 'nosotros', 'quién', 'va', 'a', 'hablar', 'si', 'no', 'nos', 'dejamos', 'ver', 'y', 'a', 'veces', 'es', 'dolce', 'a', 'veces', 'bulgari', 'cuando', 'te', 'lo', 'quito', 'después', 'de', 'los', 'parties', 'las', 'copas', 'de', 'vino', 'las', 'libras', 'de', 'mari', 'tú', 'estás', 'bien', 'suelta', 'yo', 'de', 'safari', 'tú', 'mueve', 'el', 'culo', 'fenomenal', 'pa', 'yo', 'devorarte', 'como', 'animal', 'si', 'no', 'te', 'has', 'venío', 'yo', 'te', 'vo', 'a', 'esperar', 'en', 'mi', 'cama', 'y', 'lo', 'vo', 'a', 'celebrar', 'baby', 'a', 'ti', 'no', 'me', 'opongo', 'y', 'siempre', 'te', 'lo', 'pongo', 'y', 'si', 'tú', 'me', 'tiras', 'vamo', 'a', 'nadar', 'en', 'lo', 'hondo', 'si', 'es', 'por', 'mí', 'te', 'lo', 'pongo', 'de', 'septiembre', 'hasta', 'agosto', 'a', 'mí', 'sin', 'cojone', 'lo', 'que', 'digan', 'tus', 'amigas', 'ya', 'yo', 'me', 'enteré', 'se', 'nota', 'cuando', 'me', 've', 'ahí', 'donde', 'no', 'has', 'llegao', 'sabes', 'que', 'yo', 'te', 'llevaré', 'y', 'dime', 'qué', 'quieres', 'beber', 'es', 'que', 'tú', 'eres', 'mi', 'bebé', 'y', 'de', 'nosotros', 'quién', 'va', 'a', 'hablar', 'si', 'no', 'nos', 'dejamos', 'ver', 'me', 'sigues', 'mami', 'me', 'tienes', 'juqueao', 'sí', 'si', 'fueras', 'la', 'uru', 'me', 'tuvieses', 'parqueao', 'dando', 'vueltas', 'por', 'condado', 'contigo', 'siempre', 'arrebatao', 'tú', 'no', 'eres', 'mi', 'señora', 'pero', 'toma', 'cinco', 'mil', 'gástalo', 'en', 'sephora', 'louis', 'vuitton', 'ya', 'no', 'compra', 'en', 'pandora', 'como', 'piercing', 'a', 'los', 'hombres', 'perfora', 'eheheh', 'hace', 'tiempo', 'le', 'rompieron', 'el', 'cora', 'el', 'cora', 'estudiosa', 'puesta', 'pa', 'ser', 'doctora', 'doctora', 'pero', 'pero', 'le', 'gustan', 'los', 'títeres', 'wheeleando', 'motoras', 'motoras', 'yo', 'estoy', 'pa', 'ti', 'las', 'veinticuatro', 'hora', 'baby', 'a', 'ti', 'no', 'me', 'opongo', 'y', 'siempre', 'te', 'lo', 'pongo', 'pre', 'te', 'lo', 'pongo', 'y', 'si', 'tú', 'me', 'tiras', 'vamo', 'a', 'nadar', 'en', 'lo', 'hondo', 'nadar', 'en', 'lo', 'hondo', 'si', 'es', 'por', 'mí', 'te', 'lo', 'pongo', 'de', 'septiembre', 'hasta', 'agosto', 'y', 'a', 'mí', 'sin', 'cojone', 'lo', 'que', 'digan', 'tus', 'amigas', 'ya', 'yo', 'me', 'enteré', 'se', 'nota', 'cuando', 'me', 've', 'ahí', 'donde', 'no', 'has', 'llegao', 'sabes', 'que', 'yo', 'te', 'llevaré', 'y', 'dime', 'qué', 'quieres', 'beber', 'es', 'que', 'tú', 'eres', 'mi', 'bebé', 'y', 'de', 'nosotros', 'quién', 'va', 'a', 'hablar', 'si', 'no', 'nos', 'dejamos', 'ver', 'y', 'a', 'veces', 'es', 'dolce', 'a', 'veces', 'bulgari', 'cuando', 'te', 'lo', 'quito', 'después', 'de', 'los', 'parties', 'las', 'copas', 'de', 'vino', 'las', 'libras', 'de', 'mari', 'tú', 'estás', 'bien', 'suelta', 'yo', 'de', 'safari', 'tú', 'mueve', 'el', 'culo', 'fenomenal', 'pa', 'yo', 'devorarte', 'como', 'animal', 'si', 'no', 'te', 'has', 'venío', 'yo', 'te', 'vo', 'a', 'esperar', 'en', 'mi', 'cama', 'y', 'lo', 'vo', 'a', 'celebrar'] \n",
      "\n"
     ]
    }
   ],
   "source": [
    "# Agregamos los simbolos usado en espanol\n",
    "signos_puntuacion = list(string.punctuation) + ['¡', '¿']\n",
    "\n",
    "def elimina_puntuacion(letra):\n",
    "    letra_limpia = [''.join(caracter for caracter in palabra if caracter not in signos_puntuacion) for palabra in letra] \n",
    "    return letra_limpia\n",
    "\n",
    "rdd_letras = rdd_letras.map(lambda x: (x[0], x[1], elimina_puntuacion(x[2])))\n",
    "\n",
    "for letra in rdd_letras.take(1):\n",
    "    print(letra[2], '\\n')"
   ]
  },
  {
   "cell_type": "markdown",
   "id": "76a3538d",
   "metadata": {},
   "source": [
    "Eliminamos las palabras vacías"
   ]
  },
  {
   "cell_type": "code",
   "execution_count": 26,
   "id": "b0a5e60d",
   "metadata": {},
   "outputs": [
    {
     "name": "stdout",
     "output_type": "stream",
     "text": [
      "['baby', 'enteré', 'nota', 've', 'ahí', 'llegao', 'sabes', 'llevaré', 'dime', 'quieres', 'beber', 'bebé', 'quién', 'va', 'hablar', 'si', 'dejamos', 'ver', 'veces', 'dolce', 'veces', 'bulgari', 'quito', 'después', 'parties', 'copas', 'vino', 'libras', 'mari', 'bien', 'suelta', 'safari', 'mueve', 'culo', 'fenomenal', 'pa', 'devorarte', 'animal', 'si', 'venío', 'vo', 'esperar', 'cama', 'vo', 'celebrar', 'baby', 'opongo', 'siempre', 'pongo', 'si', 'tiras', 'vamo', 'nadar', 'hondo', 'si', 'pongo', 'septiembre', 'agosto', 'cojone', 'digan', 'amigas', 'enteré', 'nota', 've', 'ahí', 'llegao', 'sabes', 'llevaré', 'dime', 'quieres', 'beber', 'bebé', 'quién', 'va', 'hablar', 'si', 'dejamos', 'ver', 'sigues', 'mami', 'juqueao', 'si', 'uru', 'parqueao', 'dando', 'vueltas', 'condado', 'contigo', 'siempre', 'arrebatao', 'señora', 'toma', 'cinco', 'mil', 'gástalo', 'sephora', 'louis', 'vuitton', 'compra', 'pandora', 'piercing', 'hombres', 'perfora', 'eheheh', 'hace', 'tiempo', 'rompieron', 'cora', 'cora', 'estudiosa', 'puesta', 'pa', 'ser', 'doctora', 'doctora', 'gustan', 'títeres', 'wheeleando', 'motoras', 'motoras', 'pa', 'veinticuatro', 'hora', 'baby', 'opongo', 'siempre', 'pongo', 'pre', 'pongo', 'si', 'tiras', 'vamo', 'nadar', 'hondo', 'nadar', 'hondo', 'si', 'pongo', 'septiembre', 'agosto', 'cojone', 'digan', 'amigas', 'enteré', 'nota', 've', 'ahí', 'llegao', 'sabes', 'llevaré', 'dime', 'quieres', 'beber', 'bebé', 'quién', 'va', 'hablar', 'si', 'dejamos', 'ver', 'veces', 'dolce', 'veces', 'bulgari', 'quito', 'después', 'parties', 'copas', 'vino', 'libras', 'mari', 'bien', 'suelta', 'safari', 'mueve', 'culo', 'fenomenal', 'pa', 'devorarte', 'animal', 'si', 'venío', 'vo', 'esperar', 'cama', 'vo', 'celebrar'] \n",
      "\n"
     ]
    }
   ],
   "source": [
    "palabras_vacias = nltk.corpus.stopwords.words('spanish') + ['']\n",
    "\n",
    "def quita_palabras_vacias(letra):\n",
    "    letra_limpia = [palabra for palabra in letra if palabra not in palabras_vacias]\n",
    "    return letra_limpia\n",
    "\n",
    "rdd_letras = rdd_letras.map(lambda x: (x[0], x[1], quita_palabras_vacias(x[2])))\n",
    "\n",
    "for letra in rdd_letras.take(1):\n",
    "    print(letra[2], '\\n')"
   ]
  },
  {
   "cell_type": "markdown",
   "id": "a3d0caeb",
   "metadata": {},
   "source": [
    "#### Palabras más usadas"
   ]
  },
  {
   "cell_type": "markdown",
   "id": "c8ca8b0e",
   "metadata": {},
   "source": [
    "Ya con los datos limpios podemos hacer algunos análisis. Veamos cuales son las palabras más empleadas en las letras de las canciones"
   ]
  },
  {
   "cell_type": "code",
   "execution_count": 27,
   "id": "71e8cc8d",
   "metadata": {},
   "outputs": [
    {
     "name": "stdout",
     "output_type": "stream",
     "text": [
      "PALABRA    FRECUENCIA\n",
      "baila      60        \n",
      "si         52        \n",
      "pa         46        \n",
      "eh         46        \n",
      "baby       33        \n",
      "pumpum     20        \n",
      "ahora      19        \n",
      "ey         15        \n",
      "solo       15        \n",
      "prada      15        \n",
      "gucci      15        \n",
      "sigo       14        \n",
      "conmigo    14        \n",
      "yeah       14        \n",
      "oh         13        \n",
      "ver        12        \n",
      "noche      12        \n",
      "bien       11        \n",
      "encima     11        \n",
      "corazón    11        \n",
      "vez        11        \n",
      "tiempo     11        \n",
      "na         11        \n",
      "va         10        \n",
      "wuh        10        \n",
      "amor       10        \n",
      "pégate     10        \n",
      "ven        10        \n",
      "así        10        \n",
      "balenciaga 10        \n"
     ]
    }
   ],
   "source": [
    "rdd_palabras_histograma = rdd_letras.map(lambda x: [(palabra, 1) for palabra in x[2]]) \\\n",
    "                         .flatMap(lambda x: x) \\\n",
    "                         .reduceByKey(lambda a, b: a + b) \\\n",
    "                         .sortBy(lambda x: x[1], ascending = False)\n",
    "\n",
    "print (\"{:<10} {:<10}\".format('PALABRA', 'FRECUENCIA'))                     \n",
    "\n",
    "for palabra, frecuencia in rdd_palabras_histograma.take(30):\n",
    "    print (\"{:<10} {:<10}\".format(palabra, frecuencia))"
   ]
  },
  {
   "cell_type": "markdown",
   "id": "3f382609",
   "metadata": {},
   "source": [
    "### Análisis de sentimientos"
   ]
  },
  {
   "cell_type": "markdown",
   "id": "81816fae",
   "metadata": {},
   "source": [
    "Usaremos la biblioteca sentiment_analysis para realizar el análisis de sentimiento de las letras de canciones. En la documentación menciona que se calcula la probabilidad de que el texto sea clasificado como positivo. Aunque se menciona que existe un rango entre 0 y 1 para los cuales el texto se considera neutro, dado que no se especifica dichos umbrales, en este caso solo clasificaremos las palabras entre positivas y negativas."
   ]
  },
  {
   "cell_type": "code",
   "execution_count": 30,
   "id": "c8ce8fe1",
   "metadata": {},
   "outputs": [
    {
     "name": "stderr",
     "output_type": "stream",
     "text": [
      "/home/vania/jupyter/jupyterenv/lib/python3.8/site-packages/sklearn/base.py:329: UserWarning: Trying to unpickle estimator CountVectorizer from version 0.23.2 when using version 1.0.2. This might lead to breaking code or invalid results. Use at your own risk. For more info please refer to:\n",
      "https://scikit-learn.org/stable/modules/model_persistence.html#security-maintainability-limitations\n",
      "  warnings.warn(\n",
      "/home/vania/jupyter/jupyterenv/lib/python3.8/site-packages/sklearn/base.py:329: UserWarning: Trying to unpickle estimator MultinomialNB from version 0.23.2 when using version 1.0.2. This might lead to breaking code or invalid results. Use at your own risk. For more info please refer to:\n",
      "https://scikit-learn.org/stable/modules/model_persistence.html#security-maintainability-limitations\n",
      "  warnings.warn(\n",
      "                                                                                \r"
     ]
    },
    {
     "data": {
      "image/png": "[encoded data removed]",
      "text/plain": [
       "<Figure size 432x288 with 1 Axes>"
      ]
     },
     "metadata": {
      "needs_background": "light"
     },
     "output_type": "display_data"
    }
   ],
   "source": [
    "sentiment = sentiment_analysis.SentimentAnalysisSpanish()\n",
    "\n",
    "def sentimiento(palabra):\n",
    "\n",
    "    prob = sentiment.sentiment(palabra)\n",
    "\n",
    "    if prob >= 0.4:\n",
    "        return 'positivo'\n",
    "    else:\n",
    "        return 'negativo'\n",
    "\n",
    "histograma_sentimientos = rdd_letras.flatMap(lambda x: x[2]) \\\n",
    "                                    .map(lambda x: (sentimiento(x), 1)) \\\n",
    "                                    .reduceByKey(lambda a, b: a + b) \\\n",
    "                                    .collect()\n",
    "\n",
    "sentimientos = [ sentimiento for (sentimiento, _) in histograma_sentimientos ]\n",
    "frecuencias = [ frecuencia for (_, frecuencia) in histograma_sentimientos ]\n",
    "plt.bar(sentimientos, frecuencias)\n",
    "plt.xlabel('Sentimientos')\n",
    "plt.ylabel('Numero de palabras')\n",
    "plt.show()"
   ]
  },
  {
   "cell_type": "markdown",
   "id": "4ac0a3a6",
   "metadata": {},
   "source": [
    "### Práctica II (Individual)"
   ]
  },
  {
   "cell_type": "markdown",
   "id": "891c5542",
   "metadata": {},
   "source": [
    "\n",
    "Ejercicio\n",
    "\n",
    "Encuentre en cuales canciones se encuentra cada palabra. Es decir, calcule un RDD cuyos elementos sean (palabra, (cancion_1, cancion_3)).\n",
    "\n",
    "Hint: Investigue la función flatMapValues\n"
   ]
  },
  {
   "cell_type": "markdown",
   "id": "3b021646",
   "metadata": {},
   "source": [
    "Basado en los apuntes del Dr. Gibran Fuentes"
   ]
  }
 ],
 "metadata": {
  "kernelspec": {
   "display_name": "Python 3 (ipykernel)",
   "language": "python",
   "name": "python3"
  },
  "language_info": {
   "codemirror_mode": {
    "name": "ipython",
    "version": 3
   },
   "file_extension": ".py",
   "mimetype": "text/x-python",
   "name": "python",
   "nbconvert_exporter": "python",
   "pygments_lexer": "ipython3",
   "version": "3.8.10"
  }
 },
 "nbformat": 4,
 "nbformat_minor": 5
}
