{
 "cells": [
  {
   "cell_type": "markdown",
   "id": "d7cc8184",
   "metadata": {},
   "source": [
    "## Filtro de Bloom"
   ]
  },
  {
   "cell_type": "code",
   "execution_count": 1,
   "id": "5b03db51",
   "metadata": {},
   "outputs": [],
   "source": [
    "import numpy as np\n",
    "import murmurhash\n",
    "\n",
    "class FiltroBloom:  \n",
    "    def __init__(self, n, m, k):  \n",
    "        self.n = n\n",
    "        self.m = m\n",
    "        self.k = k\n",
    "        self.arrbit = np.zeros(n, dtype=np.bool)\n",
    "\n",
    "    def registra(self, s):\n",
    "        for i in range(self.k):\n",
    "            hv = murmurhash.mrmr.hash(s, i) % self.n \n",
    "            self.arrbit[hv] = True \n",
    "\n",
    "    def verifica(self, s):\n",
    "        bits = np.zeros(self.k, dtype=np.bool)\n",
    "        for i in range(self.k):\n",
    "            hv = murmurhash.mrmr.hash(s,i) % self.n \n",
    "            bits[i] = self.arrbit[hv]\n",
    "        return np.all(bits)"
   ]
  },
  {
   "cell_type": "markdown",
   "id": "f6b0d2cf",
   "metadata": {},
   "source": [
    "Para probar nuestro filtro vamos a usar una lista de URLs populares."
   ]
  },
  {
   "cell_type": "code",
   "execution_count": 2,
   "id": "18e00d56",
   "metadata": {},
   "outputs": [
    {
     "name": "stdout",
     "output_type": "stream",
     "text": [
      "--2024-05-04 09:22:31--  https://gist.githubusercontent.com/demersdesigns/4442cd84c1cc6c5ccda9b19eac1ba52b/raw/cf06109a805b661dd12133f9aa4473435e478569/craft-popular-urls\n",
      "Resolviendo gist.githubusercontent.com (gist.githubusercontent.com)... 185.199.109.133, 185.199.110.133, 185.199.111.133, ...\n",
      "Conectando con gist.githubusercontent.com (gist.githubusercontent.com)[185.199.109.133]:443... conectado.\n",
      "Petición HTTP enviada, esperando respuesta... 200 OK\n",
      "Longitud: 2254 (2.2K) [text/plain]\n",
      "Guardando como: “craft-popular-urls.3”\n",
      "\n",
      "craft-popular-urls. 100%[===================>]   2.20K  --.-KB/s    en 0s      \n",
      "\n",
      "2024-05-04 09:22:32 (14.0 MB/s) - “craft-popular-urls.3” guardado [2254/2254]\n",
      "\n"
     ]
    }
   ],
   "source": [
    "!wget https://gist.githubusercontent.com/demersdesigns/4442cd84c1cc6c5ccda9b19eac1ba52b/raw/cf06109a805b661dd12133f9aa4473435e478569/craft-popular-urls"
   ]
  },
  {
   "cell_type": "markdown",
   "id": "0319b7eb",
   "metadata": {},
   "source": [
    "\n",
    "\n",
    "Leemos la lista de URLs.\n"
   ]
  },
  {
   "cell_type": "code",
   "execution_count": 3,
   "id": "105c23bc",
   "metadata": {},
   "outputs": [
    {
     "name": "stdout",
     "output_type": "stream",
     "text": [
      "['http://www.youtube.com', 'http://www.facebook.com', 'http://www.baidu.com', 'http://www.yahoo.com', 'http://www.amazon.com', 'http://www.wikipedia.org', 'http://www.qq.com', 'http://www.google.co.in', 'http://www.twitter.com', 'http://www.live.com', 'http://www.taobao.com', 'http://www.bing.com', 'http://www.instagram.com', 'http://www.weibo.com', 'http://www.sina.com.cn', 'http://www.linkedin.com', 'http://www.yahoo.co.jp', 'http://www.msn.com', 'http://www.vk.com', 'http://www.google.de', 'http://www.yandex.ru', 'http://www.hao123.com', 'http://www.google.co.uk', 'http://www.reddit.com', 'http://www.ebay.com', 'http://www.google.fr', 'http://www.t.co', 'http://www.tmall.com', 'http://www.google.com.br', 'http://www.360.cn', 'http://www.sohu.com', 'http://www.amazon.co.jp', 'http://www.pinterest.com', 'http://www.netflix.com', 'http://www.google.it', 'http://www.google.ru', 'http://www.microsoft.com', 'http://www.google.es', 'http://www.wordpress.com', 'http://www.gmw.cn', 'http://www.tumblr.com', 'http://www.paypal.com', 'http://www.blogspot.com', 'http://www.imgur.com', 'http://www.stackoverflow.com', 'http://www.aliexpress.com', 'http://www.naver.com', 'http://www.ok.ru', 'http://www.apple.com', 'http://www.github.com', 'http://www.chinadaily.com.cn', 'http://www.imdb.com', 'http://www.google.co.kr', 'http://www.fc2.com', 'http://www.jd.com', 'http://www.blogger.com', 'http://www.163.com', 'http://www.google.ca', 'http://www.whatsapp.com', 'http://www.amazon.in', 'http://www.office.com', 'http://www.tianya.cn', 'http://www.google.co.id', 'http://www.youku.com', 'http://www.rakuten.co.jp', 'http://www.craigslist.org', 'http://www.amazon.de', 'http://www.nicovideo.jp', 'http://www.google.pl', 'http://www.soso.com', 'http://www.bilibili.com', 'http://www.dropbox.com', 'http://www.xinhuanet.com', 'http://www.outbrain.com', 'http://www.pixnet.net', 'http://www.alibaba.com', 'http://www.alipay.com', 'http://www.microsoftonline.com', 'http://www.booking.com', 'http://www.googleusercontent.com', 'http://www.google.com.au', 'http://www.popads.net', 'http://www.cntv.cn', 'http://www.zhihu.com', 'http://www.amazon.co.uk', 'http://www.diply.com', 'http://www.coccoc.com', 'http://www.cnn.com', 'http://www.bbc.co.uk', 'http://www.twitch.tv', 'http://www.wikia.com', 'http://www.google.co.th', 'http://www.go.com', 'http://www.google.com.ph', 'http://www.doubleclick.net', 'http://www.onet.pl', 'http://www.googleadservices.com', 'http://www.accuweather.com', 'http://www.googleweblight.com', 'http://www.answers.yahoo.com']\n"
     ]
    }
   ],
   "source": [
    "with open('craft-popular-urls') as f:\n",
    "    urls = f.read().split('\\n')\n",
    "print(urls)"
   ]
  },
  {
   "cell_type": "markdown",
   "id": "078b7fea",
   "metadata": {},
   "source": [
    "Instanciamos nuestra clase y registramos las URL"
   ]
  },
  {
   "cell_type": "code",
   "execution_count": 4,
   "id": "81fc247a",
   "metadata": {},
   "outputs": [
    {
     "name": "stderr",
     "output_type": "stream",
     "text": [
      "/tmp/ipykernel_5875/1103781972.py:9: DeprecationWarning: `np.bool` is a deprecated alias for the builtin `bool`. To silence this warning, use `bool` by itself. Doing this will not modify any behavior and is safe. If you specifically wanted the numpy scalar type, use `np.bool_` here.\n",
      "Deprecated in NumPy 1.20; for more details and guidance: https://numpy.org/devdocs/release/1.20.0-notes.html#deprecations\n",
      "  self.arrbit = np.zeros(n, dtype=np.bool)\n"
     ]
    }
   ],
   "source": [
    "fb = FiltroBloom(1000, len(urls), 5)\n",
    "\n",
    "for u in urls:\n",
    "    fb.registra(u)"
   ]
  },
  {
   "cell_type": "markdown",
   "id": "da0cdcfc",
   "metadata": {},
   "source": [
    "Revisamos cómo queda el arreglo de bits después de registrar todos los elementos"
   ]
  },
  {
   "cell_type": "code",
   "execution_count": 5,
   "id": "eb894872",
   "metadata": {},
   "outputs": [
    {
     "name": "stdout",
     "output_type": "stream",
     "text": [
      "Proporción de bits distintos a 0 = 0.39\n"
     ]
    }
   ],
   "source": [
    "print(u'Proporción de bits distintos a 0 = {0}'.format(fb.arrbit.nonzero()[0].size / fb.arrbit.size))"
   ]
  },
  {
   "cell_type": "markdown",
   "id": "329c20f2",
   "metadata": {},
   "source": [
    "Verificamos algunas URL"
   ]
  },
  {
   "cell_type": "code",
   "execution_count": 6,
   "id": "98f4d5fa",
   "metadata": {},
   "outputs": [
    {
     "name": "stdout",
     "output_type": "stream",
     "text": [
      "True\n",
      "True\n",
      "True\n",
      "True\n",
      "True\n",
      "True\n",
      "True\n",
      "False\n",
      "False\n",
      "True\n",
      "False\n"
     ]
    },
    {
     "name": "stderr",
     "output_type": "stream",
     "text": [
      "/tmp/ipykernel_5875/1103781972.py:17: DeprecationWarning: `np.bool` is a deprecated alias for the builtin `bool`. To silence this warning, use `bool` by itself. Doing this will not modify any behavior and is safe. If you specifically wanted the numpy scalar type, use `np.bool_` here.\n",
      "Deprecated in NumPy 1.20; for more details and guidance: https://numpy.org/devdocs/release/1.20.0-notes.html#deprecations\n",
      "  bits = np.zeros(self.k, dtype=np.bool)\n"
     ]
    }
   ],
   "source": [
    "print(fb.verifica('http://www.youtube.com'))\n",
    "print(fb.verifica('http://www.facebook.com'))\n",
    "print(fb.verifica('http://www.yahoo.com'))\n",
    "print(fb.verifica('http://www.amazon.com'))\n",
    "print(fb.verifica('http://www.wikipedia.org'))\n",
    "print(fb.verifica('http://www.baidu.com'))\n",
    "print(fb.verifica('http://www.twitter.com'))\n",
    "print(fb.verifica('http://www.unam.mx'))\n",
    "print(fb.verifica('http://www.twitter.com/'))\n",
    "print(fb.verifica('https://www.twitter.com'))\n",
    "print(fb.verifica('https://www.twitter.com/'))"
   ]
  },
  {
   "cell_type": "markdown",
   "id": "68d84add",
   "metadata": {},
   "source": [
    "## Ejercicio"
   ]
  },
  {
   "cell_type": "markdown",
   "id": "c6edcf01",
   "metadata": {},
   "source": [
    "\n",
    "    Explora distintos valores de hiperparámetros\n",
    "    Cambia la función hash de la clase\n"
   ]
  },
  {
   "cell_type": "code",
   "execution_count": null,
   "id": "a34aeba1",
   "metadata": {},
   "outputs": [],
   "source": []
  }
 ],
 "metadata": {
  "kernelspec": {
   "display_name": "Python 3 (ipykernel)",
   "language": "python",
   "name": "python3"
  },
  "language_info": {
   "codemirror_mode": {
    "name": "ipython",
    "version": 3
   },
   "file_extension": ".py",
   "mimetype": "text/x-python",
   "name": "python",
   "nbconvert_exporter": "python",
   "pygments_lexer": "ipython3",
   "version": "3.8.10"
  }
 },
 "nbformat": 4,
 "nbformat_minor": 5
}
