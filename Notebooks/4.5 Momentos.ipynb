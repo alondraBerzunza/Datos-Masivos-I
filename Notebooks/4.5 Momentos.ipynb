{
 "cells": [
  {
   "cell_type": "markdown",
   "metadata": {
    "id": "uFg6o5crvGxv"
   },
   "source": [
    "# Algoritmo de Alon-Matias-Szegedy\n",
    "En esta libreta programaremos el algoritmo de Alon-Matias-Szegedy (AMS) para estimar momentos en un flujo de datos.\n",
    "\n",
    "Dado un flujo de tamaño $n$ constante, se definen $K$ variables $X_1, X_2, \\ldots, X_K$ usando posiciones del flujo elegidas de forma aleatoria y uniforme. Estas variables almacenan un elemento $X_k.elemento$ y un valor entero $X_k.valor$, el cual se inicializa con 1 y se incrementa en 1 cada vez que se encuentra una ocurrencia de $X_k.elemento$.\n",
    " \n",
    "De esta forma, es posible estimar el $i$-ésimo momento a partir de una variable $X_k$ calculando\n",
    "\n",
    "$$\n",
    "n \\cdot (X_k.valor^{i} - (X_k.valor - 1)^{i})\n",
    "$$"
   ]
  },
  {
   "cell_type": "code",
   "execution_count": null,
   "metadata": {
    "id": "dOGuD7z-T1cG"
   },
   "outputs": [],
   "source": [
    "from collections import Counter\n",
    "import numpy as np\n",
    "np.random.seed(2021) # para reproducibilidad\n",
    "\n",
    "n = 100\n",
    "x_min = 0\n",
    "x_max = 10\n",
    "n_variables = 50"
   ]
  },
  {
   "cell_type": "markdown",
   "metadata": {
    "id": "JeQsh9eTMY__"
   },
   "source": [
    "Definimos la clase para el algoritmo AMS"
   ]
  },
  {
   "cell_type": "code",
   "execution_count": null,
   "metadata": {
    "id": "A5R50JK8NE4A"
   },
   "outputs": [],
   "source": [
    "class AMS:  \n",
    "    def __init__(self, n_variables=10):\n",
    "        self.n_variables = n_variables\n",
    "\n",
    "    def estima_momento(self, i):\n",
    "        return np.mean(self.n * (self.valores**i - (self.valores - 1)**i))\n",
    "\n",
    "    def calcula_cuentas(self, x):\n",
    "        self.n = x.shape[0]\n",
    "        self.ind = np.random.randint(0, self.n - 1, size=self.n_variables)\n",
    "        self.elementos = x[self.ind]\n",
    "        self.valores = np.zeros_like(self.elementos)\n",
    "        for i,ind in enumerate(self.ind):\n",
    "            for j in range(ind, self.n):\n",
    "                if self.elementos[i] == x[j]:\n",
    "                    self.valores[i] += 1"
   ]
  },
  {
   "cell_type": "markdown",
   "metadata": {
    "id": "Z11yDwqRMfjB"
   },
   "source": [
    "El momento $i$-ésimo está definido por\n",
    "$$\n",
    "\\sum_{e\\in \\mathbb{U}} (m_e)^i\n",
    "$$\n",
    "\n",
    "donde $m_e$ es el número de veces que ocurre el elemento $e$ en el flujo y $\\mathbb{U}$ es el conjunto universal."
   ]
  },
  {
   "cell_type": "code",
   "execution_count": null,
   "metadata": {
    "id": "PKZ_vTovPLiX"
   },
   "outputs": [],
   "source": [
    "momento = lambda m, i: np.sum(m**i)"
   ]
  },
  {
   "cell_type": "markdown",
   "metadata": {
    "id": "dj4oMQFmNUaT"
   },
   "source": [
    "Generamos un flujo de números enteros aleatorios."
   ]
  },
  {
   "cell_type": "code",
   "execution_count": null,
   "metadata": {
    "id": "iv5Cy8YnPTpT"
   },
   "outputs": [],
   "source": [
    "flujo = np.random.randint(x_min, x_max, size=n)\n",
    "frec = np.array(list(Counter(flujo).values()))"
   ]
  },
  {
   "cell_type": "markdown",
   "metadata": {
    "id": "edzOZH3RNcm3"
   },
   "source": [
    "Instaciamos nuestra clase, calculamos las cuentas del elemento correspondiente a cada variable y estimamos los momentos 1, 2 y 3."
   ]
  },
  {
   "cell_type": "code",
   "execution_count": null,
   "metadata": {
    "colab": {
     "base_uri": "https://localhost:8080/"
    },
    "id": "q1dc7PDd6MXn",
    "outputId": "a7333394-b061-4b1a-f56a-9160fd075948"
   },
   "outputs": [],
   "source": [
    "em = AMS(n_variables)\n",
    "em.calcula_cuentas(flujo)\n",
    "\n",
    "for k in range(1, 4):\n",
    "    print(u'Momento {0}: Exacto = {1} Estimación = {2}'.format(k, \n",
    "                                                             momento(frec, k), \n",
    "                                                             em.estima_momento(k)))"
   ]
  },
  {
   "cell_type": "markdown",
   "metadata": {
    "id": "VMqRXwOEN3Pu"
   },
   "source": [
    "Cuando el tamaño del flujo no es constante, seleccionamos las posiciones de las variables de la siguiente manera:\n",
    "+ Se toman las primeras $s$ posiciones del flujo como variables.\n",
    "+ Se elige la posición $n>s$ con probabilidad $\\frac{s}{n}$\n",
    "  + Si es elegida, se selecciona de forma aleatoria y uniforme una de las $s$ variables y se reemplaza por la de la posición $n$\n",
    "  + En caso contrario se mantienen las posiciones de las $s$ variables    "
   ]
  },
  {
   "cell_type": "code",
   "execution_count": null,
   "metadata": {
    "id": "RjibctuDPpyV"
   },
   "outputs": [],
   "source": [
    "class AMSFlujo:\n",
    "    def __init__(self, n_variables):\n",
    "        self.n_variables = n_variables\n",
    "        self.i = 0\n",
    "        self.elementos = np.zeros(self.n_variables)\n",
    "        self.valores = np.zeros(self.n_variables)\n",
    "\n",
    "    def estima_momento(self, k):\n",
    "        if self.i >= self.n_variables:\n",
    "            return np.mean(self.i * (self.valores**k - (self.valores - 1)**k))\n",
    "        else:\n",
    "            return np.mean(self.i * (self.valores[:self.i]**k - (self.valores[:self.i] - 1)**k))\n",
    "    \n",
    "    def __call__(self, x):\n",
    "        if self.i < self.n_variables:\n",
    "            self.elementos[self.i] = x\n",
    "            self.valores[self.i] = 0\n",
    "        for a,e in enumerate(self.elementos[:self.i+1]):\n",
    "            if e == x:\n",
    "                self.valores[a] += 1\n",
    "        else:\n",
    "            prob = self.n_variables / (self.i + 1)\n",
    "            j = np.random.choice([0, 1], p=[1 - prob, prob])\n",
    "            if j:\n",
    "                pos = np.random.randint(0, self.n_variables)\n",
    "                self.elementos[pos] = x\n",
    "                self.valores[pos] = 0\n",
    "      \n",
    "            for a,e in enumerate(self.elementos):\n",
    "                if e == x:\n",
    "                    self.valores[a] += 1\n",
    "\n",
    "        self.i += 1"
   ]
  },
  {
   "cell_type": "markdown",
   "metadata": {
    "id": "PLsIEkIcOPfq"
   },
   "source": [
    "Instanciamos la clase y vamos agregando cada dato del flujo, actualizando las cuentas y estimando los momentos 1, 2 y 3."
   ]
  },
  {
   "cell_type": "code",
   "execution_count": null,
   "metadata": {
    "colab": {
     "base_uri": "https://localhost:8080/"
    },
    "id": "Xc69AjUZTZIQ",
    "outputId": "2a35b7ef-09cd-4c09-db4b-83cb2a83c211"
   },
   "outputs": [],
   "source": [
    "emf = AMSFlujo(n_variables)\n",
    "for i in range(n):\n",
    "    emf(flujo[i])\n",
    "    frec = np.array(list(Counter(flujo[:i+1]).values()))\n",
    "    print(u'Posición {0}'.format(i))\n",
    "    for k in range(1, 4):\n",
    "        print(u'\\tMomento {0}: Exacto = {1} Estimación = {2}'.format(k, \n",
    "                                                                 momento(frec, k), \n",
    "                                                                 emf.estima_momento(k)))"
   ]
  },
  {
   "cell_type": "code",
   "execution_count": null,
   "metadata": {},
   "outputs": [],
   "source": []
  }
 ],
 "metadata": {
  "colab": {
   "authorship_tag": "ABX9TyN2BTHw4IStEKcSgfEYPfV1",
   "collapsed_sections": [],
   "include_colab_link": true,
   "name": "4d_momentos.ipynb",
   "provenance": []
  },
  "kernelspec": {
   "display_name": "Python 3 (ipykernel)",
   "language": "python",
   "name": "python3"
  },
  "language_info": {
   "codemirror_mode": {
    "name": "ipython",
    "version": 3
   },
   "file_extension": ".py",
   "mimetype": "text/x-python",
   "name": "python",
   "nbconvert_exporter": "python",
   "pygments_lexer": "ipython3",
   "version": "3.8.10"
  }
 },
 "nbformat": 4,
 "nbformat_minor": 1
}
