{
 "cells": [
  {
   "cell_type": "markdown",
   "id": "aa2bf602",
   "metadata": {},
   "source": [
    "## Algoritmo de Flajolet-Martin"
   ]
  },
  {
   "cell_type": "markdown",
   "id": "477e11cb",
   "metadata": {},
   "source": [
    "La idea detrás de este algoritmo es que entre más elementos diferentes haya en el flujo de datos, más valores hash diferentes veremos y es más probable que alguno de estos valores tenga una representación binaria que termine con un mayor número de ceros consecutivos."
   ]
  },
  {
   "cell_type": "code",
   "execution_count": 2,
   "id": "aca419cd",
   "metadata": {},
   "outputs": [],
   "source": [
    "import numpy as np\n",
    "np.random.seed(2021) # para reproducibilidad\n",
    "\n",
    "class ConteoProbabilista:  \n",
    "    def __init__(self, n_cubetas, primo, n_bits=64):\n",
    "        self.primo = primo  \n",
    "        self.n_cubetas = n_cubetas\n",
    "        self.a = np.random.randint(1, self.primo - 1)\n",
    "        self.b = np.random.randint(0, self.primo - 1)\n",
    "        self.bitmap = np.zeros(n_bits, dtype=np.bool)\n",
    "\n",
    "    def __call__(self, x):\n",
    "        hv = ((self.a * x + self.b) % self.primo) % self.n_cubetas\n",
    "        i = bin(hv)[2:][::-1].find('1')\n",
    "        self.bitmap[i] = 1\n",
    "\n",
    "    def cardinalidad(self):\n",
    "        r = np.argwhere(self.bitmap == 0)[0]\n",
    "        return (2**r) / 0.77351"
   ]
  },
  {
   "cell_type": "markdown",
   "id": "b26806a3",
   "metadata": {},
   "source": [
    "Definimos una clase que realiza varias estimaciones, las divide en grupos pequeños, obtiene la mediana de las estimaciones de cada grupo y toma el promedio de las medianas como estimación final."
   ]
  },
  {
   "cell_type": "code",
   "execution_count": 3,
   "id": "82c3167a",
   "metadata": {},
   "outputs": [],
   "source": [
    "class EstimadorElementosDistintos:\n",
    "    def __init__(self, n_cubetas, n_grupos, n_funciones, primo, n_bits):\n",
    "        self.n_grupos = n_grupos\n",
    "        self.n_funciones = n_funciones\n",
    "        self.estimadores = []\n",
    "        for i in range(self.n_grupos):\n",
    "            func = []\n",
    "            for j in range(self.n_funciones):\n",
    "                func.append(ConteoProbabilista(n_cubetas, primo, n_bits))\n",
    "            self.estimadores.append(func)\n",
    "        self.conteos = np.zeros((self.n_grupos, self.n_funciones))\n",
    "\n",
    "    def __call__(self, x):\n",
    "        for i in range(self.n_grupos):\n",
    "            for j in range(self.n_funciones):  \n",
    "                self.estimadores[i][j](x)\n",
    "                self.conteos[i, j] = self.estimadores[i][j].cardinalidad()\n",
    "\n",
    "    def cardinalidad(self):\n",
    "        return np.mean(np.median(self.conteos, axis=1))"
   ]
  },
  {
   "cell_type": "markdown",
   "id": "5d9024a8",
   "metadata": {},
   "source": [
    "Generamos números aleatorios."
   ]
  },
  {
   "cell_type": "code",
   "execution_count": 4,
   "id": "7c74965e",
   "metadata": {},
   "outputs": [
    {
     "name": "stdout",
     "output_type": "stream",
     "text": [
      "Hay 99995 elementos distintos\n"
     ]
    }
   ],
   "source": [
    "X = np.random.randint(0,100000, size=1000000)\n",
    "print(\"Hay {0} elementos distintos\".format(np.unique(X).size))"
   ]
  },
  {
   "cell_type": "markdown",
   "id": "1a0d7182",
   "metadata": {},
   "source": [
    "Instanciamos nuestra clase y estimamos elementos distintos."
   ]
  },
  {
   "cell_type": "code",
   "execution_count": 5,
   "id": "84590b84",
   "metadata": {},
   "outputs": [
    {
     "name": "stderr",
     "output_type": "stream",
     "text": [
      "/tmp/ipykernel_9532/529691460.py:10: DeprecationWarning: `np.bool` is a deprecated alias for the builtin `bool`. To silence this warning, use `bool` by itself. Doing this will not modify any behavior and is safe. If you specifically wanted the numpy scalar type, use `np.bool_` here.\n",
      "Deprecated in NumPy 1.20; for more details and guidance: https://numpy.org/devdocs/release/1.20.0-notes.html#deprecations\n",
      "  self.bitmap = np.zeros(n_bits, dtype=np.bool)\n"
     ]
    },
    {
     "name": "stdout",
     "output_type": "stream",
     "text": [
      "Real = 99995 Estimación = 84725.47219816162 \n"
     ]
    }
   ],
   "source": [
    "est = EstimadorElementosDistintos(10000000, 5, 10, 4294967291, 64)\n",
    "\n",
    "for i,x in enumerate(X):\n",
    "    est(x)\n",
    "  \n",
    "print(u'Real = {0} Estimación = {1} '.format(np.unique(X[:i+1]).size,est.cardinalidad()))"
   ]
  },
  {
   "cell_type": "code",
   "execution_count": 6,
   "id": "3bf52517",
   "metadata": {},
   "outputs": [
    {
     "data": {
      "text/plain": [
       "<__main__.EstimadorElementosDistintos at 0x7f98f840fa00>"
      ]
     },
     "execution_count": 6,
     "metadata": {},
     "output_type": "execute_result"
    }
   ],
   "source": [
    "est"
   ]
  },
  {
   "cell_type": "code",
   "execution_count": 8,
   "id": "6aee2b49",
   "metadata": {},
   "outputs": [
    {
     "data": {
      "text/plain": [
       "array([[ 42362.73609908,  84725.47219816,   2647.67100619,\n",
       "        338901.88879265,  42362.73609908,  10590.68402477,\n",
       "        169450.94439632,  84725.47219816,  84725.47219816,\n",
       "        338901.88879265],\n",
       "       [ 84725.47219816,  84725.47219816,  21181.36804954,\n",
       "         84725.47219816,  84725.47219816,  42362.73609908,\n",
       "        169450.94439632,  84725.47219816,  84725.47219816,\n",
       "        169450.94439632],\n",
       "       [ 84725.47219816, 338901.88879265,  21181.36804954,\n",
       "         84725.47219816,  84725.47219816,  84725.47219816,\n",
       "         42362.73609908, 169450.94439632,  10590.68402477,\n",
       "        338901.88879265],\n",
       "       [  5295.34201239,  42362.73609908,  84725.47219816,\n",
       "         84725.47219816,  42362.73609908,  21181.36804954,\n",
       "         42362.73609908,  10590.68402477, 169450.94439632,\n",
       "        169450.94439632],\n",
       "       [169450.94439632, 169450.94439632,  84725.47219816,\n",
       "         84725.47219816,  21181.36804954,  84725.47219816,\n",
       "        169450.94439632, 169450.94439632,  84725.47219816,\n",
       "        169450.94439632]])"
      ]
     },
     "execution_count": 8,
     "metadata": {},
     "output_type": "execute_result"
    }
   ],
   "source": [
    "est.conteos"
   ]
  },
  {
   "cell_type": "code",
   "execution_count": null,
   "id": "75396c71",
   "metadata": {},
   "outputs": [],
   "source": []
  }
 ],
 "metadata": {
  "kernelspec": {
   "display_name": "Python 3 (ipykernel)",
   "language": "python",
   "name": "python3"
  },
  "language_info": {
   "codemirror_mode": {
    "name": "ipython",
    "version": 3
   },
   "file_extension": ".py",
   "mimetype": "text/x-python",
   "name": "python",
   "nbconvert_exporter": "python",
   "pygments_lexer": "ipython3",
   "version": "3.8.10"
  }
 },
 "nbformat": 4,
 "nbformat_minor": 5
}
