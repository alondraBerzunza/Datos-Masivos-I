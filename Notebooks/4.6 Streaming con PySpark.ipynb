{
 "cells": [
  {
   "cell_type": "markdown",
   "metadata": {
    "colab_type": "text",
    "id": "view-in-github"
   },
   "source": [
    "<a href=\"https://colab.research.google.com/github/gibranfp/CursoDatosMasivosI/blob/main/notebooks/4c_streaming_pyspark.ipynb\" target=\"_parent\"><img src=\"https://colab.research.google.com/assets/colab-badge.svg\" alt=\"Open In Colab\"/></a>"
   ]
  },
  {
   "cell_type": "markdown",
   "metadata": {
    "id": "5I4qrFG9-Rvf"
   },
   "source": [
    "# *Streaming* con *PySpark*\n",
    "\n",
    "               \n",
    "## Introduccion a *Spark Streaming*\n",
    "\n",
    "*Spark Streaming* es una extension de *Spark* que nos permite procesar flujos de datos en tiempo real con todas las ventajas que nos proporciona *Spark*, tales como escalabilidad, computo distribuido en *clusters*, etc.\n",
    "\n",
    "Conceptualmente, lo que hace *Spark Streaming* es lo siguiente. Recibe un flujo de datos en tiempo real, dependiendo de la $\\Delta t$ proporcionada, este dividira al flujo en *batches* (lotes en espanol), los cuales posteriormente se podran manipular como *RDD*s normales.\n",
    "\n",
    "El objeto de alto nivel que proporciona *Spark Streaming* para manejar los *batches* antes mencionados es conocido como *DStream* (discretized stream). Un *DStream* no es mas que una secuencia de *RDD*s ordenados en el tiempo, donde cada *RDD* contiene los datos recibidos en un intervalo de tiempo determinado.\n",
    "\n",
    "De esta forma, *Spark* puede procesar los datos sin saber que lo que esta recibiendo realmente es un flujo de datos, puesto que el *DStream* se encarga de crear y administrar los *RDD*s. \n",
    "\n",
    "![streaming-flow.png](data:image/png;base64,iVBORw0KGgoAAAANSUhEUgAABC8AAADvCAYAAADSFv6aAAAD8GlDQ1BJQ0MgUHJvZmlsZQAASImNVd1v21QUP4lvXKQWP6Cxjg4Vi69VU1u5GxqtxgZJk6XpQhq5zdgqpMl1bhpT1za2021Vn/YCbwz4A4CyBx6QeEIaDMT2su0BtElTQRXVJKQ9dNpAaJP2gqpwrq9Tu13GuJGvfznndz7v0TVAx1ea45hJGWDe8l01n5GPn5iWO1YhCc9BJ/RAp6Z7TrpcLgIuxoVH1sNfIcHeNwfa6/9zdVappwMknkJsVz19HvFpgJSpO64PIN5G+fAp30Hc8TziHS4miFhheJbjLMMzHB8POFPqKGKWi6TXtSriJcT9MzH5bAzzHIK1I08t6hq6zHpRdu2aYdJYuk9Q/881bzZa8Xrx6fLmJo/iu4/VXnfH1BB/rmu5ScQvI77m+BkmfxXxvcZcJY14L0DymZp7pML5yTcW61PvIN6JuGr4halQvmjNlCa4bXJ5zj6qhpxrujeKPYMXEd+q00KR5yNAlWZzrF+Ie+uNsdC/MO4tTOZafhbroyXuR3Df08bLiHsQf+ja6gTPWVimZl7l/oUrjl8OcxDWLbNU5D6JRL2gxkDu16fGuC054OMhclsyXTOOFEL+kmMGs4i5kfNuQ62EnBuam8tzP+Q+tSqhz9SuqpZlvR1EfBiOJTSgYMMM7jpYsAEyqJCHDL4dcFFTAwNMlFDUUpQYiadhDmXteeWAw3HEmA2s15k1RmnP4RHuhBybdBOF7MfnICmSQ2SYjIBM3iRvkcMki9IRcnDTthyLz2Ld2fTzPjTQK+Mdg8y5nkZfFO+se9LQr3/09xZr+5GcaSufeAfAww60mAPx+q8u/bAr8rFCLrx7s+vqEkw8qb+p26n11Aruq6m1iJH6PbWGv1VIY25mkNE8PkaQhxfLIF7DZXx80HD/A3l2jLclYs061xNpWCfoB6WHJTjbH0mV35Q/lRXlC+W8cndbl9t2SfhU+Fb4UfhO+F74GWThknBZ+Em4InwjXIyd1ePnY/Psg3pb1TJNu15TMKWMtFt6ScpKL0ivSMXIn9QtDUlj0h7U7N48t3i8eC0GnMC91dX2sTivgloDTgUVeEGHLTizbf5Da9JLhkhh29QOs1luMcScmBXTIIt7xRFxSBxnuJWfuAd1I7jntkyd/pgKaIwVr3MgmDo2q8x6IdB5QH162mcX7ajtnHGN2bov71OU1+U0fqqoXLD0wX5ZM005UHmySz3qLtDqILDvIL+iH6jB9y2x83ok898GOPQX3lk3Itl0A+BrD6D7tUjWh3fis58BXDigN9yF8M5PJH4B8Gr79/F/XRm8m241mw/wvur4BGDj42bzn+Vmc+NL9L8GcMn8F1kAcXg42bxXAAAACXBIWXMAABcSAAAXEgFnn9JSAABLf0lEQVR42u2dB5jcxPm4B2zTO4Te+QMxEHDooUPC7Z0BJxQDLtQQIIRQAoEQSoAQCIFgQ+DuXAmE6iT0jjEt9NCxTQlgegcDLnc2Zv/zcaPfzc2Nyu5qd7W77/s834PZlbSSTpr55tVoRikAAAAAAAAAAAAAAAAAAAAAAAAAAAAAAAAAAAAAAAAAAAAAAAAAAAAAAAAAAAAAAAAAAAAAAAAAAAAAAAAAAAAAAAAAAAAAAAAAAAAAAAAAAAAAAAAAAAAAAAAAAAAAAAAAAAAAAAAAAAAAAAAAAAAAAAAAAAAAAAAAAAAAAAAAAAAAAAAAAAAAAAAAAAAAAAAAAAAAAAAAAAAAAAAAAAAAAAAAAAAAAAAAAAAAAAAAAAAAAAAAAAAAAAAAAAAAAAAAAAAAAAAAAAAAAAAAAAAAAAAAAAAAAAAAAAAAAAAAAAAAAAAAAAAAAAAAAAAAAAAAAAAAAAAAAAAAAAAAAAAAAAAAAAAAAAAAAAAAAAAAAAAAAAAAAAAAAAAAAAAAAAAAAAAAAAAAAAAAAAAAAAAAAAAAAAAAAAAAAAAAAAAAAAAAAAAAAAAAAAAAAAAAAAAAAAAAAAAAAAAAAAAAAAAAAAAAAAAAAAAAAAAAAAAAAAAAAAAAAAAAAAAAAAAAAAAAAAAAAAAAAAAAAAAAAAAAAAAAAAAAAAAAAAAAAAAAAAAAAAAAAAAAAAAAAAAAAAAAAAAAAAAAAAAAAAAAAAAAAAAAAAAAAAAAAAAAAAAAAAAAAAAAAAAAAAAAAAAAAAAAAAAAAAAAAAAAACg3He27r9vZ1jRsdlvubB3XdLQ13a7/+9Ds1qbHCaIWQl+z93W05W7WMVrHCR3tzQPzowYvyd0NkIE6ZlTLOp2tuaGzW3Nn6brlauoYoqBoa3qsozV3r75ubuhoz13a0d7069mjcjvnJwxemLsLqsDSOjbVsaKO+TkdUMssoWOaiePq+DjXKfP2XzDn8PwaPoZMk8/n55vbPnAH3cgboxPId3RykCeIegt9fX+jG0tPajH3u/yYllWpooDkuHLMHd20jW5wtumG51uUR0RZyvjWXIcu5+/XUuOX+bG5Zcp8SS9n5fhHVfn26qtjjZS3eZY5ttcpfkP5pY4XdXwrqbSJ8zgtUMssZV3MZ9bh8S1qhMInZf6dL8w5HFvDx5BNaTFh8AIdrU2H68r+fyQ+RIMlufOkZ8acttyWGb5Fs5Qcpy14l7aO7dekC/WZHOdHHd5vdnvuEH2vvUy5Q1RYVnfq3j3jpSdpmS7vFax78ndVvM22V10P+Y5Pebt/M8f2DcWwl92dcjmI4ZwaQF5klzZzbF/WsLyo1DFkjs72ln30U+i3SXIIREbTLbPH7LFWBm/TLCTH5RK8y1rHdhrpQv0lxx3tLXvoe+sNyhgiA6J6dP6KPZetw/J5RWsfkBeV5QFzfuaaOkx6xg3QweupUNPMp7qeLkksVIfHN6YO5EWljiEz5McMWkF3qbwjttJva3pXGnW60r9Qv096Ykdb8xHyBI0gMh9tTYfq6/Zo/dTt99+9CtWae1hfy7NiBMYsGRtDXqFCXlRE8CIv6jQ5lkaibjDeGF/H5N7Xy92m468drc2/1WMXHEn5RSSL5p/rnOSYzvbcGbp8v0JeB9Rl+NyYa+7TztbmwXVWPq+CvKgab5rzczunAgB5gbwoE7PbmnfSlfwH4d0sm174TlSMHrgelzfUlbS7o2VBGdBNX+PtOsn9IqKr8a351t2WRl6UvYxEXtRhcizjWkSNm6TvvSky5kznqKbv8+eFVMv4CYMXk94+Ose5TpfzsyPK+FZ5ZRZ5gbwokZnm/LRzKqCekEG11jDhPilZxny+gvWZ9M7YVnW945rT8b2IbQfrr+gUpHta6y8asX5fa98Wj1hucWu5vuazJc3/X2tu3K+sZZYq8lwtqGNXHUfq2EvH8kXICynEdzHHf6COrU2C7KOYY5BRrDfWsa+Oo3XspkMa+f1q4WLsbG8eoiv0OSHdKifNbmvZhVsWGiLJHbXHIvqp3fFhIk8nt5MzMqAn8oLkuGaS48625j1lwMSQnnz/0fdcjj8pVKiMX05LtD/psvyrkJznXpEdZSifRYpsZXJZud4LFeGF5LFrmN8K9uFsK48NQ6ThfjqO1bGPyWkLkRcyEcHOZv92MHlxUpYx68r4TXvoWC3hetIbcjOz35J7N+tY3XyeFmuZnF62v3vEvi1oneMOc36uTKENBJAZllLhY14EhcI9RnJcKnW/6v1u61U6FosoVB4yguFuz7qf6jgxZN/WtpaLGiztWGu5Nc1np3l+K4hzijhPUpB96NnWbaagjJMX+4asH8QERxIVegwikf6p/O8eS3xkCtXMoivxX2hx8a3v1ZDOttze3KrQkAnuuEGL667qI+SdaM+98ZZOgFfPoLwoJTkuRMAWK6mTJsc+eTGf2Z9hJgoZh6SPjv46hug4TMcWBSTW5U6OpQ6XgWEP0nGojs0j9q0mk2Mtx4d3zebT6z76UMQ5pQ1UqYxfWec/1/t7YeSelDogxfJ5oI7pTn4oeeMtpuEeRTF57DcRy/d1lpUHo4+FLPuIjm1i5IVs70Id85x15+i43tRLUULm7pDffknHDyPWHaRjasi676iuh56lsJk5ft/2pxp5ZLNNxDmX+DN3HTSCvHjQNIyD91rlZnnbuRme9iRRwfoywvBT5t/vGdlxg47PrPXbUpYXkty9YZLZvCnM3jBxQoHn6EJr+3PNsdyn42vz2fM6ZkXIi2us9UVyPKDjRh1PWutJvOUk6EmPQUZx/tjajoz6fqspiKc5f6fDM5lUdj0Nm+ftHl/+qcQAMo+8TuLrhSEzJMgTvAzJi2KT42IEbKGSutDk2JUXMp7D655139fx45jzJELgS8+6c82+9qtSciy9KU/VMcOzbWkQXKB6j4dVc8lxR2tLi2+8AX3/3JNv23N5ShioNnpWqQP0NTrDc41OLOEVErt8fs5q2L9i8sT3rO/lFbD+IdspNo99zWkvfGblsba8ONBIhmA5KWfl4eCn1mfyO1uGtDPkuB62lp1m2h72A9cbPMJEyDntkVd13Gxy+0C+yHaO8KzbZMpwWUZ6od1vfud9p/47tsi/38GOjJG/0e3m7/etVU7/3pEdwTkOlvnK+uwk7jZoBHkRxDjVs2tYf6dxvGvM+lL4LWh9v5wRI8H3g1KUFwGldifexdq2FIRrOUnflZ5zZLOr8537msxKOu6yljnAsw9xx/CIVaFs7fl+X6tSeE2l242tdHExpnlj37ufMkBaxgYmBKgq8pqIvC7ieUL3gE5u+2RAXhSbHBcrYAuR1MUkx7a8eEJ19zKQ/4rEtp9CzjTH4bKASfLzVhIpvRHvVF2zowSfP6X8r2GWMzleRHU9VbSP4RHzG19Zn09x6r6aSo71QJvr60bh195xBfJnzk/JApkRGKNym0pPIM+1OjqF8jnIE91Xo060yu17PdsoNY+NG/NibUuAfOzsn4iQvawyUGRtn4h2hkgHezy01U3ZHXy/r/PbS1jl+AeqS767+/a8Ve6703G/ZMkS99UZ6a3xuep+cFtoHb2mVQ7Lvu3sfG/LdCmHfT1TZpvvL+PugkaUFw+GrL+1tUx7xPpPhKwv3X6nm2WeyaC8COSKFAArhixzb4S8uM0qcPuGrL+qtf7oAuXF5ta6R0Qcx1hruZUz0xiTwatac694ukqexa0J4LlndE8kGbTWMyvC2RmQF8Umx6UK2LhyvtjkeFnn2GaZfVnEWv8Ip5HvcrL1/RWq9ysV0tAPnu75eu6VMzm+xNq38c5xBV2wg+/vCtlGppNjXccs7LtftNC4gNIEskhH++7r+gRGka82ueVz2Jguf7WW2SHlPDZOXlxhfb9jyPYvCzkGu53xH+WfNXFja5lW57ugjJP6afuQ35bXdj4yy91kfb5cgjbKiUYsvG9kQyFMsvZtw5BlJJ8Pxh16zlMHIC+goeVFWIG3gJWU3hCxfkvEPvxRdXefXShD8kIS5BkhBZ7NjhHyYicdv1BdA/9EEXQnvrZAeSEF194mAV4iYvvHW/u4fmYq6bamiz09Ltq4LQEiGmSjcivJeBfOk7lv5rS1/DAD8qLQ5DgNARtXzhebHNvyQuq5n4Wse4O1nP0KgjyRDJ6c3aPCe72dbP3GZhVKjndU3b0mro9YboS1D/vUmrzQs1ed55HjV1CKQJaRstztLSQzUBXxipNdPj8csZw8nAt6lo1POY+NkhfS2A5e2ZgUse3lTTkur7gNCGlnRI2NFoxL92/nt4Py69aYYzvTU8YvbJ0z6Um3iGe9viGfF9I2iyuvzrWW3Rp5AciL7u/WidjGu6p78Erf+vLELKprZs76nS0yJC/Wtba7f8yys0LkRRQLmkT1BKuA+WeB8iKOFU2Bbg9EtGEmKufRAwd4Bk97PD/q8H7clgBxyW1uS8/MPI9X4VWrUpPjNARsVBlZSnJsy4sXE9ZBP7A+P9X6fLOI9Rey6gBblJczOR6put+XXjdiueUsAXNXLckLmerUvUd0nfNc/vKDF6IEgawjPS08g8v+vYTyOW7GpOdU9/g/aeaxUfLC7hXxhyJOk91O2ShiuclmmYnWZ2tZ6/7e1BVhsYe17HbWNu6xPpexPUTS76p6viJfDFsX0P7Yzlr2IOQFIC+636WKGizoFbPcHSHrvxGzD/2tffhFhuTFPiGFlY9XY+SFJOXyzvUF5jy9rvyjMJciL7YyDQBJwGUQpenKP5haJuSF7mFxp/NUYdbsMXusxS0JkDC5bc39vnfX4pZ9qigvypEcJxGwUWVkKcmxLS/+FbHc4JC6IujxMcMks1HJ8VOe5LqcyXHwjvrLCZadqLrHLKkZeaFFxb8ccdEpQoOSA2oFfd3+o+c13PRtZ9tuGxVZPg+PWfZWs9wnKeexUfLCHk/jkBLkxbcxZeILZrn7rM9yKnrg4bCw91PG1HjJs4y8yiEPdA9Txc2+dIgK702hIs7vucgLQF70nj+5GHnxaMz6K1n78KcMyYvfWdvtH7PsAxHy4gzlH2U+GJn5MtX9ekox8mJDFT6NUqdJPG/Pkrz4blAqt9GlG2LcjgDJkRHodYNsqtNAe6aK8qLU5LhYARtVRpaSHC8bkRTa7GUtZ783/VgRifFbzrbLlRy/paLHsvCdX3mtZeFaSI47x+zWv9fU2225P1FqQE2V8fo1EXldxLmOrymyfG6OWfbvVt44X4p5bJS8sB8S7lHEKUraTvHJi8OKlBdnONuWsfvOU9290N2Qnms/K/C4zrDWXztm2QWtZccgLwB5kY68eC1m/c1DCjZbXkSNpH5ymeSFPRDbLgkLRldenKV6DmR3tY7f6PiJ6vlu9BdFyovVnAJTEv7zdQxTXd2X+3kET9Xlhbxz7HSF/JCuvABFNNLacnu7InBu+8AdqiQvik2OSxWwUWVkKcmxO1VqofLi3SIS43me7aedHM+nup+YXplg+fOs31qlFpJjmUnEGUvp8/y4QYtTYkANlvGnu+Mb5S8fuGIR5XPcgJ9B77aXU85jo+SF/XrEYRWWF7tZv32gOVdJYtGIcnWAaZPIjE327FbSM2TvAo7rYJW857fdVvoz8gKQF+nIiw4VPT3nntY+7GV9vqb1+W8j1j+/TPLCLtgOjln2S4+8WFZ1D4gmo9CvGrJuH2u5GwqUFxdb+3hCxP7Zlc/G1bzg8lcesKg7EJXudXEytyJAEfeTnuqxV++L1qaxVZIXxSTHaQjYqDKylOS4VHkRvAryQgGJ8Qox0iGt5Hia8r+m4sOeEnyhrCfH0iNJP53+jBmsoC7K+Mt/tpQu479yBMYJRZTPx8cs+7LqPX5dGnlslLywByWOu0d/ruNQ1XNsvFLkxboq+SuPxSDS+QLrN64vYN1tVfIejbtEnF/kBSAvipQXcT0XrlbdA3suaX2+ogq3iTb3R8iL0ar7yVShLGbd+LdELLeF8s82YkuZX0Wsv5W1nO93oo4hmH/6oxhBdKf1G5tW84LTTxH2dRpac4sYQRsADB3tTSf2GpV+wuA+Ffr5UpPjNARslLwoJTkuVV4EdZsI/L4ZS46DKb7/l2DZhyLOb+aSY/26yO7uOAH5UXusTkkBtYrOm8Y5Mu7JIsrnKFG5sSUf/pJyHruy9d1vPOsG0z0/HrF9eTUiGBi/NSV5IWVyp/n8sZgc+mCzzHWqe1BmecB5k46pKnwWP/mNYEy8twv4k3/POmc3xyw7KiK/R14A8qIEefFQSMEgT9DCplrtYxVWbxmZ4HKA6tl91pUXQWIshXIxs1j8w9r2j0KWuStEXgyxPv9LyLrLWIVqMKK8KuAYgnM/yyTpPg53ztFWVU0sW5tGOYnlHdyGAMWju8Ov7L7fP2fUwErd56Umx2kI2DhJXWxyXKq8OF0le6Wmn6kj7zLrqAokx5da9UqU0F7DSvBvqQl50Z4b4byW+CClBNQys9tadnFeg5onPTIKLJ8ll/9xyHK3qO6xdFZJOY9d2vruHM/6f1TxU20fbS2za0ryQrhIxY+JtJTqHiNI6pJgdqcfW+uGjUMyn5WnTyih/bF9yDJSL8w1y7xaC+UzQC3Ji8AeLmt9L+/LfWw1vn2D0oy31reNp0gK6UY8x0qsfPLCflp3thEQ6xZwfuQd2RfN+tN1DLISbDl31zvHaMuL/2cl69PNbwdTxs5vEsannPV9yXXUMdiFW5sjMJYz52ie8xvN1bzgdCPrVacSPo7bEKDk++rFKr2KVWpynIaAjZPUxSbHpcoLeeL4tfn8FRU+Gr49Dewp1uflTI77q+7XTu5R4dOZ26+MDKsJedHa9GyPe6Gt6VRKCKhlvhucWWZk65E7NQ8qsHwOZj76qVVOLm3KjbDeaWnksf1U9xg7L5syeEfV9YBSkDEk3lPdAnp/6zfmM1IhEMsPWuulIS9kBpUPVHfv71OtclpekRtojic4Nrsskf14U3WPVXSYs2/SRmiPKT+jWEl1T1Mtfzd5WNvXOvcyhtOnqnsQ7I2QF4C8SE9eyE39rJVcTrVuuCBp3TNk23Izfu4UjF9Y/35H9RyQzZUXu6jeg5tdU+A5kidPH1nry/5MtqTAA6p7CkB3wM4Rzm9/qLqeTk63Pvu76hrgSP79mSf5jjqGNZzzIfsks7u8ZFU4co6OVMm6Zpe7Al5Ynhj0fEKc25TbEKBkeXFZz6fNzVdVQV4UkxynIWDjJHWxyXGp8kI4yfpOZoLZxPpuHZMMf2PVD8tWMDm+0FpXxiNZ1Tn311rft4ZsI1PJsbwuJVOi9hjAdlTzdpQQUPNlfGtuUhFSzi6fpazoMP8WqTrFKVslD13Es4008tgHPXnsetb3O5nt2vXIs558f4Ui2ylh8iL47fes35lrcvwZzv6OV717Bw5wlvvStAemWmVj3pS1xbzK+TOnDSTbfF51S/HgfG9SC+UzQC3Ji29MgXilVXDa3cviGq/SQJ+kes4nPdsUQvIe6wYR8kI4RnWb1bwpEAtFCoZ7nH3vMEm5TB33sPnMHSivn0le3Smm5plEdmez3GAVPSJ+1DFsYs6PWzFIxTJSdfUeUaYwls+frtbF1jlq4A96vYushQa3IUCJiW1781FOV/mnqiAvikmO0xCwSSR1MclxGvJC6oDLnX2THoevqt5S3peAljM5lrrhZtV72sPXnM/GqPBXejKVHHeMalnHnX0nPza3DCUE1HwZ35b7mzNlapKZguzyucWUlW8697c8nDs6Yhtp5LErmjzZHmT4p84yIkylN/Ms53dEJlys/FNCpyEvgraQyImvPHWJ9BaRQTPDeqdtZNoCrmT/xtRjw0v800sPjBs850W2Lz0aowbhR14AFIivUJHuWDKKrnSHXaXA7S1i1t1WhXe/jUJ+T15NWaCEY5KR8eV1l20K3IeFTAG3u+qaGrbYBnvUMaxsEudms5/Zq3xbW1qcyvcdbhOAVBptTc6Abh9UQV4UmxynIWCTSOpCk+M05EXAbkY4fOv8tiTzIr3XjNh+uZNjmSZwmuf8yxgap6josUgylRzPHd2yoztFKqUD1EUZr1+xdR7+3FfC5lY15fWaFc5jJW/ur3r2MHMRCft98zsbq94zHJUTKevWMOdmB3Oe5ku47pJmf6Ws36qEPD/qvKxvxNA2Kvw1SwBIWV5AA9NrphH9nj5nBaB05rTltnRmHJlR5V0qJjlOQ8AmkdTVTI7lFZYtzG//wPx/UsqdHC9tzr/83TZQxXVzrm4Dz51ppLXpDUoHqIsyvrX5oCJnHAEAgIQgL6AHuiv7oU6X3sc5KwCl09nesoH7ShZnBRruPmhr3t+5D17grECdlPH7OGJuCmcFACBdkBfQA/2k4DDntZFHOSsAKSS2o5q+3+td/3x+Ps4MNNR90Job2lNe5J7jrEBdXNttzXs61/bLnBUAgHRBXkAPkBcAZUpskRcAyAuo32sbeQEAUHZ+q7rmf+bVAPgO5AVAmRJb5AUA8gLq99pGXgAAAFQW5AVAmRJb5AUA8gLq99pGXgAAAFQW5AVAmRJb5AUA8gLq99pGXgAAAFQW5AVAmRJb5AUA8gLq99pGXgAAAFQW5AVAmRJb5AUA8gLq99pGXgAAAFQW5AVAmRJb5AUA8gLq99pGXgAAAFQW5AVAmRJb5AUA8gLq99pGXgAAAFQW5AVAmRJb5AUA8gLq99pGXgAApEZfHWtwGiAO5AVAmRLb7MiLJXRMM3FcHZ/ydcq8/RfMOTyferuA+wB5AfVaxiMvIJt1ySFWnb8S9RXUAtubG+N4TgXEgbyAhKyu45c6TjEN4M04JTGJbXbkxVI68ibOrMNTvahJAj8p8+98Yc7hWOrtAu4D5AV1BPICoFJ1iXCsVeevSn0FWWdF64LlogLkRXrMr2N5HYs06PH/2ypbJD7kkkBeZIQ2c2xf1mjCWdf1dgPJC+qIBqsjkBfQgPKCdiakzipcVIC8SI1tdfxLx1QdHda99bGOm3UM07FAg5yLm53E9BMuj5qRF/KbS5tYqA5P9Zgalxd1XW/XubygjmjgOgJ5AQ0oL2hnAvICkBcZRLq/3uMkYmExRcdiJKaQYXlR7yAvkBfUEdQRyAtAXiAvIANIF8QmHUfqOEB1vUO4aMiyMnDKVtZFdbb5zB5QZVnz/8ub/5fujXvqOFTHehH7sYyOnXUcpWMPHasVcbHvorrehzxQx9ZmX8KY39p3+6mFDMgmA9EM1LF4yLpyHIfpGKJjIy4h5EWBLKzjmYRJaRBbk5hChuWFXZ4u6Snb5fMVrM+kd8a2przO6fheTN0g669ofbaCqVeC9ReNWL+vtW+LRyy3uLVcX/PZkub/rzXX5FfWMksVea4W1LGrqXP3surKQhLOQuq7JPW2r4zaWMe+Oo7WsZup9/ohL6gjqCMyLy/s8nghqxzc3JQ7krtuELONYnJ5EWhb6jjILLe5uZYL4fs69jON431MOZSEPjr6m2OT/HyLAn67kHaQzXxm2f1MOdmsuqRjIXVwKW2fNOqSONY1x/dL8/fsW6C8KLQuKaa+KrT9BzWMjA4/XspGTyX4rfnOTfS+iag4gws6eEJ1q45NdHzqbPcIz0V3d8g2X9Lxw5jjkBviw4j9muAkzXbBHCwjN8qOOt521p2r4wZTKCqTbL/j+Y1/mgIIkBdJGBtyrf5XdXUPftgkZfZ3O5CYQoblxVIqfMyLv5nP7zFJ9aUh9c5Vyv/0OFj/IVMn+eoLqWdODNm3ta3lfh1xDHYytqb57LSIuuWcIs7TUSH11W2mTo5LOIup75LU2wHfM/XZtyHLf2QSWeQFdQR1RHblhZ3f7mIatl97rqd7I0REIbm8CJJTdczw/IaUPxeo+NcJJb9+LOS6f0THNhHriij50rPeXFNO90uxHRQwSHW9yuXb33eMVFAxDe5S2j6l1iVxrGG25dYFXxqJFScviq1LCqmvim3/QY3SzxRawR9YCsNbTIU41/r8ddXz6dJrTgP/Mx1vmHDlxT1mu+7FNMDaXs5sI/juVVM5PW9dwJ0e4RFwjbWu3KgP6LhRx5M6ZlnfveUpvOzC/SxpY1s35nPW/+dNwbuLVTBP0/GKc1zjuayQFwmQ+2Smc+3Itbqds5wIM7H495llNmiAc4O8qG958aBJZoKkcqrqLYyfVr2fWgXry8jjT5l/v2dkxw1OHdKWsrw42tRvX5nP51l13gkFnqMLnaT6KXN/B42K5616a2yK9V2SeluQ0d0/tpZ70TRc7jZ1nv13Ohx5QR1BHVET8uIKk09LmfMfHaONBLPHTvlBhLyIy+UXMY3t4POZRjbcb5WbwatNa4Xsrzwtn+O0PW5zhIncA1s66y1gysBgGfk9kdx3OnLvKdW7d1+x7SChyVpmpjlWqYved+THsSHHW2rbp9S6JI71dbyreg6Me6fV7pln6p0weVFKXZK0viql/Qc1yj7WH/Y3znfSTfZi6/sjPbYw6l2kMdbFLf+9yRjKg3WMcIxnYMw+UF2vabgJ5/Pmexmkah3n+12t/RinenfxknmH77KWOSCicJeYbgqkftb6L1rfd5j/38TaxnpWYTVPlWe6IORFfbGJJwm4LGaddRvk3CAv6lte2OW13aWzv5PQ7BqzviQtC1rfL2fESPD9oBTlhVuvFTvmxS7Wtl9wknh5Inml5xylWd8leYf4ESsR9L2CsK/VwHhNFdY1GnlBHUEdUR15ETQAd3KWOUB1DwArMmP+InP5S1TPh3iLOCLObmjf5dnXta3G5semYW8Lhr0sUfCO6u4JLZzsSBpXMpxkyYCxKbaDAlkzTfV+PUF6THyuuiV7H+f7Uts+pdYlSXjI+tuf5Hy3o+rd62u1lOuSuPqq1PoQapQgGfzIc2MJi5mba5YpEIqRFxKPhmzfNofzjKXzsbjZx6DgtLnNKsz6hqy/qrUvoyMKdzGku3vW389aRm609T3LDLWW+QmXFvIihkM8ielfi9xWi+p6+izdiC9S3V3uFzP35hOmEpUK8t+mgl4xwXblCZ50lxdL/qbq6nH0pamw7zSN06VjtiFPBP9h9u0S1T0Owk9V19N1qZRF/B1dYGIqCdYx5rj/bSrq4ciLmpEXD4asv7W1THvE+k+ErC/X13SzzDMZlBeBXJkdcQ/eG5FwllrfxdXbm1vfHxFxHPbrDCsjL6gjqCNqQl4MDFnuDypc+ibJ5XdU3a8FXB+xPyOsbe3jfHeF9d2OIetfZi2TsxqoQc+Oe1S4TD3ZamtslkI7aLkE9cmJ5rzI9btpym2fUuuSOHa21h0Zssx2EfIijbokrr4qtT6EGuUsq9H+44ibx1cYFCIv9gnZdh/V/VrGrTH7eqa1PXswmp10/EJ1DXATRfAe3LURhftjIev2Vz3fI/OxsbXMz7m0kBcxDPIkptNUcYP/uYnc5qZSeVOFvwMoXe/WCdnemk6lFxXSUDy8gH3bwZQX7vuPjxSYmP7Rsy8TkRc1Iy9yIesvoLqf8N0QsX5LxD4E14Y8pVsoQ/JiPtX9ymFrxHI7RiScpdZ3cfW2JI97q66nbEtEbP94azvrIy+oI6gjMi8vHo8ptwMBcE4RufxI1T2uRVTvn+Ws37nLaQsEr09Milh/eSMQZFyNAeazU6392yxi3YWs9kZrCu2ghVV3jxURdYt41usb8nmpbZ806pI4TlLdD2yjepPfHyIv0qhL4uqrUutDqFG2sS6MeaZhLqO0rpVg3ULkRdgowWtZy/ze3NBhsYe17HYJj29BU5idYBUU/4wo3MMKgRUSGMh1rGWO4tJCXsSwtgofoGlAiYnpn6xKNSreD7nXb1CFjW4vldsPEu7bBco/cNOTBSSmP7EauEF8rZKPRo68qL68WCdiG8E7treFrC/X2/wR6+es39kiQ/JiXWu7+8csO6uIhDNJfVfq1HMrmoTUHmBuQ+QFdQR1ROblxekxywaDZN5eRC4fdM1Psk8TzbJvWp/ZD//+UOCpCXpszDBlYFQ74imPxCqlHWRPYSzjM0jPqF1Vz9cZy9H2KXddIlyd8G96kgp/baTUuqSU+ipJfQg1zIkhFYVcsNK9cKsU5MWiCZLMQuIQz7bE7B1oKr47VNfgOr7RaqPkxZ8SyItTEhRGyAvkRRzSsJwccn3L/ShdaLcsMjH1JY5h310SkcTYg1xJl9vzzH3tm2lnUpH7FsRDCRNTqfDcUaXlCXtzI99bNSYv5PpeIGIbwWBgd4Ss/0bMPtg95X6RIXmxj0ou4F+NSTiLre8KSQa3MonpFabhOD3k3kVeUEdQR2RfXhwYs+z1qnt8hkJz+bdU+FgWYW0DEQXBFKa7xuT3SaRLIfFWSu2g1VXPQUrtwUpFghym/D2lSm37pFmXhPGSStZbaWgCeVFsXZK0viq2PoQaR26kO1X41DTSrWnJIuXFzIjfPazIG/gMZztnKP/0SEEhdZnq7mIVJS9OSyAvfoe8QF6kxHYqfPooe2yAuMopLPmTgWWl26A8pf6+lZy4XXrdbo3yXqB07Txf+Z8+LKp6DmIbPNUqZN86TEUzTHU9rTgqQWI6v+p+amPHoY1+b9WYvPgmZhtx8iKu3FhJ+YV0teXF76zt9o9Z9oGIhLOU+i5JMigJ5CMh2+809+DtyAvqCOqImpIXTTHLjrKW7VdALj+f1Xa4MsE+nWf9ziqexvgeBZ6ad4toQ8xLqR2kzGfnReyH3Cc/S7ntk1ZdEkXQM+v6mOV2ipAXpdYlSeqrUupDqBMk8dxb+c3582WQF7upnlZ4hYRh29+zVM9pcqSrkww2Jd0G7bExviizvFgbeYG8KAJ5MjwnQaV1jfK/OxmW/Mn7re685Auq7tGr7XC7HcpT8bi52I/xbGeFhPsmXfh2LiDRDhLT0z3bOpNLqOHkxWsx628eUjfZZfSxEeufXCZ5cYS13V1iln0hJOEstb6Lq7dXc5LwJ00DVRqQP7AaNcciL6gjqCNqSl4Mi1n2tpCyLUkuP00lH1PEngUjuIbsgZoPK/DUBK+CvFBAG2KFlNpBrsQZYOqP+5179luzzbTaPmnUJXF8oHr3ePKxV4i8SKMuiauvSq0PoU7ZWnV3B3MNXxryYt0E4iCuYA6eSsjc0WGDyvSxlrsBeYG8yBgyQNnkBMnps8o/crubyM2KqJxP8Gz39CL2eU/PdrZImJjG3R++xHRH1fuJyDgunYaUFx0qenpO+9rcy/p8Tevz30asf36Z5IWdsB4cs+yXnms8jfourt62pwU8IWL/7KQxM+MI1Km8oI6gjkhDXpwSs+zzlgQoNJcPBm/9X4J9eshThtozd5wVs74MiH+odS1dbdULfSvcDopCemRcYK13fYptn1LrkkKk0LSY5Y4PkRdp1CVR9VUa9SHUIHKTS9e//+hoi1juQOXvereyCp8bOWmBJ/vQqbpn+ohKSA82y1ynugd+sivHX0Wsu5W13C3IC+RFBuljrvEpMcnp2ISJXBiberbZHrNvcm1va+43Mf7yfuh4z3Z+lGDfPk9wLtx1pMvfe85nj5YpUUFeZF9exD1tCpLZOapnN98VrfX/HLH+/RHyYrTq7gpcKDLl3uyQeshmi5DGVxr1XVy9HTRgPoqpj++0trMp8oI6gjoi8/Ii6gm6vDIUDHB6fhG5/KWqu4dBVHmwhpXzu2XT5yp+VpQFVfcAlMEA+3Zvm6hxTfqZc3CXJeNKaQeJQLhJx1QVPuOSbD8Yc+LtFNs+pdYlSbBn64maxeX2EHmRRl0SVV+lUR9CjfKw6n7/K8wmDrP+8BtYny9tfX5OkfJCuEjFD9QjCfFbVsUWdI0cYq37l5B1l1Hd3aaCKY2QF8iLrCKF/CDl77obJAcblJCYrqr873K6rGSu9bhEudDE9JMiEtO5qvd731+YfYTGlBcPhSREG6rwqVb7WInvWyYBdDnAuc5ceXGxdR/2K+L8/CPmflGqe+R+N+FMo76Lq7eDcy/nabmQ3zjcOUdbIS+oI6gjMi8vJH4Sstx11rUzoIhcXtoPwWsSMgNH2GxQ9isjwyIay2FTaR9tLbOr1cD92nz2igqf6cPuIXBKCu2gH6uer2yF3atBmTohxbZPqXVJEvpbguXOkPr2R871tVrKdUlUfZVGfQg1ys9Vz0Gf3OnrdlLdoza/5rGYQRe9l01hs6NJEAuRFzJKbPBulRR+p1qFj7wPN1B1mdhgP0+11v1/VoU13dxIQaE5v7F4T6ne73kiL5AXtZCgnhOSAB5cQvK3rGd7NzrLrKd6j9ZezcRU1mn3/B5dABtXXuTNdbKs9b0k5h9bCdPanm3bT4PtJ1kiKY41dVBnhLywu7ieba75dQs4PzLGwItWnTXISgrl3LkDJo5Lub6Lq7fthLjNSTqXM+fInYIyM7M4NIi8oI5owDoiJXkhrxDsZZU5kn9fYX0/yrONpLn8hdZ27lY9u/FL2XGt9X2rZ30ZzyHoPSM92/a3yrf5TAN/ltVe6WOta0/X+YyOTazv1jHthqDc+9CpN4ptB8nvv2mJj8OcfVrKuSaHpdj2KbUuScrB1vr/NjIg+HvI/n0WIS/SqEui6qs06kOoYa5SPUfgnabjv9ZNFczHvIln3Qc9lcV6BRZ4QeFgd/kTiy7vd85wtj3eY/9GOMtIITNR9ZyK5++qa6CWvLnZ+iEvkBc1wm2ee+yvJSR/G3q2d7FzP/imuZN3qUeqricWx6me06dVIjGV7v/ve35zHy6RhpMX88z1GDwplG67n6qe7/PvGbLtjVR392T7CW3w73dUz5HvXXmxi/IPlFgI0nX6I9Wzm/xkK5F7QMdzIQlnqfVdXL29hnM+ZJ+knH7JShTlHB2pkr3PjLygjqCOyIa8eM5qCH7hlDlBj4nFS5AXi3v+Lm+ZBr/92RgV/hrBTo4Um2GuK7eMXsHTyL3c+R0R2a96yvpNUmwHDXDaKV+a8yx10mzr8wsdsZFG26fUuiQpf3bOzRRLWswxIsonL9KqS6LqqzTqQ6hRZNRo6Yr1tucC+dT80cO6/Mg7xA+rnqPq/rQIeREkveONcfXNtTxc+bui9TPW1Z0qZ54xsMGI1YOVfyom5AXyIssc57kf/hCTyH0asb3hnu3ZFca+nu8P92xn9wonpsppVAYhycXSyIuGkheyvnSflS7IHc71IN1C48ZgkKRqkuo5uJ8kmvfpWF11dQsOkxfCMU5S+2wR52kT01hwp4aUrsULq+6uzGNTru/i6u1g3yYp/5SZI60GTjCA5NPIC+oI6ojMywvJb5tUd2+BIKTx+3sVPj5Iobn8gap79hE73jZiK65ekvaG9BqYpXq/GnSxqWPC2M2IA/cVojmmLF2zDO2gjUy57fYi+MY01IeXqe1Tal2SFPl7nap6PiAI/p4tqufrM6t69q3UuiSqvkqjPoQap49J6rY3BcDqBawrXZ36q55dsVQJN8oa5qbYwdwMSZLwhUwhIhXm5uamBeRFVtlU+bu1u1zmKfhbYhI5iZNDtnenin4yNdKT+KmMJKbCrZ7fvRx5kRl5UU588kPqnm1NArVKgdtbxKy7rQp/TzqKVcw9vEAJxyRPquR1l20K3Ic06ru4entlkw80q55P1LJ7H9SXvKCOoI5IW17Y5Y7k+QOKLPuSsLQpP+Ra3ED5ex7EtUm+b66jjVX81Lw28grKFmbdH6juKUbL2Q5a0uynrLdVEWVysW2fUuuSQuqcTc3xFVofpFGXRNVXtP8A6o2x9w094MrnD1i02vuBvOjBI6rrSYJ0uQsbqVqscacnEVs2QWIaTAdpG/vDPct8pXrOyOB2vZzpfC/IE5orqpSYSsX3tee3d0VeNKS8gCozZuKw4eP+c+jiyAvqCOqImpEXAEWx36VT19v/4sk/5kwAQHnlxb1DRo+dOPTBagsM5EUPJjuJlbxfKQMcySCAMjf4xJBk87oEiZwd75jkV6YCm+f5/kJnW8d6lrlEdXXdE+TJwp2q8oOxxe3jGyr50xXkBfIC0qpfJg67bMzEIY9kQWDUmbygjqCOQF5AtuTFJa9sMviiKbMQGABQdnkx5t4h+WoLDORFDx5VhY/U/kJI8nVzEduSkCd27juKMljbHM+yktR+qqo3kryNPCl80vP7I5AXyAuogrzQ9UsWBEadyQvqCOoI5AVkUF5MziMwAKAi8qLaAgN50YNDlf8pV1jIU7e1EyZyMsLzhJjtyajLO4Vs78QE+yNTTt1WpcRUGKC6ulS7yfPGyAvkBVRBXmRAYNSZvKCOoI5AXkBG5QUCAwAqJC+qKTCQF97kSt4L/jwiAZSZDH5WRCInDdfjVO9RmCWZk3ep143Ynqw7VMfryj9KtEydJaM8n6F6jm69nmdb7lRWTyQ4L0nXOcVJTiUxHd6IF1KDyAt5P/8pxVzt2ZUXVRYYdTjbCHUEdUQp8mJJU2ZK/JzSCtKVFwgMAKiQvKiWwEBehCJdXGVKKZnCSZ627WOS1qQNgKinUDLq8kCz3W1VYaMwy6BrG5nEeJjqGvnbbRAvpbqmEo4a3XoxHSupwqarS7rOAub35X3rhRr1AmoQeQG1IC+qKDDqeKpU6ogGryOKlBcAZZYXCAwAqJC8qIbAQF6UjWK63QLyAqA88qJKAqOO5QV1RKOX8cgLyKy8QGAAQIXkRaUFBvKCxBSQF9Ag8qIKAgN5QR2BvACohrxAYABAheRFJQUG8oLEFJAX0EDyosICA3lBHYG8AKiWvEBgAECF5EWlBAbygsQUkBfQYPKiggIDeUEdgbwAqKa8QGAAQBnkxZ3PnJe/6sEjKi4wkBdl4yYnMf2YU4K8QF5ANeTFHc+cm7/6oSOrIjCQF9QRyAuAysmL/UZOyY+8/V0EBgCUV1489sqV+c9nvFNxgYG8KBtb6bhEx5U62nUM5pQgL5AXUA158cjLl+e/mPleVQQG8oI6AnkBUDl5sb+WF/O+zSMwAKD88kKotMBAXgAgL6D+5YVQDYGBvADkBUBl5YWAwACAisiLSgsM5AUA8gIaQ15UQ2AgLwB5AVB5eYHAAICKyYtKCgzkBQDyAhpHXlRaYCAvAHkBUB15gcAAgIrJi0oJDOQFAPICGkteVFJgIC8AeQFQPXmBwIDE/H3SQRvqRGA6QXhj4tA5cfKiEgIDeQFQXXkx9tGfLzNm4rC/6Hv6xtqPIePGTRq+Sdg5GTdx6M5j7x16Za0fp27g36DL8NMnPHr8wu4xTrj/qMWqXb9oOd4ZJy8qJTCQF4C86Mm+IycPHzxiynX7jphyY23H5An7jZx6RJiUP/DSqcvqxvFfav84v4txQ0a+vLH376m/08c5vWoxYvLXcfICgQGJGDPxwI1j51kniBh5UW6BgbwAqLK8uHfIbfVUlunj+eyqx4ct0Uvo33fQOm6juvaPdejfegka3ejP2n6GyYtKCAzkBSAvrIbuRVP36N14rO3QEuNQ37FqQXNHXR3riCmfHjru5cU98uKaLO1nmLxAYADygqiYvCinwEBeAFRXXuhG4tf1Vp6NnTRs297HOWx4/ZXdQ1+odXlRboGBvADkhd2gn/zX+pMXU64IOdaZ9Xasg0dM/VEtywsEBiAviIrJi3IJDOQFQHXlhb5/Z9dbeTZ+0pAdezXq7xt6cN1JmnuHTKkHeVFOgYG8AOSF1dC9aOrFddegv2jy1V55cdHkzno71v0vmrx9rcsLBAYklhd6AK38R9NfJQhvfD37k3wS0hYYyAuAbMkLaWg+++aNNRWXTzq4YHlxzcO/qrnjnPTi34qSF9M+fqrK9cvHieqXcggM5AUgL8LlxSnXvJH/9xOf1FT8YcK0ouTFuEkf1NyxDrtkasHy4rK738u/8v6sqsWrH8xKVN4jMCBWXozT8gIgDdIUGMgLgGzJi0+/erPmyqR/OOVREnlx05On1dxxvvnRE0XJixkdn9XMMaYtMJAXgLwIlxejJr5fc+XgtY98XJS8ePPj2TV3rIe0vlywvLjukY9r5vgQGIC8gJoTGMgLAOQF8gJ5US6BgbwA5AXyAnmBwADkBUAqAgN5AYC8QF4gL8olMJAXgLxAXiAvEBiAvABIRWBkXF7Mr2N5HYtQomSaHXTco0MacnL9HMkpQV4gL2pbXqQlMJAXlNfIC+QF8gKBAcgLgFQERgblhUyx+C8dU3V06Mib+FjHzTqG6ViAEiZTvGH9nSS+1bE68gJ5gbyobXmRhsCoQXnRT8cfTX2TNG7SMYDyGnmBvEBe1Kq8QGAA8gJqQmBkSF6sbp4G5ROENBgWo5TJBH1C/kbbIy+QF8iL2pcXpQqMGpQXuyesh9w4nfIaeYG8QF7UsrxAYCAvkBeQeYGREXmxsI5nCkwUt/Zs51odX+mYo+NTHSdTElWETzx/n7WQF8gL5EV9yItSBEYNyotfFSkvzqG8Rl4gL5AXtS4vEBjIC+QFZFpgZERejA1JBv+rul4hediTcO3g2c4HzjI3URJVhP11SNL2pY43dZzKKUFeIC/qS14UKzAaSF4Mp7xGXiAvkBf1IC8QGMgL5AVkVmBkQF701THTSQJn6djOWU66uzbruM8sswHyApAXyAvkRbYFRp3Ii1/rWDYilqHEQ14gL5AX9SQvEBjIC+QFZFJgZEBebOJJFC+LWWfdkM+RF4C8QF4gLzIkMOpEXhxCiQbIC+RFo8kLBAbyghY1VIxv5s3J3/bfsz3J5dDP/z7poA0zJC8O8SSKfy1gfemB8Tcdl6rePTjeMJ8HcZizrvTk+IfqejXlEh1Lms9/quNp1TXbyfs6jo74/YV0HKGjXcdjqmvMjdd03Ki6RqwfUMBxnKbjbtXVlXeG6urW+5KOO3WcqWPpiPXDjkX++0sd/1Rdr958pOM/On6hukbVt9lIii4d08y5fFJHm44fxey7NFTHmt+WfTiogP1b1PxdrtLxro63jXQ6xZzbOGTmmaN0SPL0lBFYr+q4zfnbB3Eo8gJ5gbwoNZmdm7/96XN61y/3Dpk+btLwTZAXmS7zqllep11vIi+QF8iLCvDglOkeeTE5v++IyefS4kdeAKQiLu585lyvuBh/3/BN7es0A/JikCdRlMbzUgnXP1clfyf5E2fdm1XvcTSOV11Tx9mfPxLRa+SlmN+UwUN/r7pee/Gxpo57E+7/dB2Hh2zHdyzrq653m8O2N9Eko8LpZl99y3XGNPpvjjnPYfu3jo4XIvZPEvNVYxoHr6vC3kv/HHmBvEBelCYu7nr2fK+4uHzisC163QeNKy+yWuZVq7xOs95EXiAvkBcV4uGXv8zvN3JKb3Fx0eQLae0jLwAqKi4yIi/WDkleXkr49OWCApK46TEJ2gUecZE3PRBchphGfdLfnhCy/zcUmIhKUveDBMnmeeZ447Z3sQofMDXJDC/FJsPnmqQ67jefjOipMlMVPqjebB3zIS+QF8iL8osL5EUmy7xqlNdp15vIC+QF8gJxAcgLaDRxkRF5IUnV5JDE5VvTbXXLiPUPLSAReiwmQQuLh5z1pAvtp84yH+s4Q3W9cvLrkCdUvhlSHvM8vbrSyAd5heMdz3YmJUg2yxETUpQXhcROnu095+mtI42OoUYIdTjfyys48grQdfS8QF4gLyojLupIXpxkRLsvVkpYLmalzKtGeZ12vYm8QF4gLxAXgLyARhMXGZEXwnYhPR7seFD1noEkYD0d31e9p1O9z3wexBIJE7QO0wtjmOoaf+MoZ72/eBKwNZxlFlFd42bYy/nO7WjV9b7v+TrW8nwvr3W86Gzn6wKSTRFDMoXf93TsZRLasHP8bx1SMa+i/K/jfKNjwZTlhbznLONvLK9jGx1TPMuMdba1svP9DLPPNsd6rp/KJrbIC+RFnciLYsVFHcmLqJBycbUaKvMqXV6Xo95EXiAvkBeIC0BeQKOJiwzJC2USojkJEsVrTILjo9DZRnwJmnSx3TlinaU9T7hOCll2P8/23akEZfC1uIHOjvFsZ4UExyKv3iyXYFsSbZ7fneRZbu0Uk+GpOlZ0ltvAs9zdzjK7O9/f4vm9FUyjwl5uWeQF8gJ5UTlx0SDyIh8i1rNa5lW6vC5HvYm8QF4gLxAXgLyARhMXGZMXwg4q/BUSO55V/pk30pAXR8Wss41nnR+GLNvfs+yAIs7Lnp7tbBFzLDM9gkNY07Otu5R/HIhjVbIuvMUkwzM9iXCA+zTvRef7Yc7393u2MZ95OmkvtxzyAnmBvKicuGggefHDGirzKl1eV6veRF4gL5AXiAtAXkA9iYsMygtBRhc/WPm7o8Z1TS1VXiSZieIgz76M03GZJy73LLt3zPalZ8O2RljIVHIn6hjv2c6PikhIg54e7rbaQ5bdx7PswJSS4U8izsF9zrIfON8PUL3HRnG7H+/mLPNuxRNb5AXyooblRRrioo7khUxXfUFI/EFH3xoq8ypdXlei3kReIC+QF4gLQF5AvYuLjMoL+ymSTKP6vAofzHODlOXFJwn26xxV2qCXvilHZcC33yUQNmnIC1WAvBhUJXlxk7Psh873C5rE3F5Gpg88U3UNFifT3bpje1xX6QsYeYG8qFV5kZa4qCN5kcZsI1kp8ypdXper3kReIC+QF4gLQF5AI4mLjMsLW2KEJT4HV0FejCkxCXOFy3om2St0O40sL3xPGaNCfmtl5AXyAnlRWXGBvMhkmVeN8jrtehN5gbxAXiAuAHkBjSYuakReBNzmSWj+WgV5cYZnP441T4aiQpLfjZ1tyWBqvqlQZUyPkTpO0XFcSOLX6PLi9IRJ7zQVPQBr5uTFmx8/mZ8+8/2aiisf+EXB8uLfj51cc8f50tt31bW8SFtcIC8yWeZVo7xOs96sK3kx4vZ38+993llTMea+D4qSF0/876uaO9aDLqtveYG4gEh5IXH1Q0cRhDeefv1fFRcXNSYvjvMkP3+IkRc3l0FeDFfpDSa2r2dbh3uW2x150QMZE8SeWlfeub5ex/uST+p4Vccd5ppZsGqJbZHyoh4iibyoh0gqL6568Miq1i9P/e+6qogL5EUmy7xqyIs06826khd1EonkRT1EEnlxwKVT84ePfrVq8csxryIuID15QRBh8dgrV1ZcXGREXsi+r51gucs8yU+Ls4z7TvBLZZAXP/Lsx6+LPPaRKn6gM+RF72T4Auf7PTKZ2CIvkBcZiUdevrwq4gJ5kckyrxryIs16s6blxeARU0YiL+pbXlR9H7WQQFwA8oKoqrwol7jIiLx4RMdcHa061g9ZZmfzdMlNftw57J9wvp+noqfHLEZeLKnjK0+y9r2Y9ZZQveeqd0dVn2m2byOj2F+BvOjB3c73E835WKqaPS2Klhe6AVxXDfqJQ74de9/QNXod531Dd6g/eTH09lqXF+UUF8iLTJZ51ZAXadabtS0vLppybN3JixFTzgmRF1Pr7Di/3f+y/61W6/ICcQHIC6Ks8qKc4iIj8mKyk9D8V8c/dJxtnjZNVP73en0jqf/Ts9x0I0au1HFvCvJC+K3yD5AmSe+WOpbXsY7q6uoro8DfaQTNCGc7x3q2c4mOFc33G5t1GbCzJ39U0e98i7Saobq6UsvvnmqS/EzKi8snDt9e9754vU7KsunjJg75Tdg50QLjojH3Dp1ZJ5Lm+TEPHtC/luVFucVFHcmL14xoj4rmGinzqiEv0qw3a1teTHhnYd0IvmnfEZPn1EFj/hvdcL93aOtbS/uOdd+RU3bQsuaN+hAXk7/Yb8SU47zHWUPyAnEBkUy4/6jFxk8c+hOC8IU8sYuTF+UWFxmRF4+qwkcef0HHop5tHRaz3oyU5MUCJkksdL/HO9vZUMeckET0U8VsI2HJsDyte7bAc/+5jr2yKC/+74+SP3P+Wo+k56aej3VCfkKfqtcvE4feEicvKiEu6kheJInWGinzqiUv0qo3a1pedJeB+fnOzOfnr+WIqs9sav04JaKOb7+Lp2ykBcZPqhWDR0w9PIm8QFwAQEnoruKjo+RFJcRFRuTFoaaxnjSRkZ4ZYWNk9NHxcsS6H6ckL4SNVO/XVOLiXM92Tkyw3uOq92wrjT7byLlFJMEir/pnVV4ApFa/TBx2WZS8qJS4qFF5cWCR8mJ0jZR51ZIXadabNS8vANJiv0te2SROXiAuAKCs8qJS4iIj8kIYoLrGdfg8IoGRp04/S7AteeXinyHbGOksO8L5/okC91tsvMwO8k7EfssI8ZKsSzde37u70pgdquN15X/l5c86+qmeU8116FivhGN53dm/k0OWk0bMbGvZWTp+6FkuyW8Xsn8XOcu61+TvnO8/k/pbR84IF/m3vHLke8r3F+QFNLK8qKS4qFF5IWMpvVCEKDiyRsq8SpfX5ag3kRcACeUF4gIAyiovKikuMiQv7KRmE9U1krr0yNjHiI1ikhfpZrutSeqkt8AqIcstpmMlHUuXuO+LmYa9TH8qr6/srWObAvZdBubcyAiaYTq+b8SGzVI6VlDhA7QVcizLmGUXSbBfy5voG3P8cb9dyP6FLSt/x7kqetaZgLVU79dyJiIvoFHlRaXFRY3KizTJaplXqfK63PUm8gKQFxHyAnEBAGWVF5UWFxmUFwBxHOEk5pKoRwkBd/rca5EX0IjyohriAnnRWGVeo4G8gCzLC8QFAJRVXvxn6riKiwvkBdQgvhlaBoUse4xn2aORF9Bo8uKhKaOrIi6QF41V5iEvkBeQDXmBuACAssuLcROHVVxcIC+gBtlc+WdneVHH1TrOVF2j/j/nWe4NHcshL6DR5IW3fqmAuEBeNFaZh7xAXkD15YUE4gIAyi4vqiEukBdQg0jjf5wqfDC9L1QFZxpBXkCW5EW1xAXyorHKPOQF8gKyIS8QFwBQWXlRIXGBvIAaRQZ2PU3H2wkS+C9V14wtK1Y8sUVeQDblRcXEBfKisco85AXyArInLxAXAFBeeVFBcYG8gDpI6HfR8Wsd58htpbq6UUvi/kvVNcvMklVLbJEXkD15UVFxgbxorDIPeYG8gGzJC8QFAJRXXlRYXHwnL9qbf468AChDYjtmt/7IC8iQvKi4uPjuPmhvHtKjgdeae56/ENRFGd/evJcjL6ZyVqDShMkLxAUApJtcuvKiCuKCxBKgfMxpH7h5z3uraRZnBSpSv/SWF1URF0JHa/Mgp455jb8Q1EUZ35Y7wJEXT3NWoNL45AXiAgDSTy5teVElcfFdYtnWtLtT+b7JXwegdGa3tezSs1dT00ecFahI/dJTXlRNXHAfQD2jRdyvnN51D3BWoNK48gJxAQDlSS4DeVFFcSHMGd28hfN0eG5+1OH9+AsBlNhoc17J0qLwBc4KVKR+6ZYXVRUXQmd7ywa9Xp+68oBF+StBraMf9lzovHZ7PWcFKo0tLxAXAFC+5FLkRZXFhZC/qmUJN7GUgQb5CwGUmNi2Nl/gyIt/clagIvVLl7yourj4ro65o2VB3cj7xr4X5rQ2bcZfCWq/jM/d5siLszkrUGkCeYG4AIAyJ5dDzq+2uAjQ3Xjf7VEB6yfG/IUASr2vco/2FIO5szgrUAm0GP9TFsTF/zXy2ppe7Snymo/hrwS1TD5/5vy6jP+sx4Oftub9OTNQaUReIC4AoOxMmHzmAhlqZF3jvJN8LX8hgBIS21GDl5RXsBwp+GPODDRa/SLoe2Gs83riLfyVoJaR3kO9XocaN2hlzgxUmsET8gtwFgCgodBPhA9zEssZvJMMUMI91dZ0qDPDQkd+wuCFOTPQiHS25ob2uh9ad1uaMwO1Su/XAnMvc1YAAAAqQH58y/d6PyXOHcKZASgOLS/+44x3cQNnBRq2jpGeSG1Nsx2B8SvODNTk9Txh8AL6oc8HzngXf+LMAAAAVAj91OBW5ynCVHmnkzMDUBhz21q29QyC+zPODDQyMhODOy13/v4z+3JmoAav5V+4ZbzuibE+ZwYAAKBCdLQ3D3Qr4zltuQM4MwAF3kttufudMWTeYvphaHTmjm7ZsVeDrz13JGcGagl5/U/3upjm9CKaxJkBAACofKPrGafR9aF09+XMACSjs61pWK8GWlvuaM4MQO/XqWS2hvyoPZbjzEDtXMO5c9wyfnZbyy6cGQAAgArj632hnzBcx5kBiCc/vmk1d+o8PZbMG/nLD16IswMgDb/mnXp3t2fmEagN5rY3/8gdH4xeFwAAAFVEV8Q39n5y3HwMZwYgHBEU+qnyY73vnabdOTsA3WjBd3WvMWHamn7HmYFMl/FjBq0grwA65fuczjG79efsAAAAVK2Cblm199Pj3LzO9pZ9ODsAnntmwuA++tWQm3t3JW66lrMD4G0Efug0Ar+d0547kLMDmbxmr2pZQve4eLa3dMudztkBAACoMvK0WJJJp2vvXAbwBHCSWj14m09caOH3Wn7coMU5QwC9md3e/GOR4s7YMN/ILA6cHchUGd+25/L62nza06vuPmZkAwAAyAidrc2neSrrb2e3N/1RnjRzhqDhk9qxA9fQ98XjHnHxue6ptAFnCCAc/Tri8b3HWPpuyskLmEIVssCc1qbNZNwiTy70an58y/c4QwAAAFlKLlubL/Ell/rp2EPMaQ4NndTqXkgiKTwzi8ycO7ppG84QQJI6Jvdnfx3T9Fhn224bcYagGsjU1p2tuZN1ed7pyX/enz1mj7U4SwAAAFmrwPP5+XTlfb736Ziu1HXi+df85QNX5ExBozB3dMuOIu/8T4xznyMuAApDz0Bypv9+aporAj3ftvsqnCWoVM6jx7HYW197U0Lynv91tO62NmcKAAAgw+gK+2gZVdtfmTfN1k/J/i7znPM6CdRlQjs2t4zu4n6E7xURS1y8wqsiAMWhp+Q+TN9DHWGiXAuOqzpGtTTxOgmUpYzXA5VraXGSvtZeDivj9TX6sAw2y9kCAACoAXQ3+S197346ImO6XuYWXcmfpbtcDhWhMWd08xZzRg8cQBC1ENJzoqM916yv5V/quFiLuafcgQV7dyNuvorBOQFKrGP0/ScSMLqOyX2l78vbde+ns/X0qsNk4E+pmyi7iETR1vLDuaOat/tuUPL23LE6XxkV1svCnm1Nl/HnIc4AAABqjPyoPRbRlfm53vdACaLBQie9r3e0Nw+kZABIqY65/OCFtJT4w3c9+ihjiKpH7kkZtJM7EwAAoIaRwap0ctke1s2XIOpaWrTl3tRP7Y7M39GyIKUBQBkkxvim1fR99jctCGdR5hBVENPP6tcA92EqVAAAgHpKMGX+89bccb450AmizoTFTH2tT5DuxnQfBqhQHTNqj+VkzCX9msgT303VTVlElE1Y5D7X19roua257bnzAAAAGkBkdLY37SczkOi4rWvgq9wH+gnGDBnskyCyHzKDTtMX+rp9W//3v7rBdHVna/Npc9sH7qAHo12AuxyguiJD34+D9QwkF+h79VYdU6ljiELLeF2uf6avm2n6v4/qQTov15+dIK+G0MsCAAAAAAAAAAAAAAAAAAAAAAAAAAAAAAAAAAAAAAAAAAAAAAAAAAAAAAAAAAAAAAAAAAAAAAAAAAAAAAAAAAAAAAAAAAAAAAAAAAAAAAAAAAAAAAAAAAAAAAAAAAAAAAAAAAAAAAAAAAAAAAAAAAAAAAAAAAAAAAAAAAAAAAAAAAAAAAAAAAAAAAAAAAAAAAAAAAAAAAAAAAAAAAAAAAAAAAAAAAAAAAAAAAAAAAAAAAAAAAAAAAAAAAAAAAAAAAAAAAAAAAAAAAAAAAAAAAAAAAAAAAAAAAAAAAAAAAAAAAAAAAAAAAAAAAAAAAAAAAAAAAAAAAAAAAAAAAAAAAAAAAAAAAAAAAAAAAAAAAAAAAAAAAAAAAAAAAAAAAAAAAAAAAAAAAAAAAAAAAAAAAAAAAAAAAAAAAAAAAAAAAAAAAAAAAAAAAAAAAAAAAAAAAAAAAAAAAAAAAAAAAAAAACU+v/TgZvLw5vtrQAAAABJRU5ErkJggg==)\n",
    "\n",
    "## Ejemplo de juguete\n",
    "\n",
    "En esta seccion planetaremos un ejemplo muy sencillo para poder familiarizarnos con las funcionalidades basicas de *Spark Streaming*.\n"
   ]
  },
  {
   "cell_type": "code",
   "execution_count": 17,
   "metadata": {
    "colab": {
     "base_uri": "https://localhost:8080/"
    },
    "id": "pSjTC8BUE3Dw",
    "outputId": "ad2ec253-a927-46ee-80fe-61de5397749f"
   },
   "outputs": [
    {
     "name": "stdout",
     "output_type": "stream",
     "text": [
      "Requirement already satisfied: pyspark in /home/vania/jupyter/jupyterenv/lib/python3.8/site-packages (3.2.1)\n",
      "Requirement already satisfied: py4j==0.10.9.3 in /home/vania/jupyter/jupyterenv/lib/python3.8/site-packages (from pyspark) (0.10.9.3)\n",
      "\n",
      "\u001b[1m[\u001b[0m\u001b[34;49mnotice\u001b[0m\u001b[1;39;49m]\u001b[0m\u001b[39;49m A new release of pip is available: \u001b[0m\u001b[31;49m23.1.1\u001b[0m\u001b[39;49m -> \u001b[0m\u001b[32;49m24.0\u001b[0m\n",
      "\u001b[1m[\u001b[0m\u001b[34;49mnotice\u001b[0m\u001b[1;39;49m]\u001b[0m\u001b[39;49m To update, run: \u001b[0m\u001b[32;49mpip install --upgrade pip\u001b[0m\n",
      "\n",
      "\u001b[1m[\u001b[0m\u001b[34;49mnotice\u001b[0m\u001b[1;39;49m]\u001b[0m\u001b[39;49m A new release of pip is available: \u001b[0m\u001b[31;49m23.1.1\u001b[0m\u001b[39;49m -> \u001b[0m\u001b[32;49m24.0\u001b[0m\n",
      "\u001b[1m[\u001b[0m\u001b[34;49mnotice\u001b[0m\u001b[1;39;49m]\u001b[0m\u001b[39;49m To update, run: \u001b[0m\u001b[32;49mpip install --upgrade pip\u001b[0m\n",
      "\u001b[1;31mE: \u001b[0mNo se pudo abrir el fichero de bloqueo «/var/lib/dpkg/lock-frontend» - open (13: Permiso denegado)\u001b[0m\n",
      "\u001b[1;31mE: \u001b[0mNo se pudo obtener el bloqueo de la interfaz dpkg (/var/lib/dpkg/lock-frontend). ¿Es usted superusuario?\u001b[0m\n"
     ]
    }
   ],
   "source": [
    "!pip install pyspark\n",
    "!pip install -U -q PyDrive\n",
    "!apt install openjdk-8-jdk-headless -qq\n"
   ]
  },
  {
   "cell_type": "code",
   "execution_count": 18,
   "metadata": {},
   "outputs": [],
   "source": [
    "import os\n",
    "os.environ[\"JAVA_HOME\"] = \"/usr/lib/jvm/java-8-openjdk-amd64\"\n",
    "\n",
    "### Creando un *StreamingContext*"
   ]
  },
  {
   "cell_type": "code",
   "execution_count": 19,
   "metadata": {
    "colab": {
     "base_uri": "https://localhost:8080/"
    },
    "id": "lMl3Yv0SLl73",
    "outputId": "63fd862e-10bd-46d0-a5f9-828946a8e449"
   },
   "outputs": [
    {
     "name": "stderr",
     "output_type": "stream",
     "text": [
      "[nltk_data] Downloading package stopwords to /home/vania/nltk_data...\n",
      "[nltk_data]   Package stopwords is already up-to-date!\n"
     ]
    },
    {
     "data": {
      "text/plain": [
       "True"
      ]
     },
     "execution_count": 19,
     "metadata": {},
     "output_type": "execute_result"
    }
   ],
   "source": [
    "# Cosas importantes de pyspark\n",
    "from pyspark import SparkContext\n",
    "from pyspark.streaming import StreamingContext\n",
    "from pyspark.sql.functions import size\n",
    "\n",
    "# Extras\n",
    "from operator import add, sub\n",
    "from time import sleep\n",
    "import numpy as np\n",
    "import string\n",
    "import nltk\n",
    "nltk.download('stopwords')"
   ]
  },
  {
   "cell_type": "markdown",
   "metadata": {
    "id": "3h1Y_fKPMVFX"
   },
   "source": [
    "A diferencia de ejemplos anteriores, donde el punto de partida para usar `pyspark` era un objeto de la clase `SparkSession` (la cual es relativamente reciente), para iniciar un programa de *streaming* con `pyspark` necesitamos crear un objeto de la clase `SparkContext` (que en comparacion a un `SparkSession` es de mas bajo nivel, pero a partir del cual se puede crear RDDs) y a partir de este crear un `StramingContext`"
   ]
  },
  {
   "cell_type": "code",
   "execution_count": 21,
   "metadata": {
    "id": "i35nfXpNMTdi"
   },
   "outputs": [],
   "source": [
    "# Crea un SparkContext\n",
    "sc = SparkContext.getOrCreate()\n",
    "\n",
    "# Crea un StreamingContext\n",
    "delta_t = 1 # en segundos\n",
    "ssc = StreamingContext(sc, delta_t)"
   ]
  },
  {
   "cell_type": "markdown",
   "metadata": {
    "id": "cStlbxROYJUZ"
   },
   "source": [
    "### Datos de juguete\n",
    "\n",
    "Simularemos un flujo de datos de la siguiente manera. Primero crearemos los *batches* de forma artificial usando `numpy`\n"
   ]
  },
  {
   "cell_type": "code",
   "execution_count": 22,
   "metadata": {
    "colab": {
     "base_uri": "https://localhost:8080/"
    },
    "id": "EHM-qZxlYIHW",
    "outputId": "df96f639-49b4-4d85-b8ac-9730f51b6127"
   },
   "outputs": [
    {
     "data": {
      "text/plain": [
       "[[3, 3, 3, 6, 9, 9, 8, 3, 8],\n",
       " [2, 3, 4, 2, 7, 1, 7, 7],\n",
       " [2, 5, 4, 4, 7, 4, 6, 9, 4],\n",
       " [9, 3, 5, 7, 4, 2, 1, 1, 8],\n",
       " [2, 5, 4, 8, 9]]"
      ]
     },
     "execution_count": 22,
     "metadata": {},
     "output_type": "execute_result"
    }
   ],
   "source": [
    "# Para poder reproducir los datos\n",
    "np.random.seed(182)\n",
    "\n",
    "batches = []\n",
    "\n",
    "# Generamos batches con numeros aleatorios\n",
    "for i in range(100):\n",
    "    batch_size = np.random.randint(1, 10)\n",
    "    batch = np.random.randint(1, 10, size = batch_size)\n",
    "    batches.append(list(batch))\n",
    "\n",
    "batches[: 5]"
   ]
  },
  {
   "cell_type": "markdown",
   "metadata": {
    "id": "iTJXdk-hcE3o"
   },
   "source": [
    "para simular que estos *batches* provienen de un flujo de datos usamos debemos hacer lo siguiente"
   ]
  },
  {
   "cell_type": "code",
   "execution_count": 23,
   "metadata": {
    "id": "AJpsflrBX6tt"
   },
   "outputs": [],
   "source": [
    "cola_rdds = []\n",
    "\n",
    "# Transformamos cada batch en un rdd\n",
    "for batch in batches:\n",
    "    rdd_batch = sc.parallelize(batch)\n",
    "    cola_rdds.append(rdd_batch)"
   ]
  },
  {
   "cell_type": "markdown",
   "metadata": {
    "id": "PmLHlMSJfEId"
   },
   "source": [
    "Supongamos ahora que tenemos un flujo, para poder ver que forma tienen los datos podriamos hacer algo como esto"
   ]
  },
  {
   "cell_type": "code",
   "execution_count": 24,
   "metadata": {
    "colab": {
     "base_uri": "https://localhost:8080/"
    },
    "id": "BsD6ZVS2X53q",
    "outputId": "6b475e7c-555f-443e-ae74-f3b405533ea0"
   },
   "outputs": [
    {
     "name": "stdout",
     "output_type": "stream",
     "text": [
      "-------------------------------------------\n",
      "Time: 2024-05-11 09:02:39\n",
      "-------------------------------------------\n",
      "3\n",
      "3\n",
      "3\n",
      "6\n",
      "9\n",
      "9\n",
      "8\n",
      "3\n",
      "8\n",
      "\n",
      "-------------------------------------------\n",
      "Time: 2024-05-11 09:02:40\n",
      "-------------------------------------------\n",
      "2\n",
      "3\n",
      "4\n",
      "2\n",
      "7\n",
      "1\n",
      "7\n",
      "7\n",
      "\n",
      "-------------------------------------------\n",
      "Time: 2024-05-11 09:02:41\n",
      "-------------------------------------------\n",
      "2\n",
      "5\n",
      "4\n",
      "4\n",
      "7\n",
      "4\n",
      "6\n",
      "9\n",
      "4\n",
      "\n"
     ]
    }
   ],
   "source": [
    "# Creamos el flujo de datos artificial\n",
    "flujo_datos = ssc.queueStream(cola_rdds)\n",
    "\n",
    "# Especificamos el procesamiento\n",
    "flujo_datos.pprint()\n",
    "\n",
    "# Inicializamos el analisis del flujo de datos\n",
    "ssc.start()\n",
    "sleep(3)\n",
    "# Terminamos con TODO el proceso\n",
    "ssc.stop(stopSparkContext = False)"
   ]
  },
  {
   "cell_type": "markdown",
   "metadata": {
    "id": "t-TTUNEXiNYi"
   },
   "source": [
    "La funcion `.pprint()` pertenece a un conjunto de funciones llamadas *Output Operations*, las cuales sirven para sacar los datos de los *DStream*s y pasarlos a una base de datos o archivos. Para mas informacion por favor consulte la [documentacion](https://spark.apache.org/docs/latest/streaming-programming-guide.html) de *Spark Streaming*.\n",
    "\n",
    "### Transformaciones sobre *DStream*s\n",
    "\n",
    "Muchas de las transformaciones para los *RDD*s tienen su contraparte para los *DStream*s. Un ejemplo seria la funcion `count()`, la que usamos a continuacion para contar cuantos elementos existen en cada *batch*, o visto de otra forma, cuantos datos se recibieron por intervalo de tiempo\n",
    "\n",
    "\n",
    "\n"
   ]
  },
  {
   "cell_type": "code",
   "execution_count": 25,
   "metadata": {
    "colab": {
     "base_uri": "https://localhost:8080/"
    },
    "id": "BXIxNgLTjmz0",
    "outputId": "63baf8b6-23dc-4740-9e8f-e4dc1851ea7d"
   },
   "outputs": [
    {
     "name": "stdout",
     "output_type": "stream",
     "text": [
      "-------------------------------------------\n",
      "Time: 2024-05-11 09:04:30\n",
      "-------------------------------------------\n",
      "9\n",
      "\n",
      "-------------------------------------------\n",
      "Time: 2024-05-11 09:04:31\n",
      "-------------------------------------------\n",
      "8\n",
      "\n",
      "-------------------------------------------\n",
      "Time: 2024-05-11 09:04:32\n",
      "-------------------------------------------\n",
      "9\n",
      "\n",
      "-------------------------------------------\n",
      "Time: 2024-05-11 09:04:33\n",
      "-------------------------------------------\n",
      "9\n",
      "\n",
      "-------------------------------------------\n",
      "Time: 2024-05-11 09:04:34\n",
      "-------------------------------------------\n",
      "5\n",
      "\n"
     ]
    }
   ],
   "source": [
    "# Dado que ejecutamos ssc.stop() debemos crear un nuevo ssc\n",
    "delta_t = 1\n",
    "ssc = StreamingContext(sc, delta_t)\n",
    "\n",
    "# Creamos el flujo de datos artificial\n",
    "flujo_datos = ssc.queueStream(cola_rdds)\n",
    "\n",
    "# Especificamos el procesamiento\n",
    "flujo_datos.count() \\\n",
    "           .pprint()\n",
    "\n",
    "# Inicializamos el analisis del flujo de datos\n",
    "ssc.start()\n",
    "sleep(5)\n",
    "# Terminamos con TODO el proceso\n",
    "ssc.stop(stopSparkContext = False)"
   ]
  },
  {
   "cell_type": "markdown",
   "metadata": {
    "id": "lLa7E-2Ek2e_"
   },
   "source": [
    "Otro ejemplo seria aplicar funciones a la suma de los datos de cada batch"
   ]
  },
  {
   "cell_type": "code",
   "execution_count": 26,
   "metadata": {
    "colab": {
     "base_uri": "https://localhost:8080/"
    },
    "id": "Qyob97zSkrND",
    "outputId": "cec1a5b7-4142-4e0a-f0a4-6788f87c2aae"
   },
   "outputs": [
    {
     "name": "stdout",
     "output_type": "stream",
     "text": [
      "-------------------------------------------\n",
      "Time: 2024-05-11 09:05:48\n",
      "-------------------------------------------\n",
      "2704\n",
      "\n",
      "-------------------------------------------\n",
      "Time: 2024-05-11 09:05:49\n",
      "-------------------------------------------\n",
      "1089\n",
      "\n",
      "-------------------------------------------\n",
      "Time: 2024-05-11 09:05:50\n",
      "-------------------------------------------\n",
      "2025\n",
      "\n",
      "-------------------------------------------\n",
      "Time: 2024-05-11 09:05:51\n",
      "-------------------------------------------\n",
      "1600\n",
      "\n",
      "-------------------------------------------\n",
      "Time: 2024-05-11 09:05:52\n",
      "-------------------------------------------\n",
      "784\n",
      "\n"
     ]
    }
   ],
   "source": [
    "# Dado que ejecutamos ssc.stop() debemos crear un nuevo ssc\n",
    "delta_t = 1\n",
    "ssc = StreamingContext(sc, delta_t)\n",
    "\n",
    "# Creamos el flujo de datos artificial\n",
    "flujo_datos = ssc.queueStream(cola_rdds)\n",
    "\n",
    "# Especificamos el procesamiento\n",
    "flujo_datos.reduce(lambda x, y: x + y) \\\n",
    "           .map(lambda x: x**2) \\\n",
    "           .pprint()\n",
    "\n",
    "# Inicializamos el analisis del flujo de datos\n",
    "ssc.start()\n",
    "sleep(5)\n",
    "# Terminamos con TODO el proceso\n",
    "ssc.stop(stopSparkContext = False)"
   ]
  },
  {
   "cell_type": "markdown",
   "metadata": {
    "id": "6_BAcmqcmyBr"
   },
   "source": [
    "### Algunas transformaciones importantes\n",
    "\n",
    "Existen un par de transfromaciones a las cuales vale la pena prestarles un poco mas de atencion.\n",
    "\n",
    "#### `UpdateStateByKey`\n",
    "\n",
    "Esta funcion nos permite monitorear alguna cantidad basada en las llaves de los datos `(llave, valor)`. Para hacer esto debemos definir una funcion que nos permita actualizar la cantidad deseada dados los nuevos valores contenidos en el batch entrante. \n",
    "\n",
    "Para hacer un ejemplo primero debemos tranformar los datos del flujo en pares `(llave, valor)`"
   ]
  },
  {
   "cell_type": "code",
   "execution_count": 27,
   "metadata": {
    "colab": {
     "base_uri": "https://localhost:8080/"
    },
    "id": "WDjzkw5HlRsw",
    "outputId": "6866780d-dd83-4289-c676-be97236fe22d"
   },
   "outputs": [
    {
     "name": "stdout",
     "output_type": "stream",
     "text": [
      "-------------------------------------------\n",
      "Time: 2024-05-11 09:07:16\n",
      "-------------------------------------------\n",
      "(3, 1)\n",
      "(3, 1)\n",
      "(3, 1)\n",
      "(6, 1)\n",
      "(9, 1)\n",
      "(9, 1)\n",
      "(8, 1)\n",
      "(3, 1)\n",
      "(8, 1)\n",
      "\n",
      "-------------------------------------------\n",
      "Time: 2024-05-11 09:07:17\n",
      "-------------------------------------------\n",
      "(2, 1)\n",
      "(3, 1)\n",
      "(4, 1)\n",
      "(2, 1)\n",
      "(7, 1)\n",
      "(1, 1)\n",
      "(7, 1)\n",
      "(7, 1)\n",
      "\n",
      "-------------------------------------------\n",
      "Time: 2024-05-11 09:07:18\n",
      "-------------------------------------------\n",
      "(2, 1)\n",
      "(5, 1)\n",
      "(4, 1)\n",
      "(4, 1)\n",
      "(7, 1)\n",
      "(4, 1)\n",
      "(6, 1)\n",
      "(9, 1)\n",
      "(4, 1)\n",
      "\n",
      "-------------------------------------------\n",
      "Time: 2024-05-11 09:07:19\n",
      "-------------------------------------------\n",
      "(9, 1)\n",
      "(3, 1)\n",
      "(5, 1)\n",
      "(7, 1)\n",
      "(4, 1)\n",
      "(2, 1)\n",
      "(1, 1)\n",
      "(1, 1)\n",
      "(8, 1)\n",
      "\n",
      "-------------------------------------------\n",
      "Time: 2024-05-11 09:07:20\n",
      "-------------------------------------------\n",
      "(2, 1)\n",
      "(5, 1)\n",
      "(4, 1)\n",
      "(8, 1)\n",
      "(9, 1)\n",
      "\n"
     ]
    }
   ],
   "source": [
    "# Dado que ejecutamos ssc.stop() debemos crear un nuevo ssc\n",
    "delta_t = 1\n",
    "ssc = StreamingContext(sc, delta_t)\n",
    "\n",
    "# Creamos el flujo de datos artificial\n",
    "flujo_datos = ssc.queueStream(cola_rdds)\n",
    "\n",
    "# Procesamiento\n",
    "pares = flujo_datos.map(lambda x: (x, 1)) \n",
    "\n",
    "pares.pprint()\n",
    "\n",
    "# Inicializamos el analisis del flujo de datos\n",
    "ssc.start()\n",
    "sleep(5)\n",
    "# Terminamos con TODO el proceso\n",
    "ssc.stop(stopSparkContext = False)"
   ]
  },
  {
   "cell_type": "markdown",
   "metadata": {
    "id": "wCYqtYVfuAML"
   },
   "source": [
    "Si quisieramos monitorear cuantas veces aparece cada valor durante el flujo de datos debemos hacer lo siguiente"
   ]
  },
  {
   "cell_type": "code",
   "execution_count": 29,
   "metadata": {
    "colab": {
     "base_uri": "https://localhost:8080/"
    },
    "id": "X03HsLAhtV79",
    "outputId": "0c7fb332-19f0-440e-ee3d-1b971e273758"
   },
   "outputs": [
    {
     "name": "stderr",
     "output_type": "stream",
     "text": [
      "24/05/11 09:08:45 WARN QueueInputDStream: queueStream doesn't support checkpointing\n",
      "24/05/11 09:08:46 WARN QueueInputDStream: queueStream doesn't support checkpointing\n"
     ]
    },
    {
     "name": "stdout",
     "output_type": "stream",
     "text": [
      "-------------------------------------------\n",
      "Time: 2024-05-11 09:08:46\n",
      "-------------------------------------------\n",
      "(8, 2)\n",
      "(9, 2)\n",
      "(3, 4)\n",
      "(6, 1)\n",
      "\n"
     ]
    },
    {
     "name": "stderr",
     "output_type": "stream",
     "text": [
      "24/05/11 09:08:46 WARN QueueInputDStream: queueStream doesn't support checkpointing\n",
      "24/05/11 09:08:47 WARN QueueInputDStream: queueStream doesn't support checkpointing\n"
     ]
    },
    {
     "name": "stdout",
     "output_type": "stream",
     "text": [
      "-------------------------------------------\n",
      "Time: 2024-05-11 09:08:47\n",
      "-------------------------------------------\n",
      "(8, 2)\n",
      "(9, 2)\n",
      "(1, 1)\n",
      "(2, 2)\n",
      "(3, 5)\n",
      "(4, 1)\n",
      "(6, 1)\n",
      "(7, 3)\n",
      "\n"
     ]
    },
    {
     "name": "stderr",
     "output_type": "stream",
     "text": [
      "24/05/11 09:08:47 WARN QueueInputDStream: queueStream doesn't support checkpointing\n",
      "24/05/11 09:08:48 WARN QueueInputDStream: queueStream doesn't support checkpointing\n"
     ]
    },
    {
     "name": "stdout",
     "output_type": "stream",
     "text": [
      "-------------------------------------------\n",
      "Time: 2024-05-11 09:08:48\n",
      "-------------------------------------------\n",
      "(8, 2)\n",
      "(9, 3)\n",
      "(1, 1)\n",
      "(2, 3)\n",
      "(3, 5)\n",
      "(4, 5)\n",
      "(5, 1)\n",
      "(6, 2)\n",
      "(7, 4)\n",
      "\n"
     ]
    },
    {
     "name": "stderr",
     "output_type": "stream",
     "text": [
      "24/05/11 09:08:48 WARN QueueInputDStream: queueStream doesn't support checkpointing\n",
      "24/05/11 09:08:49 WARN QueueInputDStream: queueStream doesn't support checkpointing\n"
     ]
    },
    {
     "name": "stdout",
     "output_type": "stream",
     "text": [
      "-------------------------------------------\n",
      "Time: 2024-05-11 09:08:49\n",
      "-------------------------------------------\n",
      "(8, 3)\n",
      "(9, 4)\n",
      "(1, 3)\n",
      "(2, 4)\n",
      "(3, 6)\n",
      "(4, 6)\n",
      "(5, 2)\n",
      "(6, 2)\n",
      "(7, 5)\n",
      "\n"
     ]
    },
    {
     "name": "stderr",
     "output_type": "stream",
     "text": [
      "24/05/11 09:08:49 WARN QueueInputDStream: queueStream doesn't support checkpointing\n",
      "24/05/11 09:08:50 WARN QueueInputDStream: queueStream doesn't support checkpointing\n"
     ]
    },
    {
     "name": "stdout",
     "output_type": "stream",
     "text": [
      "-------------------------------------------\n",
      "Time: 2024-05-11 09:08:50\n",
      "-------------------------------------------\n",
      "(8, 4)\n",
      "(9, 5)\n",
      "(1, 3)\n",
      "(2, 5)\n",
      "(3, 6)\n",
      "(4, 7)\n",
      "(5, 3)\n",
      "(6, 2)\n",
      "(7, 5)\n",
      "\n"
     ]
    },
    {
     "name": "stderr",
     "output_type": "stream",
     "text": [
      "24/05/11 09:08:50 WARN BatchedWriteAheadLog: BatchedWriteAheadLog Writer queue interrupted.\n"
     ]
    }
   ],
   "source": [
    "# Dado que ejecutamos ssc.stop() debemos crear un nuevo ssc\n",
    "delta_t = 1\n",
    "ssc = StreamingContext(sc, delta_t)\n",
    "# Para usar updateStateByKey es necesario crear un checkpoint\n",
    "ssc.checkpoint(\"checkpoint\")\n",
    "\n",
    "# Funcion que nos dice como actualizar el valor acumulado\n",
    "def actualiza_conteo(valores_nuevos, valor_acumulado):\n",
    "  \n",
    "  # Si aun no ha aparecido la llave\n",
    "    if valor_acumulado is None:\n",
    "        valor_acumulado = 0\n",
    "\n",
    "    # Actualiza (valores_nuevos es una lista)\n",
    "    nuevo_valor = sum(valores_nuevos) + valor_acumulado\n",
    "\n",
    "    return nuevo_valor\n",
    "\n",
    "# Creamos el flujo de datos artificial\n",
    "flujo_datos = ssc.queueStream(cola_rdds)\n",
    "\n",
    "# Procesamiento\n",
    "conteo_datos = flujo_datos.map(lambda x: (x, 1)) \\\n",
    "                          .updateStateByKey(actualiza_conteo)\n",
    "\n",
    "conteo_datos.pprint()       \n",
    "                          \n",
    "# Inicializamos el analisis del flujo de datos\n",
    "ssc.start()\n",
    "sleep(5)\n",
    "# Terminamos con TODO el proceso\n",
    "ssc.stop(stopSparkContext = False)"
   ]
  },
  {
   "cell_type": "markdown",
   "metadata": {
    "id": "UOh0AZwPjH-y"
   },
   "source": [
    "No es el proposito de esta leccion explicar que es un checkpoit, sin em abro el lector curioso puede referirse [aqui](https://spark.apache.org/docs/latest/streaming-programming-guide.html#checkpointing) .\n",
    "\n",
    "\n",
    "#### *5.2.4.2* La operacion `transform`\n",
    "\n",
    "Aunque muchas de las funciones para *RDD*s estan disponibles tambien para *DStream*s, existen sus excepciones. En el caso que quisieramos emplear una funcion disponible para *RDD*s y no para *DStream*s podemos usar la funcion `transform`.\n",
    "\n",
    "Un ejemplo de este tipo de funciones es la funcion `join()`, podemos aplicar esta funcion sobre los batches de un *DStream* de la siguiente manera"
   ]
  },
  {
   "cell_type": "code",
   "execution_count": 30,
   "metadata": {
    "colab": {
     "base_uri": "https://localhost:8080/"
    },
    "id": "MqlE9dg36Yzr",
    "outputId": "1c8a9ebf-8dca-45b7-fd41-41b1f0087c86"
   },
   "outputs": [
    {
     "name": "stdout",
     "output_type": "stream",
     "text": [
      "-------------------------------------------\n",
      "Time: 2024-05-11 09:09:03\n",
      "-------------------------------------------\n",
      "\n",
      "-------------------------------------------\n",
      "Time: 2024-05-11 09:09:04\n",
      "-------------------------------------------\n",
      "(2, (1, 1))\n",
      "(2, (1, 1))\n",
      "\n",
      "-------------------------------------------\n",
      "Time: 2024-05-11 09:09:05\n",
      "-------------------------------------------\n",
      "(2, (1, 1))\n",
      "(5, (1, 9))\n",
      "\n",
      "-------------------------------------------\n",
      "Time: 2024-05-11 09:09:06\n",
      "-------------------------------------------\n",
      "(2, (1, 1))\n",
      "(5, (1, 9))\n",
      "\n",
      "-------------------------------------------\n",
      "Time: 2024-05-11 09:09:07\n",
      "-------------------------------------------\n",
      "(2, (1, 1))\n",
      "(5, (1, 9))\n",
      "\n"
     ]
    }
   ],
   "source": [
    "# Dado que ejecutamos ssc.stop() debemos crear un nuevo ssc\n",
    "delta_t = 1\n",
    "ssc = StreamingContext(sc, delta_t)\n",
    "\n",
    "# Creamos el flujo de datos artificial\n",
    "flujo_datos = ssc.queueStream(cola_rdds)\n",
    "\n",
    "# Creamos datos para ejemplo con .join\n",
    "otros_datos = sc.parallelize([(2, 1), (5, 9)])\n",
    "\n",
    "# Procesamiento\n",
    "nuevo_flujo = flujo_datos.transform(lambda rdd: rdd.map(lambda x: (x, 1)).join(otros_datos))\n",
    "\n",
    "nuevo_flujo.pprint()       \n",
    "                          \n",
    "# Inicializamos el analisis del flujo de datos\n",
    "ssc.start()\n",
    "sleep(5)\n",
    "# Terminamos con TODO el proceso\n",
    "ssc.stop(stopSparkContext = False)"
   ]
  },
  {
   "cell_type": "markdown",
   "metadata": {
    "id": "27swa0Pp_w2A"
   },
   "source": [
    " \n",
    "\n",
    "\n"
   ]
  },
  {
   "cell_type": "markdown",
   "metadata": {
    "id": "h7KuOhTCL2wh"
   },
   "source": [
    "**NOTA: Los DStreams si cuentan con una funcion .join(), sin embargo su funcionalidad es diferente a la presentada en este ejemplo. Es decir, no podemos reproducir estos resultados con dicha funcion.**\n",
    "\n",
    "#### Las opreaciones con ventanas\n",
    "\n",
    "Las funciones con ventanas nos permite efectuar operaciones por ventanas que se deslizan a traves del en el flujo de datos. Cuando la ventana pasa a traves del flujo se genera otro flujo cuyos *RDD*s son resultado de la combinacion de los *RDD*s que caen dentro de las ventanas.\n",
    "\n",
    "Para usar estas funciones es necesario especificar dos hiperparametros:\n",
    "\n",
    "* El tamaño de la ventana: La duracion en el tiempo de la ventana. \n",
    "* El tamaño del deslizamiento: Intervalo en el cual la opreacion con ventana sera ejecutada.\n",
    "\n",
    "Ambos parametros deben ser multiplos del $\\Delta t$ con el cual fue creado el *DStream* original.\n",
    "\n",
    "\n",
    "\n",
    "Por ejemplo, en la siguiente figuar $\\Delta t = 1$, el tamaño de la ventana es 3 y el tamaño del deslizamiento es 2.\n",
    "\n",
    "![streaming-dstream-window.png](data:image/png;base64,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)\n",
    "\n",
    "Por ejemplo, en nuestro flujo de juguete, podemos querer calcular la suma de todos elementos en una ventana de tamaño 4 y tamaño de deslizamiento 1"
   ]
  },
  {
   "cell_type": "code",
   "execution_count": 31,
   "metadata": {
    "colab": {
     "base_uri": "https://localhost:8080/"
    },
    "id": "nh2vsofVyt8K",
    "outputId": "140e2780-a2fe-4bd7-9900-354da5d97708"
   },
   "outputs": [
    {
     "name": "stdout",
     "output_type": "stream",
     "text": [
      "-------------------------------------------\n",
      "Time: 2024-05-11 09:14:03\n",
      "-------------------------------------------\n",
      "52\n",
      "\n",
      "-------------------------------------------\n",
      "Time: 2024-05-11 09:14:04\n",
      "-------------------------------------------\n",
      "85\n",
      "\n",
      "-------------------------------------------\n",
      "Time: 2024-05-11 09:14:05\n",
      "-------------------------------------------\n",
      "130\n",
      "\n",
      "-------------------------------------------\n",
      "Time: 2024-05-11 09:14:06\n",
      "-------------------------------------------\n",
      "170\n",
      "\n",
      "-------------------------------------------\n",
      "Time: 2024-05-11 09:14:07\n",
      "-------------------------------------------\n",
      "146\n",
      "\n"
     ]
    }
   ],
   "source": [
    "# Dado que ejecutamos ssc.stop() debemos crear un nuevo ssc\n",
    "delta_t = 1\n",
    "ssc = StreamingContext(sc, delta_t)\n",
    "\n",
    "# Creamos el flujo de datos artificial\n",
    "flujo_datos = ssc.queueStream(cola_rdds)\n",
    "\n",
    "# Procesamiento\n",
    "conteo_ventana = flujo_datos.reduceByWindow(lambda x, y: x + y, lambda x, y: x - y, 4, 1)\n",
    "conteo_ventana.pprint()\n",
    "                          \n",
    "# Inicializamos el analisis del flujo de datos\n",
    "ssc.start()\n",
    "sleep(5)\n",
    "# Terminamos con TODO el proceso\n",
    "ssc.stop(stopSparkContext = False)"
   ]
  },
  {
   "cell_type": "markdown",
   "metadata": {
    "id": "08k8RhWpdal1"
   },
   "source": [
    "Para conocer mas funciones con ventanas por favor dirijase [aqui](https://spark.apache.org/docs/latest/api/python/reference/pyspark.streaming.html)\n",
    "\n",
    "## Un ejemplo *mas real*\n",
    "\n",
    "Simularemos que recibimos los dialogos de Rick y Morty en un flujo de datos. El siguiente codigo solo extrae las lineas y las junta en una lista"
   ]
  },
  {
   "cell_type": "code",
   "execution_count": 32,
   "metadata": {
    "id": "Ym_ynupXeb5J"
   },
   "outputs": [],
   "source": [
    "# Lee el texto\n",
    "datos_rym_crudos = open('content/RickAndMortyScripts.csv', 'r')\n",
    "\n",
    "datos_rym_lista = []\n",
    "\n",
    "for linea in datos_rym_crudos:\n",
    "  # Separa por las comas\n",
    "  linea = linea.split(',')\n",
    "  # Toma el dialogo y quita el salto de linea\n",
    "  linea = linea[-1].replace('\\n', '')\n",
    "  # Guarda el dialogo\n",
    "  datos_rym_lista.append(linea)\n",
    "\n",
    "# Elimina el nombre de la columna\n",
    "v = datos_rym_lista[1:]"
   ]
  },
  {
   "cell_type": "markdown",
   "metadata": {
    "id": "KimSVV8CjxCj"
   },
   "source": [
    "Crea batches con los datos\n"
   ]
  },
  {
   "cell_type": "code",
   "execution_count": 33,
   "metadata": {
    "id": "x50T2rimNPuQ"
   },
   "outputs": [],
   "source": [
    "# Para poder reproducir los datos\n",
    "np.random.seed(182)\n",
    "\n",
    "batches_rym = []\n",
    "\n",
    "while len(datos_rym_lista) > 100:\n",
    "    batch_size = np.random.randint(50, 100)\n",
    "    batch = datos_rym_lista[:batch_size]\n",
    "    datos_rym_lista = datos_rym_lista[batch_size:]\n",
    "    batches_rym.append(batch)\n",
    "batches_rym.append(datos_rym_lista)"
   ]
  },
  {
   "cell_type": "markdown",
   "metadata": {
    "id": "Z0rNOgnHlRFW"
   },
   "source": [
    "Si tuvieramos un flujo de datos de texto y tuvieramos que limpiarlo para poder analizarlo, deberiamos hacer lo siguiente"
   ]
  },
  {
   "cell_type": "code",
   "execution_count": 34,
   "metadata": {
    "colab": {
     "base_uri": "https://localhost:8080/"
    },
    "id": "sr_TDlVpeKuM",
    "outputId": "4c7e6afe-66fc-4a0e-db57-084c1c072df9"
   },
   "outputs": [
    {
     "name": "stdout",
     "output_type": "stream",
     "text": [
      "-------------------------------------------\n",
      "Time: 2024-05-11 09:20:20\n",
      "-------------------------------------------\n",
      "line\n",
      "morty\n",
      "...\n",
      "\n",
      "-------------------------------------------\n",
      "Time: 2024-05-11 09:20:21\n",
      "-------------------------------------------\n",
      "\n",
      "jessica\n",
      "...\n",
      "\n",
      "-------------------------------------------\n",
      "Time: 2024-05-11 09:20:22\n",
      "-------------------------------------------\n",
      "\n",
      "relation\n",
      "...\n",
      "\n",
      "-------------------------------------------\n",
      "Time: 2024-05-11 09:20:23\n",
      "-------------------------------------------\n",
      "\n",
      "got\n",
      "...\n",
      "\n",
      "-------------------------------------------\n",
      "Time: 2024-05-11 09:20:24\n",
      "-------------------------------------------\n",
      "talking\n",
      "inception\n",
      "...\n",
      "\n",
      "-------------------------------------------\n",
      "Time: 2024-05-11 09:20:25\n",
      "-------------------------------------------\n",
      "\n",
      "morty\n",
      "...\n",
      "\n",
      "-------------------------------------------\n",
      "Time: 2024-05-11 09:20:26\n",
      "-------------------------------------------\n",
      "\n",
      "moment\n",
      "...\n",
      "\n",
      "-------------------------------------------\n",
      "Time: 2024-05-11 09:20:27\n",
      "-------------------------------------------\n",
      "yess\n",
      "gonna\n",
      "...\n",
      "\n",
      "-------------------------------------------\n",
      "Time: 2024-05-11 09:20:28\n",
      "-------------------------------------------\n",
      "shut\n",
      "whoa\n",
      "...\n",
      "\n",
      "-------------------------------------------\n",
      "Time: 2024-05-11 09:20:29\n",
      "-------------------------------------------\n",
      "saving\n",
      "lives\n",
      "...\n",
      "\n"
     ]
    }
   ],
   "source": [
    "# Dado que ejecutamos ssc.stop() debemos crear un nuevo ssc\n",
    "delta_t = 1\n",
    "ssc = StreamingContext(sc, delta_t)\n",
    "\n",
    "# Creamos el flujo de datos artificial\n",
    "flujo_rym = ssc.queueStream(batches_rym)\n",
    "\n",
    "# Definimos funcion para quitar palabras vacias\n",
    "palabras_vacias = nltk.corpus.stopwords.words('english')\n",
    "\n",
    "def quita_palabras_vacias(texto):\n",
    "    texto_limpio = [ palabra for palabra in texto if palabra not in palabras_vacias ]\n",
    "    return texto_limpio\n",
    "\n",
    "# Limpieza de datos\n",
    "flujo_limpio = flujo_rym.map(lambda dialogo: dialogo.lower()) \\\n",
    "                        .map(lambda dialogo: dialogo.translate(str.maketrans('', '', string.punctuation))) \\\n",
    "                        .map(lambda dialogo: dialogo.split(' ')) \\\n",
    "                        .map(lambda palabra: quita_palabras_vacias(palabra)) \\\n",
    "                        .flatMap(lambda x: x)\n",
    "\n",
    "# Imprimimos solo los primeros dos elementos\n",
    "flujo_limpio.pprint(2)\n",
    "                          \n",
    "# Inicializamos el analisis del flujo de datos\n",
    "ssc.start()\n",
    "sleep(10)\n",
    "# Terminamos con TODO el proceso\n",
    "ssc.stop(stopSparkContext = False)"
   ]
  },
  {
   "cell_type": "markdown",
   "metadata": {
    "id": "fvd3J1HgqH9W"
   },
   "source": [
    "## Ejercicio\n",
    "\n",
    "1. Contar cuantas veces aparecen las palabras *rick* y *morty* de forma acumulada en el flujo.\n",
    "\n",
    "2. Contar cuantas veces aparecen las palabras *rick* y *morty* en ventanas de 30 segundos, en intervalos de 4 segundos."
   ]
  },
  {
   "cell_type": "code",
   "execution_count": null,
   "metadata": {},
   "outputs": [],
   "source": []
  }
 ],
 "metadata": {
  "colab": {
   "authorship_tag": "ABX9TyPGhhkiuezzF+5gwJqxur0p",
   "collapsed_sections": [],
   "include_colab_link": true,
   "mount_file_id": "1kc-smZeq6Rz9IBfi_enzyn9194CIeWNv",
   "name": "5_streaming.ipynb",
   "provenance": [],
   "toc_visible": true
  },
  "kernelspec": {
   "display_name": "Python 3 (ipykernel)",
   "language": "python",
   "name": "python3"
  },
  "language_info": {
   "codemirror_mode": {
    "name": "ipython",
    "version": 3
   },
   "file_extension": ".py",
   "mimetype": "text/x-python",
   "name": "python",
   "nbconvert_exporter": "python",
   "pygments_lexer": "ipython3",
   "version": "3.8.10"
  }
 },
 "nbformat": 4,
 "nbformat_minor": 1
}
