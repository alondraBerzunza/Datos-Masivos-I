{
 "cells": [
  {
   "cell_type": "markdown",
   "id": "2dcbc904",
   "metadata": {},
   "source": [
    "## K-medias con PySpark"
   ]
  },
  {
   "cell_type": "markdown",
   "id": "f5abbd93",
   "metadata": {},
   "source": [
    "En este notebook haremos una revisión de como usar la técnica de K-medias para tareas de agrupamiento (clustering)."
   ]
  },
  {
   "cell_type": "markdown",
   "id": "ddd6f34b",
   "metadata": {},
   "source": [
    "Supongamos que tenemos una coleccion de puntos\n",
    "que viven en un espacio\n",
    "\n",
    "-dimensional. Dichos puntos no están asociados a ningun tipo de clase o algo parecido. Sin embargo, nosotros podríamos estar interesados en encontrar elementos similares entre si. Los algoritmos de agrupamiento responden a esta necesidad, permitiéndonos crear grupos de objetos, de tal forma que los objetos dentro de un mismo grupo presentan cierto grado de similaridad.\n",
    "\n",
    "K-medias (K-means en ingles) es una tecnica de agrupamiento, de las muchas que existen. Conceptualmente hablando, un paso difícil de difinir es como medir las similaridad entre objetos. En el caso particular de nuestro conjunto de puntos, la idea de que los puntos similares son los que están cerca entre si aparece de forma natural. K-medias hace uso justo esta idea, definiendo como medida de similaridad la distancia euclidiana\n",
    "La idea general detrás K-medias es la de encontrar puntos\n",
    "que sirvan para representar grupos de elementos, de forma especifica son los promedios (por eso la palabra medias) de todos los puntos que encuentran en un mismo grupo. Cada punto puede ser asignado unicamente a un grupo, se le asigna al grupo representado por el\n",
    "\n",
    "más cercano.\n",
    "\n",
    "De forma algorítmica, y muy a grosso modo, la técnica de K-medias puede describirse de la siguiente manera\n",
    "\n",
    "    Inicializar K puntos\n",
    "\n",
    "de forma aleatoria.\n",
    "Encontrar el\n",
    "que es mas cercano a cada\n",
    ", lo cual asignara automaticamente a cada\n",
    "un grupo.\n",
    "Recalcule las medias\n",
    "\n",
    "    usando los grupos encontrados en el paso 2.\n",
    "    Regrese al paso 2.\n",
    "\n",
    "Una descripción más detallada de la técnica de K-medias puede encontrarse en la sección 6.1 del libro A First Course in Machine Learning de Rogers y Girolami"
   ]
  },
  {
   "cell_type": "code",
   "execution_count": 1,
   "id": "50a92ba5",
   "metadata": {},
   "outputs": [],
   "source": [
    "import os\n",
    "os.environ[\"JAVA_HOME\"] = \"/usr/lib/jvm/java-8-openjdk-amd64\""
   ]
  },
  {
   "cell_type": "code",
   "execution_count": 2,
   "id": "3d9daa0f",
   "metadata": {},
   "outputs": [
    {
     "name": "stderr",
     "output_type": "stream",
     "text": [
      "25/03/01 08:33:06 WARN Utils: Your hostname, vania-Latitude-7400 resolves to a loopback address: 127.0.1.1; using 10.153.221.214 instead (on interface wlo1)\n",
      "25/03/01 08:33:06 WARN Utils: Set SPARK_LOCAL_IP if you need to bind to another address\n",
      "Using Spark's default log4j profile: org/apache/spark/log4j-defaults.properties\n",
      "Setting default log level to \"WARN\".\n",
      "To adjust logging level use sc.setLogLevel(newLevel). For SparkR, use setLogLevel(newLevel).\n",
      "25/03/01 08:33:07 WARN NativeCodeLoader: Unable to load native-hadoop library for your platform... using builtin-java classes where applicable\n"
     ]
    }
   ],
   "source": [
    "import pyspark\n",
    "# Carga ufnciones extra\n",
    "from pyspark.sql import SparkSession\n",
    "spark = SparkSession.builder.appName('k_medias').getOrCreate()"
   ]
  },
  {
   "cell_type": "markdown",
   "id": "fd913a44",
   "metadata": {},
   "source": [
    "Además de PySpark usaremos:"
   ]
  },
  {
   "cell_type": "code",
   "execution_count": 3,
   "id": "92a68efb",
   "metadata": {},
   "outputs": [],
   "source": [
    "import pandas as pd\n",
    "import numpy as np\n",
    "import matplotlib.pyplot as plt\n",
    "from sklearn.datasets import make_blobs\n",
    "from sklearn.metrics import confusion_matrix\n",
    "# Para usar K-medias con pyspark\n",
    "from pyspark.ml.clustering import KMeans, BisectingKMeans, GaussianMixture\n",
    "from pyspark.ml.linalg import Vectors\n",
    "from pyspark.sql import *\n",
    "from pyspark.sql.types import *\n",
    "from pyspark.sql.functions import * "
   ]
  },
  {
   "cell_type": "markdown",
   "id": "e127969b",
   "metadata": {},
   "source": [
    "### Datos"
   ]
  },
  {
   "cell_type": "markdown",
   "id": "df7be82d",
   "metadata": {},
   "source": [
    "Para poder graficar los guardamos en un DF de pandas"
   ]
  },
  {
   "cell_type": "code",
   "execution_count": 4,
   "id": "1f5c8f83",
   "metadata": {},
   "outputs": [],
   "source": [
    "puntos, grupos_real = make_blobs(n_samples    = 100, \n",
    "                                 centers      = 2, \n",
    "                                 n_features   = 2, \n",
    "                                 random_state = 12) \n",
    "\n",
    "pdf_kmedias = pd.DataFrame(puntos, columns=['x','y'])"
   ]
  },
  {
   "cell_type": "markdown",
   "id": "010f829d",
   "metadata": {},
   "source": [
    "grafiquemos los datos"
   ]
  },
  {
   "cell_type": "code",
   "execution_count": 5,
   "id": "10085e82",
   "metadata": {},
   "outputs": [
    {
     "data": {
      "text/plain": [
       "<matplotlib.collections.PathCollection at 0x7f5ec99e7cd0>"
      ]
     },
     "execution_count": 5,
     "metadata": {},
     "output_type": "execute_result"
    },
    {
     "data": {
      "image/png": "[encoded data removed]",
      "text/plain": [
       "<Figure size 432x288 with 1 Axes>"
      ]
     },
     "metadata": {
      "needs_background": "light"
     },
     "output_type": "display_data"
    }
   ],
   "source": [
    "plt.scatter(pdf_kmedias['x'], pdf_kmedias['y'], c = 'black')"
   ]
  },
  {
   "cell_type": "markdown",
   "id": "b6d4283d",
   "metadata": {},
   "source": [
    "### Preparar los datos"
   ]
  },
  {
   "cell_type": "markdown",
   "id": "cd946bf4",
   "metadata": {},
   "source": [
    "Para poder usar los modelos de pyspark.ml debemos reformatear los datos de la siguiente forma"
   ]
  },
  {
   "cell_type": "code",
   "execution_count": 6,
   "id": "9cb12830",
   "metadata": {},
   "outputs": [
    {
     "name": "stderr",
     "output_type": "stream",
     "text": [
      "                                                                                \r"
     ]
    },
    {
     "name": "stdout",
     "output_type": "stream",
     "text": [
      "+----------------------------------------+\n",
      "|variables                               |\n",
      "+----------------------------------------+\n",
      "|[-10.064159673950533,5.3361298235882115]|\n",
      "|[-5.93934529638521,0.2932430254612975]  |\n",
      "|[-4.282810462818456,0.03337804988534199]|\n",
      "|[-3.9682695610300134,0.6462729900646167]|\n",
      "|[-5.580911813734784,5.119659218324231]  |\n",
      "+----------------------------------------+\n",
      "only showing top 5 rows\n",
      "\n"
     ]
    },
    {
     "name": "stderr",
     "output_type": "stream",
     "text": [
      "\r",
      "[Stage 1:>                                                          (0 + 1) / 1]\r",
      "\r",
      "                                                                                \r"
     ]
    }
   ],
   "source": [
    "# Da formato para poder usar datos en modelos de pyspark.ml\n",
    "\n",
    "df_brutos = spark.createDataFrame(pdf_kmedias)\n",
    "\n",
    "df_kmedias = df_brutos.withColumn('variables', array(df_brutos.columns)) \\\n",
    "                      .rdd.map(lambda renglon: Vectors.dense(renglon.variables))\n",
    "\n",
    "df_kmedias = spark.createDataFrame(df_kmedias.map(Row), ['variables'])\n",
    "\n",
    "df_kmedias.show(5, truncate = False)"
   ]
  },
  {
   "cell_type": "markdown",
   "id": "1ffd7599",
   "metadata": {},
   "source": [
    "### Entrenar modelo"
   ]
  },
  {
   "cell_type": "markdown",
   "id": "59a40190",
   "metadata": {},
   "source": [
    "A ojo de buen cubero se pueden distinguir dos grupos. Usemos K-medias para encontrar estos grupos. Entrenemos al modelo"
   ]
  },
  {
   "cell_type": "code",
   "execution_count": 7,
   "id": "5a46a87a",
   "metadata": {},
   "outputs": [
    {
     "name": "stderr",
     "output_type": "stream",
     "text": [
      "                                                                                \r"
     ]
    }
   ],
   "source": [
    "# k es el numero de grupos (clusters)\n",
    "kmedias = KMeans(k = 2, seed = 1, featuresCol = 'variables')\n",
    "modelo = kmedias.fit(df_kmedias)"
   ]
  },
  {
   "cell_type": "code",
   "execution_count": 8,
   "id": "054f0dec",
   "metadata": {},
   "outputs": [
    {
     "data": {
      "text/plain": [
       "KMeansModel: uid=KMeans_9d9b700b9ebd, k=2, distanceMeasure=euclidean, numFeatures=2"
      ]
     },
     "execution_count": 8,
     "metadata": {},
     "output_type": "execute_result"
    }
   ],
   "source": [
    "modelo"
   ]
  },
  {
   "cell_type": "markdown",
   "id": "d0775ed0",
   "metadata": {},
   "source": [
    "### Hacer predicciones"
   ]
  },
  {
   "cell_type": "code",
   "execution_count": 9,
   "id": "2206b969",
   "metadata": {},
   "outputs": [],
   "source": [
    "grupos_pred = modelo.transform(df_kmedias)"
   ]
  },
  {
   "cell_type": "markdown",
   "id": "763891c6",
   "metadata": {},
   "source": [
    "Pasemoslo a un DataFrame de pandas"
   ]
  },
  {
   "cell_type": "code",
   "execution_count": 10,
   "id": "261f26b5",
   "metadata": {},
   "outputs": [
    {
     "data": {
      "text/plain": [
       "[Row(variables=DenseVector([-10.0642, 5.3361])),\n",
       " Row(variables=DenseVector([-5.9393, 0.2932])),\n",
       " Row(variables=DenseVector([-4.2828, 0.0334])),\n",
       " Row(variables=DenseVector([-3.9683, 0.6463])),\n",
       " Row(variables=DenseVector([-5.5809, 5.1197]))]"
      ]
     },
     "execution_count": 10,
     "metadata": {},
     "output_type": "execute_result"
    }
   ],
   "source": [
    "df_kmedias.head(5)"
   ]
  },
  {
   "cell_type": "code",
   "execution_count": 11,
   "id": "8f9b1957",
   "metadata": {},
   "outputs": [
    {
     "name": "stderr",
     "output_type": "stream",
     "text": [
      "\r",
      "[Stage 18:===========================================>              (6 + 2) / 8]\r",
      "\r",
      "                                                                                \r"
     ]
    },
    {
     "data": {
      "text/plain": [
       "0    0\n",
       "1    1\n",
       "2    1\n",
       "3    1\n",
       "4    0\n",
       "Name: prediction, dtype: int32"
      ]
     },
     "execution_count": 11,
     "metadata": {},
     "output_type": "execute_result"
    }
   ],
   "source": [
    "grupos_pred = grupos_pred.toPandas()\n",
    "grupos_pred = grupos_pred['prediction']\n",
    "grupos_pred[:5]"
   ]
  },
  {
   "cell_type": "markdown",
   "id": "8476e1af",
   "metadata": {},
   "source": [
    "Cambiamos a colores para graficar"
   ]
  },
  {
   "cell_type": "code",
   "execution_count": 12,
   "id": "a42cccf0",
   "metadata": {},
   "outputs": [],
   "source": [
    "grupos_colores = []\n",
    "\n",
    "for g in grupos_pred:\n",
    "    if g == 1:\n",
    "        grupos_colores.append('blue')\n",
    "    else:\n",
    "        grupos_colores.append('red')"
   ]
  },
  {
   "cell_type": "code",
   "execution_count": 13,
   "id": "adb9adc7",
   "metadata": {},
   "outputs": [
    {
     "data": {
      "text/plain": [
       "<matplotlib.collections.PathCollection at 0x7f5ec40222e0>"
      ]
     },
     "execution_count": 13,
     "metadata": {},
     "output_type": "execute_result"
    },
    {
     "data": {
      "image/png": "[encoded data removed]",
      "text/plain": [
       "<Figure size 432x288 with 1 Axes>"
      ]
     },
     "metadata": {
      "needs_background": "light"
     },
     "output_type": "display_data"
    }
   ],
   "source": [
    "plt.scatter(pdf_kmedias['x'], pdf_kmedias['y'], c = grupos_colores)"
   ]
  },
  {
   "cell_type": "markdown",
   "id": "17861dc2",
   "metadata": {},
   "source": [
    "### Evaluar modelo"
   ]
  },
  {
   "cell_type": "markdown",
   "id": "605f8387",
   "metadata": {},
   "source": [
    "Podemos evaluar el modelo calculando la matriz de confusión"
   ]
  },
  {
   "cell_type": "code",
   "execution_count": 14,
   "id": "d9fd16f8",
   "metadata": {},
   "outputs": [
    {
     "data": {
      "text/plain": [
       "0     0\n",
       "1     1\n",
       "2     1\n",
       "3     1\n",
       "4     0\n",
       "     ..\n",
       "95    0\n",
       "96    1\n",
       "97    1\n",
       "98    0\n",
       "99    0\n",
       "Name: prediction, Length: 100, dtype: int32"
      ]
     },
     "execution_count": 14,
     "metadata": {},
     "output_type": "execute_result"
    }
   ],
   "source": [
    "grupos_pred"
   ]
  },
  {
   "cell_type": "code",
   "execution_count": 15,
   "id": "12fb287c",
   "metadata": {},
   "outputs": [
    {
     "data": {
      "text/plain": [
       "array([0, 1, 1, 1, 0, 0, 1, 1, 0, 0, 0, 1, 0, 0, 1, 0, 0, 0, 0, 0, 1, 0,\n",
       "       1, 1, 1, 1, 1, 0, 1, 1, 1, 0, 0, 1, 0, 0, 1, 1, 1, 1, 1, 1, 1, 0,\n",
       "       1, 1, 0, 0, 0, 0, 0, 0, 1, 1, 1, 0, 0, 0, 1, 1, 1, 0, 0, 1, 0, 1,\n",
       "       0, 1, 1, 0, 0, 0, 0, 1, 0, 0, 1, 0, 0, 0, 1, 1, 0, 1, 1, 1, 1, 0,\n",
       "       1, 1, 0, 1, 0, 0, 1, 0, 1, 1, 0, 0])"
      ]
     },
     "execution_count": 15,
     "metadata": {},
     "output_type": "execute_result"
    }
   ],
   "source": [
    "grupos_real"
   ]
  },
  {
   "cell_type": "code",
   "execution_count": 16,
   "id": "b2cadff9",
   "metadata": {},
   "outputs": [
    {
     "data": {
      "image/png": "[encoded data removed]",
      "text/plain": [
       "<Figure size 432x288 with 1 Axes>"
      ]
     },
     "metadata": {
      "needs_background": "light"
     },
     "output_type": "display_data"
    }
   ],
   "source": [
    "mat_cnf = confusion_matrix(grupos_real, grupos_pred)\n",
    "plt.imshow(mat_cnf, cmap='hot', interpolation='nearest')\n",
    "plt.show()"
   ]
  },
  {
   "cell_type": "markdown",
   "id": "630f739e",
   "metadata": {},
   "source": [
    "Notemos que probablemente el grupo real 1 hace referencia al grupo 0 predecido, debido a que no asignamos explícitamente etiquetas a los grupos, el comportamiento ideal sera cuando la mayor cantidad de clasificaciones aparezcan en cualquiera de las dos diagonales."
   ]
  },
  {
   "cell_type": "markdown",
   "id": "f84d60e7",
   "metadata": {},
   "source": [
    "### Otras formas de agrupar"
   ]
  },
  {
   "cell_type": "markdown",
   "id": "487ba294",
   "metadata": {},
   "source": [
    "A continuación presentamos más formas de realizar la tarea de agrupamiento en PySpark, las explicaciones de cada una de estas técnicas escapan a los propósitos de este notebook."
   ]
  },
  {
   "cell_type": "markdown",
   "id": "4ea40df2",
   "metadata": {},
   "source": [
    "#### K-medias con distancia coseno"
   ]
  },
  {
   "cell_type": "code",
   "execution_count": 17,
   "id": "339911b9",
   "metadata": {},
   "outputs": [
    {
     "name": "stderr",
     "output_type": "stream",
     "text": [
      "                                                                                \r"
     ]
    },
    {
     "data": {
      "image/png": "[encoded data removed]",
      "text/plain": [
       "<Figure size 432x288 with 1 Axes>"
      ]
     },
     "metadata": {
      "needs_background": "light"
     },
     "output_type": "display_data"
    }
   ],
   "source": [
    "kmedias = KMeans(k = 2, seed = 1, featuresCol = 'variables', distanceMeasure = 'cosine')\n",
    "modelo = kmedias.fit(df_kmedias)\n",
    "grupos_pred = modelo.transform(df_kmedias)\n",
    "grupos_pred = grupos_pred.toPandas()\n",
    "grupos_pred = grupos_pred['prediction']\n",
    "grupos_pred[:5]\n",
    "\n",
    "mat_cnf = confusion_matrix(grupos_real, grupos_pred)\n",
    "plt.imshow(mat_cnf, cmap='hot', interpolation='nearest')\n",
    "plt.show()"
   ]
  },
  {
   "cell_type": "markdown",
   "id": "47fa9198",
   "metadata": {},
   "source": [
    "#### Gaussian mixture models"
   ]
  },
  {
   "cell_type": "code",
   "execution_count": 18,
   "id": "8a36eeda",
   "metadata": {},
   "outputs": [
    {
     "name": "stderr",
     "output_type": "stream",
     "text": [
      "25/03/01 08:54:26 WARN LAPACK: Failed to load implementation from: com.github.fommil.netlib.NativeSystemLAPACK\n",
      "25/03/01 08:54:26 WARN LAPACK: Failed to load implementation from: com.github.fommil.netlib.NativeRefLAPACK\n",
      "25/03/01 08:54:27 WARN BLAS: Failed to load implementation from: com.github.fommil.netlib.NativeSystemBLAS\n",
      "25/03/01 08:54:27 WARN BLAS: Failed to load implementation from: com.github.fommil.netlib.NativeRefBLAS\n",
      "25/03/01 08:54:27 WARN InstanceBuilder$NativeBLAS: Failed to load implementation from:dev.ludovic.netlib.blas.JNIBLAS\n",
      "25/03/01 08:54:27 WARN InstanceBuilder$NativeBLAS: Failed to load implementation from:dev.ludovic.netlib.blas.ForeignLinkerBLAS\n"
     ]
    },
    {
     "data": {
      "image/png": "[encoded data removed]",
      "text/plain": [
       "<Figure size 432x288 with 1 Axes>"
      ]
     },
     "metadata": {
      "needs_background": "light"
     },
     "output_type": "display_data"
    }
   ],
   "source": [
    "kmedias = GaussianMixture(k = 2, seed = 1, featuresCol = 'variables')\n",
    "modelo = kmedias.fit(df_kmedias)\n",
    "grupos_pred = modelo.transform(df_kmedias)\n",
    "grupos_pred = grupos_pred.toPandas()\n",
    "grupos_pred = grupos_pred['prediction']\n",
    "grupos_pred[:5]\n",
    "\n",
    "mat_cnf = confusion_matrix(grupos_real, grupos_pred)\n",
    "plt.imshow(mat_cnf, cmap='hot', interpolation='nearest')\n",
    "plt.show()"
   ]
  },
  {
   "cell_type": "markdown",
   "id": "714a85dd",
   "metadata": {},
   "source": [
    "### Bisecting K-medias"
   ]
  },
  {
   "cell_type": "code",
   "execution_count": 19,
   "id": "29a8e547",
   "metadata": {},
   "outputs": [
    {
     "name": "stderr",
     "output_type": "stream",
     "text": [
      "                                                                                \r"
     ]
    },
    {
     "data": {
      "image/png": "[encoded data removed]",
      "text/plain": [
       "<Figure size 432x288 with 1 Axes>"
      ]
     },
     "metadata": {
      "needs_background": "light"
     },
     "output_type": "display_data"
    }
   ],
   "source": [
    "kmedias = BisectingKMeans(k = 2, seed = 1, featuresCol = 'variables')\n",
    "modelo = kmedias.fit(df_kmedias)\n",
    "grupos_pred = modelo.transform(df_kmedias)\n",
    "grupos_pred = grupos_pred.toPandas()\n",
    "grupos_pred = grupos_pred['prediction']\n",
    "grupos_pred[:5]\n",
    "\n",
    "mat_cnf = confusion_matrix(grupos_real, grupos_pred)\n",
    "plt.imshow(mat_cnf, cmap='hot', interpolation='nearest')\n",
    "plt.show()"
   ]
  },
  {
   "cell_type": "markdown",
   "id": "eb45d324",
   "metadata": {},
   "source": [
    "### Práctica III (Individual)"
   ]
  },
  {
   "cell_type": "markdown",
   "id": "a56c064a",
   "metadata": {},
   "source": [
    "Cree su propia base de datos cambiando el sus hiperparámetros de la función make_blobs. Grafique (si es posible) sus datos.\n",
    "Emplee todos las técnicas de agrupamiento y reporte los resultados."
   ]
  },
  {
   "cell_type": "markdown",
   "id": "eb1959f1",
   "metadata": {},
   "source": [
    "Basado en los apuntes del Dr. Gibran Fuentes"
   ]
  },
  {
   "cell_type": "code",
   "execution_count": null,
   "id": "2232c53c",
   "metadata": {},
   "outputs": [],
   "source": []
  }
 ],
 "metadata": {
  "kernelspec": {
   "display_name": "Python 3 (ipykernel)",
   "language": "python",
   "name": "python3"
  },
  "language_info": {
   "codemirror_mode": {
    "name": "ipython",
    "version": 3
   },
   "file_extension": ".py",
   "mimetype": "text/x-python",
   "name": "python",
   "nbconvert_exporter": "python",
   "pygments_lexer": "ipython3",
   "version": "3.8.10"
  }
 },
 "nbformat": 4,
 "nbformat_minor": 5
}
