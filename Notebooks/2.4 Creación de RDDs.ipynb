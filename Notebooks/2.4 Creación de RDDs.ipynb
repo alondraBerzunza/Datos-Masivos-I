{
 "cells": [
  {
   "cell_type": "markdown",
   "id": "8a6ef518",
   "metadata": {},
   "source": [
    "## Creación de RDDs"
   ]
  },
  {
   "cell_type": "markdown",
   "id": "b2361fe3",
   "metadata": {},
   "source": [
    "### Usando SparkContext"
   ]
  },
  {
   "cell_type": "markdown",
   "id": "952aa47b",
   "metadata": {},
   "source": [
    "El método sparkContext.parallelize nos permite crear un RDD a partir de una lista o una tupla"
   ]
  },
  {
   "cell_type": "code",
   "execution_count": 2,
   "id": "5a4429fb",
   "metadata": {},
   "outputs": [],
   "source": [
    "import pyspark\n",
    "# Carga ufnciones extra\n",
    "from pyspark.sql.functions import * \n",
    "from pyspark.sql import SparkSession"
   ]
  },
  {
   "cell_type": "code",
   "execution_count": 3,
   "id": "f794f62b",
   "metadata": {},
   "outputs": [
    {
     "name": "stderr",
     "output_type": "stream",
     "text": [
      "24/02/24 11:56:32 WARN Utils: Your hostname, vania-Latitude-7400 resolves to a loopback address: 127.0.1.1; using 10.153.221.214 instead (on interface wlo1)\n",
      "24/02/24 11:56:32 WARN Utils: Set SPARK_LOCAL_IP if you need to bind to another address\n",
      "Using Spark's default log4j profile: org/apache/spark/log4j-defaults.properties\n",
      "Setting default log level to \"WARN\".\n",
      "To adjust logging level use sc.setLogLevel(newLevel). For SparkR, use setLogLevel(newLevel).\n",
      "24/02/24 11:56:43 WARN NativeCodeLoader: Unable to load native-hadoop library for your platform... using builtin-java classes where applicable\n",
      "24/02/24 11:56:44 WARN Utils: Service 'SparkUI' could not bind on port 4040. Attempting port 4041.\n",
      "24/02/24 11:56:44 WARN Utils: Service 'SparkUI' could not bind on port 4041. Attempting port 4042.\n"
     ]
    }
   ],
   "source": [
    "sc = SparkSession.builder.appName('creando_rdds').getOrCreate()"
   ]
  },
  {
   "cell_type": "code",
   "execution_count": 4,
   "id": "a3e01822",
   "metadata": {},
   "outputs": [],
   "source": [
    "lista = ['en', 'un', 'lugar', 'de', 'un', 'gran', 'pais']"
   ]
  },
  {
   "cell_type": "code",
   "execution_count": 5,
   "id": "eb674326",
   "metadata": {},
   "outputs": [],
   "source": [
    "lista_rdd = sc.sparkContext.parallelize(lista, 4)"
   ]
  },
  {
   "cell_type": "code",
   "execution_count": 6,
   "id": "25d2c709",
   "metadata": {},
   "outputs": [
    {
     "data": {
      "text/plain": [
       "ParallelCollectionRDD[0] at readRDDFromFile at PythonRDD.scala:274"
      ]
     },
     "execution_count": 6,
     "metadata": {},
     "output_type": "execute_result"
    }
   ],
   "source": [
    "lista_rdd"
   ]
  },
  {
   "cell_type": "code",
   "execution_count": 7,
   "id": "2472e595",
   "metadata": {},
   "outputs": [
    {
     "name": "stderr",
     "output_type": "stream",
     "text": [
      "\r",
      "[Stage 0:>                                                          (0 + 4) / 4]\r",
      "\r",
      "                                                                                \r"
     ]
    },
    {
     "data": {
      "text/plain": [
       "['en', 'un', 'lugar', 'de', 'un', 'gran', 'pais']"
      ]
     },
     "execution_count": 7,
     "metadata": {},
     "output_type": "execute_result"
    }
   ],
   "source": [
    "lista_rdd.collect()"
   ]
  },
  {
   "cell_type": "markdown",
   "id": "7ad16e8a",
   "metadata": {},
   "source": [
    "### Usando conjuntos de datos externos"
   ]
  },
  {
   "cell_type": "markdown",
   "id": "d9475a7a",
   "metadata": {},
   "source": [
    "A partir de una fuente de almacenamiento, se puede utilizar la función textFile del sparkContext"
   ]
  },
  {
   "cell_type": "code",
   "execution_count": 8,
   "id": "bcca4087",
   "metadata": {},
   "outputs": [],
   "source": [
    "text = sc.sparkContext.textFile('../data/file.txt')"
   ]
  },
  {
   "cell_type": "code",
   "execution_count": 9,
   "id": "56875ea4",
   "metadata": {},
   "outputs": [
    {
     "data": {
      "text/plain": [
       "../data/file.txt MapPartitionsRDD[2] at textFile at NativeMethodAccessorImpl.java:0"
      ]
     },
     "execution_count": 9,
     "metadata": {},
     "output_type": "execute_result"
    }
   ],
   "source": [
    "text"
   ]
  },
  {
   "cell_type": "code",
   "execution_count": 10,
   "id": "639bd8cb",
   "metadata": {},
   "outputs": [
    {
     "data": {
      "text/plain": [
       "['Hello World']"
      ]
     },
     "execution_count": 10,
     "metadata": {},
     "output_type": "execute_result"
    }
   ],
   "source": [
    "text.collect()"
   ]
  },
  {
   "cell_type": "markdown",
   "id": "fc1a6995",
   "metadata": {},
   "source": [
    "## Operaciones"
   ]
  },
  {
   "cell_type": "markdown",
   "id": "2e8e7163",
   "metadata": {},
   "source": [
    "### Acciones"
   ]
  },
  {
   "cell_type": "code",
   "execution_count": 11,
   "id": "7895d0de",
   "metadata": {},
   "outputs": [],
   "source": [
    "rdd = sc.sparkContext.parallelize([4,1,2,6,1,5,3,3,2,4])"
   ]
  },
  {
   "cell_type": "markdown",
   "id": "8fff609f",
   "metadata": {},
   "source": [
    "##### collect()"
   ]
  },
  {
   "cell_type": "code",
   "execution_count": 12,
   "id": "1562c2f2",
   "metadata": {},
   "outputs": [
    {
     "data": {
      "text/plain": [
       "[4, 1, 2, 6, 1, 5, 3, 3, 2, 4]"
      ]
     },
     "execution_count": 12,
     "metadata": {},
     "output_type": "execute_result"
    }
   ],
   "source": [
    "rdd.collect()"
   ]
  },
  {
   "cell_type": "code",
   "execution_count": 13,
   "id": "4bc23533",
   "metadata": {},
   "outputs": [
    {
     "name": "stdout",
     "output_type": "stream",
     "text": [
      "El tercer elemento de la lista es 2\n"
     ]
    }
   ],
   "source": [
    "lista = rdd.collect()\n",
    "print('El tercer elemento de la lista es %d'% lista[2])"
   ]
  },
  {
   "cell_type": "code",
   "execution_count": 14,
   "id": "29c17829",
   "metadata": {},
   "outputs": [
    {
     "data": {
      "text/plain": [
       "[4, 1, 2, 6, 1, 5, 3, 3, 2, 4]"
      ]
     },
     "execution_count": 14,
     "metadata": {},
     "output_type": "execute_result"
    }
   ],
   "source": [
    "lista"
   ]
  },
  {
   "cell_type": "markdown",
   "id": "7b14ee47",
   "metadata": {},
   "source": [
    "##### count()"
   ]
  },
  {
   "cell_type": "code",
   "execution_count": 15,
   "id": "15f931bf",
   "metadata": {},
   "outputs": [
    {
     "name": "stdout",
     "output_type": "stream",
     "text": [
      "El RDD contiene 10 elementos\n"
     ]
    },
    {
     "name": "stderr",
     "output_type": "stream",
     "text": [
      "\r",
      "[Stage 4:>                                                          (0 + 8) / 8]\r",
      "\r",
      "                                                                                \r"
     ]
    }
   ],
   "source": [
    "print('El RDD contiene %d elementos'% rdd.count())"
   ]
  },
  {
   "cell_type": "markdown",
   "id": "b1d1161f",
   "metadata": {},
   "source": [
    "##### countByValue()"
   ]
  },
  {
   "cell_type": "code",
   "execution_count": 16,
   "id": "7ac7a471",
   "metadata": {},
   "outputs": [
    {
     "data": {
      "text/plain": [
       "defaultdict(int, {4: 2, 1: 2, 2: 2, 6: 1, 5: 1, 3: 2})"
      ]
     },
     "execution_count": 16,
     "metadata": {},
     "output_type": "execute_result"
    }
   ],
   "source": [
    "rdd.countByValue()"
   ]
  },
  {
   "cell_type": "markdown",
   "id": "9d1c9ddc",
   "metadata": {},
   "source": [
    "##### reduce()"
   ]
  },
  {
   "cell_type": "markdown",
   "id": "6578cfa0",
   "metadata": {},
   "source": [
    "Agrega los elementos de un RDD según la función que se le pase como parámetro. La función debe cumplir las siguientes propiedades para que pueda ser calculada en paralelo.\n",
    "\n",
    "        A+B = B+A\n",
    "        (A+B)+C = A+(B+C)\n",
    "       \n",
    "       \n",
    " Ejemplo: Multiplicar los valores de rdd y sumar los resultados"
   ]
  },
  {
   "cell_type": "code",
   "execution_count": 17,
   "id": "f89eec87",
   "metadata": {},
   "outputs": [],
   "source": [
    "rdd2 = rdd.map(lambda x: x*2)\n",
    "sum_total = rdd2.reduce(lambda x,y: x+y)"
   ]
  },
  {
   "cell_type": "code",
   "execution_count": 18,
   "id": "a420c39e",
   "metadata": {},
   "outputs": [
    {
     "data": {
      "text/plain": [
       "[4, 1, 2, 6, 1, 5, 3, 3, 2, 4]"
      ]
     },
     "execution_count": 18,
     "metadata": {},
     "output_type": "execute_result"
    }
   ],
   "source": [
    "rdd.collect()"
   ]
  },
  {
   "cell_type": "code",
   "execution_count": 19,
   "id": "928eb0b0",
   "metadata": {},
   "outputs": [
    {
     "data": {
      "text/plain": [
       "[8, 2, 4, 12, 2, 10, 6, 6, 4, 8]"
      ]
     },
     "execution_count": 19,
     "metadata": {},
     "output_type": "execute_result"
    }
   ],
   "source": [
    "rdd2.collect()"
   ]
  },
  {
   "cell_type": "code",
   "execution_count": 20,
   "id": "8a384239",
   "metadata": {},
   "outputs": [
    {
     "data": {
      "text/plain": [
       "62"
      ]
     },
     "execution_count": 20,
     "metadata": {},
     "output_type": "execute_result"
    }
   ],
   "source": [
    "sum_total"
   ]
  },
  {
   "cell_type": "markdown",
   "id": "2d12a201",
   "metadata": {},
   "source": [
    "Ejemplo 2:  Crear un diccionario con elementos (x,1) y suma las apariciones por elemento"
   ]
  },
  {
   "cell_type": "code",
   "execution_count": 21,
   "id": "46f40e8b",
   "metadata": {},
   "outputs": [],
   "source": [
    "rdd_text = sc.sparkContext.parallelize(['red', 'red', 'blue', 'green', 'green', 'yellow'])\n",
    "rdd_aux = rdd_text.map(lambda x: (x,1))\n",
    "rdd_result = rdd_aux.reduceByKey(lambda x,y: x+y)"
   ]
  },
  {
   "cell_type": "code",
   "execution_count": 22,
   "id": "a18957c1",
   "metadata": {},
   "outputs": [
    {
     "data": {
      "text/plain": [
       "[('red', 1),\n",
       " ('red', 1),\n",
       " ('blue', 1),\n",
       " ('green', 1),\n",
       " ('green', 1),\n",
       " ('yellow', 1)]"
      ]
     },
     "execution_count": 22,
     "metadata": {},
     "output_type": "execute_result"
    }
   ],
   "source": [
    "rdd_aux.collect()"
   ]
  },
  {
   "cell_type": "code",
   "execution_count": 23,
   "id": "80780dba",
   "metadata": {},
   "outputs": [
    {
     "data": {
      "text/plain": [
       "[('blue', 1), ('green', 2), ('red', 2), ('yellow', 1)]"
      ]
     },
     "execution_count": 23,
     "metadata": {},
     "output_type": "execute_result"
    }
   ],
   "source": [
    "rdd_result.collect()"
   ]
  },
  {
   "cell_type": "markdown",
   "id": "2391d4f9",
   "metadata": {},
   "source": [
    "#### foreach()"
   ]
  },
  {
   "cell_type": "code",
   "execution_count": 24,
   "id": "573e9794",
   "metadata": {},
   "outputs": [
    {
     "name": "stderr",
     "output_type": "stream",
     "text": [
      "3 es impar\n",
      "5 es impar1 es impar\n",
      "\n",
      "1 es impar\n",
      "3 es impar\n"
     ]
    }
   ],
   "source": [
    "def impar(x):\n",
    "    if x%2 == 1:\n",
    "        print('%d es impar'% x)\n",
    "\n",
    "rdd.foreach(impar)"
   ]
  },
  {
   "cell_type": "code",
   "execution_count": 25,
   "id": "689f3731",
   "metadata": {},
   "outputs": [
    {
     "data": {
      "text/plain": [
       "[4, 1, 2, 6, 1, 5, 3, 3, 2, 4]"
      ]
     },
     "execution_count": 25,
     "metadata": {},
     "output_type": "execute_result"
    }
   ],
   "source": [
    "rdd.collect()"
   ]
  },
  {
   "cell_type": "markdown",
   "id": "95bfca77",
   "metadata": {},
   "source": [
    "##### collectAsMap()"
   ]
  },
  {
   "cell_type": "code",
   "execution_count": 26,
   "id": "21ee463c",
   "metadata": {},
   "outputs": [
    {
     "data": {
      "text/plain": [
       "{'a': 'b', 'c': 'd'}"
      ]
     },
     "execution_count": 26,
     "metadata": {},
     "output_type": "execute_result"
    }
   ],
   "source": [
    "sc.sparkContext.parallelize([('a','b'), ('c','d')]).collectAsMap()"
   ]
  },
  {
   "cell_type": "code",
   "execution_count": 27,
   "id": "c64129b6",
   "metadata": {},
   "outputs": [
    {
     "ename": "ValueError",
     "evalue": "dictionary update sequence element #0 has length 3; 2 is required",
     "output_type": "error",
     "traceback": [
      "\u001b[0;31m---------------------------------------------------------------------------\u001b[0m",
      "\u001b[0;31mValueError\u001b[0m                                Traceback (most recent call last)",
      "\u001b[0;32m/tmp/ipykernel_4274/1005367591.py\u001b[0m in \u001b[0;36m<module>\u001b[0;34m\u001b[0m\n\u001b[0;32m----> 1\u001b[0;31m \u001b[0msc\u001b[0m\u001b[0;34m.\u001b[0m\u001b[0msparkContext\u001b[0m\u001b[0;34m.\u001b[0m\u001b[0mparallelize\u001b[0m\u001b[0;34m(\u001b[0m\u001b[0;34m[\u001b[0m\u001b[0;34m(\u001b[0m\u001b[0;34m'a'\u001b[0m\u001b[0;34m,\u001b[0m\u001b[0;34m'b'\u001b[0m\u001b[0;34m,\u001b[0m\u001b[0;34m'e'\u001b[0m\u001b[0;34m)\u001b[0m\u001b[0;34m,\u001b[0m \u001b[0;34m(\u001b[0m\u001b[0;34m'c'\u001b[0m\u001b[0;34m,\u001b[0m\u001b[0;34m'd'\u001b[0m\u001b[0;34m,\u001b[0m\u001b[0;34m'f'\u001b[0m\u001b[0;34m)\u001b[0m\u001b[0;34m]\u001b[0m\u001b[0;34m)\u001b[0m\u001b[0;34m.\u001b[0m\u001b[0mcollectAsMap\u001b[0m\u001b[0;34m(\u001b[0m\u001b[0;34m)\u001b[0m\u001b[0;34m\u001b[0m\u001b[0;34m\u001b[0m\u001b[0m\n\u001b[0m",
      "\u001b[0;32m~/jupyter/jupyterenv/lib/python3.8/site-packages/pyspark/rdd.py\u001b[0m in \u001b[0;36mcollectAsMap\u001b[0;34m(self)\u001b[0m\n\u001b[1;32m   1847\u001b[0m         \u001b[0;36m4\u001b[0m\u001b[0;34m\u001b[0m\u001b[0;34m\u001b[0m\u001b[0m\n\u001b[1;32m   1848\u001b[0m         \"\"\"\n\u001b[0;32m-> 1849\u001b[0;31m         \u001b[0;32mreturn\u001b[0m \u001b[0mdict\u001b[0m\u001b[0;34m(\u001b[0m\u001b[0mself\u001b[0m\u001b[0;34m.\u001b[0m\u001b[0mcollect\u001b[0m\u001b[0;34m(\u001b[0m\u001b[0;34m)\u001b[0m\u001b[0;34m)\u001b[0m\u001b[0;34m\u001b[0m\u001b[0;34m\u001b[0m\u001b[0m\n\u001b[0m\u001b[1;32m   1850\u001b[0m \u001b[0;34m\u001b[0m\u001b[0m\n\u001b[1;32m   1851\u001b[0m     \u001b[0;32mdef\u001b[0m \u001b[0mkeys\u001b[0m\u001b[0;34m(\u001b[0m\u001b[0mself\u001b[0m\u001b[0;34m)\u001b[0m\u001b[0;34m:\u001b[0m\u001b[0;34m\u001b[0m\u001b[0;34m\u001b[0m\u001b[0m\n",
      "\u001b[0;31mValueError\u001b[0m: dictionary update sequence element #0 has length 3; 2 is required"
     ]
    }
   ],
   "source": [
    "sc.sparkContext.parallelize([('a','b','e'), ('c','d','f')]).collectAsMap()"
   ]
  },
  {
   "cell_type": "markdown",
   "id": "d970f6fe",
   "metadata": {},
   "source": [
    "### Transformaciones"
   ]
  },
  {
   "cell_type": "markdown",
   "id": "1042b2c4",
   "metadata": {},
   "source": [
    "##### map()"
   ]
  },
  {
   "cell_type": "code",
   "execution_count": 28,
   "id": "5f211526",
   "metadata": {},
   "outputs": [
    {
     "data": {
      "text/plain": [
       "[8, 2, 4, 12, 2, 10, 6, 6, 4, 8]"
      ]
     },
     "execution_count": 28,
     "metadata": {},
     "output_type": "execute_result"
    }
   ],
   "source": [
    "t1 = rdd.map(lambda x: x*2)\n",
    "t1.collect()"
   ]
  },
  {
   "cell_type": "markdown",
   "id": "077fa6aa",
   "metadata": {},
   "source": [
    "##### filter()"
   ]
  },
  {
   "cell_type": "code",
   "execution_count": 29,
   "id": "d0ebdef1",
   "metadata": {},
   "outputs": [
    {
     "data": {
      "text/plain": [
       "[4, 1, 2, 6, 1, 5, 3]"
      ]
     },
     "execution_count": 29,
     "metadata": {},
     "output_type": "execute_result"
    }
   ],
   "source": [
    "num = sc.sparkContext.parallelize([4,1,2,6,1,5,3, 1000, 100, 2000])\n",
    "num.filter(lambda x: x < 50).collect()"
   ]
  },
  {
   "cell_type": "markdown",
   "id": "1a02f211",
   "metadata": {},
   "source": [
    "#### distinct()"
   ]
  },
  {
   "cell_type": "code",
   "execution_count": 30,
   "id": "b07e7737",
   "metadata": {},
   "outputs": [
    {
     "data": {
      "text/plain": [
       "[4, 1, 2, 6, 1, 5, 3, 3, 2, 4]"
      ]
     },
     "execution_count": 30,
     "metadata": {},
     "output_type": "execute_result"
    }
   ],
   "source": [
    "rdd.collect()"
   ]
  },
  {
   "cell_type": "code",
   "execution_count": 31,
   "id": "ee23b3fb",
   "metadata": {},
   "outputs": [
    {
     "data": {
      "text/plain": [
       "[1, 2, 3, 4, 5, 6]"
      ]
     },
     "execution_count": 31,
     "metadata": {},
     "output_type": "execute_result"
    }
   ],
   "source": [
    "rdd.distinct().collect()"
   ]
  },
  {
   "cell_type": "markdown",
   "id": "2af6d586",
   "metadata": {},
   "source": [
    "##### union()"
   ]
  },
  {
   "cell_type": "code",
   "execution_count": 32,
   "id": "813e626f",
   "metadata": {},
   "outputs": [
    {
     "data": {
      "text/plain": [
       "['Barcelona', 'Madrid', 'Paris', 'Madrid', 'Londres', 'Roma']"
      ]
     },
     "execution_count": 32,
     "metadata": {},
     "output_type": "execute_result"
    }
   ],
   "source": [
    "city1 = sc.sparkContext.parallelize(['Barcelona', 'Madrid', 'Paris'])\n",
    "city2 = sc.sparkContext.parallelize(['Madrid', 'Londres', 'Roma'])\n",
    "city1.union(city2).collect()"
   ]
  },
  {
   "cell_type": "code",
   "execution_count": null,
   "id": "e717249e",
   "metadata": {},
   "outputs": [],
   "source": []
  }
 ],
 "metadata": {
  "kernelspec": {
   "display_name": "Python 3 (ipykernel)",
   "language": "python",
   "name": "python3"
  },
  "language_info": {
   "codemirror_mode": {
    "name": "ipython",
    "version": 3
   },
   "file_extension": ".py",
   "mimetype": "text/x-python",
   "name": "python",
   "nbconvert_exporter": "python",
   "pygments_lexer": "ipython3",
   "version": "3.8.10"
  }
 },
 "nbformat": 4,
 "nbformat_minor": 5
}
