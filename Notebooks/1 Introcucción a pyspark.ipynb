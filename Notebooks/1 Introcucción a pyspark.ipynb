{
 "cells": [
  {
   "cell_type": "markdown",
   "id": "9a14e5bf",
   "metadata": {},
   "source": [
    "### ¿Qué es Apache Spark?"
   ]
  },
  {
   "cell_type": "markdown",
   "id": "09ff80f4",
   "metadata": {},
   "source": [
    "Apache spark es un framework de programación para el procesamiento de datos distribuidos (computacion en cluster) open source. Spark fue originalmente desarrolado por la Universidad de California Berkeley quien posteriomente donó el codigo del proyecto a la Apache Software Foundation, quien desde entonces se encarga de su mantenimiento.\n",
    "\n",
    "Spark proporciona APIs para ser empleado en conjunto con lenguajes de programación como Java, Python, Scala y R. Además, cuenta con herramientas para la realización de tareas de alto nivel como Spark SQL (para el procesamiento de datos estructurados basado en SQL), MLlib (para la implementación de modelos de aprendizaje máquina), GraphX (para el procesamiento de grafos), etc."
   ]
  },
  {
   "cell_type": "markdown",
   "id": "076bf241",
   "metadata": {},
   "source": [
    "### ¿Qué es PySpark?"
   ]
  },
  {
   "cell_type": "markdown",
   "id": "8daf8cc3",
   "metadata": {},
   "source": [
    "PySpark es una herramienta que nos deja usar Spark encima de Python. Permitiendonos combinar el proceso de datos distribuidos de Spark con la simplicidad de Python para el análisis de conjuntos masivos de datos (big data)."
   ]
  },
  {
   "cell_type": "code",
   "execution_count": 1,
   "id": "36669668",
   "metadata": {},
   "outputs": [
    {
     "name": "stdout",
     "output_type": "stream",
     "text": [
      "Requirement already satisfied: pyspark in /home/vania/jupyter/jupyterenv/lib/python3.8/site-packages (3.2.1)\n",
      "Requirement already satisfied: py4j==0.10.9.3 in /home/vania/jupyter/jupyterenv/lib/python3.8/site-packages (from pyspark) (0.10.9.3)\n",
      "\n",
      "\u001b[1m[\u001b[0m\u001b[34;49mnotice\u001b[0m\u001b[1;39;49m]\u001b[0m\u001b[39;49m A new release of pip is available: \u001b[0m\u001b[31;49m23.1.1\u001b[0m\u001b[39;49m -> \u001b[0m\u001b[32;49m25.0\u001b[0m\n",
      "\u001b[1m[\u001b[0m\u001b[34;49mnotice\u001b[0m\u001b[1;39;49m]\u001b[0m\u001b[39;49m To update, run: \u001b[0m\u001b[32;49mpip install --upgrade pip\u001b[0m\n",
      "\n",
      "\u001b[1m[\u001b[0m\u001b[34;49mnotice\u001b[0m\u001b[1;39;49m]\u001b[0m\u001b[39;49m A new release of pip is available: \u001b[0m\u001b[31;49m23.1.1\u001b[0m\u001b[39;49m -> \u001b[0m\u001b[32;49m25.0\u001b[0m\n",
      "\u001b[1m[\u001b[0m\u001b[34;49mnotice\u001b[0m\u001b[1;39;49m]\u001b[0m\u001b[39;49m To update, run: \u001b[0m\u001b[32;49mpip install --upgrade pip\u001b[0m\n"
     ]
    }
   ],
   "source": [
    "!pip install pyspark\n",
    "!pip install -U -q PyDrive\n",
    "# !apt install openjdk-8-jdk-headless -qq"
   ]
  },
  {
   "cell_type": "code",
   "execution_count": 2,
   "id": "8a5a07c8",
   "metadata": {},
   "outputs": [],
   "source": [
    "import os\n",
    "os.environ[\"JAVA_HOME\"] = \"/usr/lib/jvm/java-8-openjdk-amd64\""
   ]
  },
  {
   "cell_type": "code",
   "execution_count": 3,
   "id": "5702793c",
   "metadata": {},
   "outputs": [
    {
     "name": "stderr",
     "output_type": "stream",
     "text": [
      "25/02/08 12:07:03 WARN Utils: Your hostname, vania-Latitude-7400 resolves to a loopback address: 127.0.1.1; using 10.153.221.214 instead (on interface wlo1)\n",
      "25/02/08 12:07:03 WARN Utils: Set SPARK_LOCAL_IP if you need to bind to another address\n",
      "Using Spark's default log4j profile: org/apache/spark/log4j-defaults.properties\n",
      "Setting default log level to \"WARN\".\n",
      "To adjust logging level use sc.setLogLevel(newLevel). For SparkR, use setLogLevel(newLevel).\n",
      "25/02/08 12:07:04 WARN NativeCodeLoader: Unable to load native-hadoop library for your platform... using builtin-java classes where applicable\n"
     ]
    }
   ],
   "source": [
    "import pyspark\n",
    "# Carga ufnciones extra\n",
    "from pyspark.sql.functions import * \n",
    "from pyspark.sql import SparkSession\n",
    "spark = SparkSession.builder.appName('primeros_pasos').getOrCreate()"
   ]
  },
  {
   "cell_type": "markdown",
   "id": "b68ca59b",
   "metadata": {},
   "source": [
    "### RDDs"
   ]
  },
  {
   "cell_type": "markdown",
   "id": "21b8da41",
   "metadata": {},
   "source": [
    "La forma más elemental de trabajar con datos en PySpark es haciendo uso de un RDD (Resilient Distributed Dataset), el cual nos da la capacidad de manejar los datos y realizar cálculos con ellos de forma distribuida en varios nodos de un cluster.\n",
    "\n",
    "Para realizar los ejemplos de este notebook haremos uso de una base de datos que cuenta con datos de los jugadores del juego FIFA20, dichos datos fueron tomados este concurso de kaggle donde podrán encontrar una descripción detalalda de cada campo de la base datos. https://www.kaggle.com/stefanoleone992/fifa-20-complete-player-dataset/version/1?select=players_20.csv\n",
    "\n",
    "Podemos crear un RDD a partir de un archivo CSV de la siguiente manera"
   ]
  },
  {
   "cell_type": "code",
   "execution_count": 4,
   "id": "515b3a9c",
   "metadata": {},
   "outputs": [],
   "source": [
    "raw_data = spark.sparkContext.textFile('../data/players_20.csv')"
   ]
  },
  {
   "cell_type": "code",
   "execution_count": 5,
   "id": "d1360a90",
   "metadata": {},
   "outputs": [
    {
     "data": {
      "text/plain": [
       "../data/players_20.csv MapPartitionsRDD[1] at textFile at NativeMethodAccessorImpl.java:0"
      ]
     },
     "execution_count": 5,
     "metadata": {},
     "output_type": "execute_result"
    }
   ],
   "source": [
    "raw_data"
   ]
  },
  {
   "cell_type": "markdown",
   "id": "d5eb5505",
   "metadata": {},
   "source": [
    "Una de las desventajas de los RDDs es que solo proveen a los datos de la estructura minima para poder trabajar con ellos. Imprimamos los primeros dos elementos del RDD para ver en que condicion se encuentran nuestros datos"
   ]
  },
  {
   "cell_type": "code",
   "execution_count": 6,
   "id": "935cdb58",
   "metadata": {},
   "outputs": [
    {
     "name": "stderr",
     "output_type": "stream",
     "text": [
      "\r",
      "[Stage 0:>                                                          (0 + 1) / 1]\r"
     ]
    },
    {
     "name": "stdout",
     "output_type": "stream",
     "text": [
      "sofifa_id,player_url,short_name,long_name,age,dob,height_cm,weight_kg,nationality,club,overall,potential,value_eur,wage_eur,player_positions,preferred_foot,international_reputation,weak_foot,skill_moves,work_rate,body_type,real_face,release_clause_eur,player_tags,team_position,team_jersey_number,loaned_from,joined,contract_valid_until,nation_position,nation_jersey_number,pace,shooting,passing,dribbling,defending,physic,gk_diving,gk_handling,gk_kicking,gk_reflexes,gk_speed,gk_positioning,player_traits,attacking_crossing,attacking_finishing,attacking_heading_accuracy,attacking_short_passing,attacking_volleys,skill_dribbling,skill_curve,skill_fk_accuracy,skill_long_passing,skill_ball_control,movement_acceleration,movement_sprint_speed,movement_agility,movement_reactions,movement_balance,power_shot_power,power_jumping,power_stamina,power_strength,power_long_shots,mentality_aggression,mentality_interceptions,mentality_positioning,mentality_vision,mentality_penalties,mentality_composure,defending_marking,defending_standing_tackle,defending_sliding_tackle,goalkeeping_diving,goalkeeping_handling,goalkeeping_kicking,goalkeeping_positioning,goalkeeping_reflexes,ls,st,rs,lw,lf,cf,rf,rw,lam,cam,ram,lm,lcm,cm,rcm,rm,lwb,ldm,cdm,rdm,rwb,lb,lcb,cb,rcb,rb\n",
      "\n",
      "\n",
      "158023,https://sofifa.com/player/158023/lionel-messi/20/159586,L. Messi,Lionel Andrés Messi Cuccittini,32,1987-06-24,170,72,Argentina,FC Barcelona,94,94,95500000,565000,\"RW, CF, ST\",Left,5,4,4,Medium/Low,Messi,Yes,195800000,\"#Dribbler, #Distance Shooter, #Crosser, #FK Specialist, #Acrobat, #Clinical Finisher, #Complete Forward\",RW,10,,2004-07-01,2021,,,87,92,92,96,39,66,,,,,,,\"Beat Offside Trap, Argues with Officials, Early Crosser, Finesse Shot, Speed Dribbler (CPU AI Only), 1-on-1 Rush, Giant Throw-in, Outside Foot Shot\",88,95,70,92,88,97,93,94,92,96,91,84,93,95,95,86,68,75,68,94,48,40,94,94,75,96,33,37,26,6,11,15,14,8,89+2,89+2,89+2,93+2,93+2,93+2,93+2,93+2,93+2,93+2,93+2,92+2,87+2,87+2,87+2,92+2,68+2,66+2,66+2,66+2,68+2,63+2,52+2,52+2,52+2,63+2\n",
      "\n",
      "\n"
     ]
    },
    {
     "name": "stderr",
     "output_type": "stream",
     "text": [
      "\r",
      "                                                                                \r"
     ]
    }
   ],
   "source": [
    "for row in raw_data.take(2):\n",
    "    print(row)\n",
    "    print('\\n')"
   ]
  },
  {
   "cell_type": "markdown",
   "id": "2dd3514b",
   "metadata": {},
   "source": [
    "Como podemos ver, los elementos del RDD son solo los renglones del archivo CSV sin formato. Siendo el primer elemento los nombres de los campos de la base de datos, el mantener a los nombres de los campos como valores dentro del RDD puede derivar en problemas más adelante, así que por el momento los removeremos para quedarnos solamente con los valores"
   ]
  },
  {
   "cell_type": "code",
   "execution_count": 7,
   "id": "1e77d84f",
   "metadata": {},
   "outputs": [],
   "source": [
    "# Guarda el primer elemento \n",
    "columns = raw_data.take(1)[0]\n",
    "# Guarda en todos los elementos de datos_crudos menos el primero correspondiente a las columnas\n",
    "raw_data = raw_data.filter(lambda row : row != columns)"
   ]
  },
  {
   "cell_type": "code",
   "execution_count": 8,
   "id": "b911e28e",
   "metadata": {},
   "outputs": [
    {
     "data": {
      "text/plain": [
       "'sofifa_id,player_url,short_name,long_name,age,dob,height_cm,weight_kg,nationality,club,overall,potential,value_eur,wage_eur,player_positions,preferred_foot,international_reputation,weak_foot,skill_moves,work_rate,body_type,real_face,release_clause_eur,player_tags,team_position,team_jersey_number,loaned_from,joined,contract_valid_until,nation_position,nation_jersey_number,pace,shooting,passing,dribbling,defending,physic,gk_diving,gk_handling,gk_kicking,gk_reflexes,gk_speed,gk_positioning,player_traits,attacking_crossing,attacking_finishing,attacking_heading_accuracy,attacking_short_passing,attacking_volleys,skill_dribbling,skill_curve,skill_fk_accuracy,skill_long_passing,skill_ball_control,movement_acceleration,movement_sprint_speed,movement_agility,movement_reactions,movement_balance,power_shot_power,power_jumping,power_stamina,power_strength,power_long_shots,mentality_aggression,mentality_interceptions,mentality_positioning,mentality_vision,mentality_penalties,mentality_composure,defending_marking,defending_standing_tackle,defending_sliding_tackle,goalkeeping_diving,goalkeeping_handling,goalkeeping_kicking,goalkeeping_positioning,goalkeeping_reflexes,ls,st,rs,lw,lf,cf,rf,rw,lam,cam,ram,lm,lcm,cm,rcm,rm,lwb,ldm,cdm,rdm,rwb,lb,lcb,cb,rcb,rb'"
      ]
     },
     "execution_count": 8,
     "metadata": {},
     "output_type": "execute_result"
    }
   ],
   "source": [
    "columns"
   ]
  },
  {
   "cell_type": "code",
   "execution_count": 9,
   "id": "39f52bac",
   "metadata": {},
   "outputs": [
    {
     "data": {
      "text/plain": [
       "PythonRDD[4] at RDD at PythonRDD.scala:53"
      ]
     },
     "execution_count": 9,
     "metadata": {},
     "output_type": "execute_result"
    }
   ],
   "source": [
    "raw_data"
   ]
  },
  {
   "cell_type": "markdown",
   "id": "1e05453d",
   "metadata": {},
   "source": [
    "Ahora podemos darle un poco más de estructura a nuestros datos. Primero separemos los campos de cada renglon, sabiendo que estan separados por comas, y quedandonos con solo un subconjunto de dichos campos, digamos... su nombre, edad, estatura, peso, nacionalidad, equipo y su ranking. Para esto definamos la siguiente función"
   ]
  },
  {
   "cell_type": "code",
   "execution_count": 10,
   "id": "3af18e48",
   "metadata": {},
   "outputs": [],
   "source": [
    "def separar_campos(row):\n",
    "    separated_row = row.split(',')\n",
    "    # Extrae los campos que queremos\n",
    "    nombre = str(separated_row[2])\n",
    "    edad = int(separated_row[4])\n",
    "    estatura = int(separated_row[6])\n",
    "    peso = int(separated_row[7])\n",
    "    nacionalidad = str(separated_row[8])\n",
    "    equipo = str(separated_row[9])\n",
    "    rank = int(separated_row[10])\n",
    "\n",
    "    return (nombre, edad, estatura, peso, nacionalidad, equipo, rank)"
   ]
  },
  {
   "cell_type": "markdown",
   "id": "60eaad50",
   "metadata": {},
   "source": [
    "\n",
    "\n",
    "aplicamos dicha función a cada renglon\n",
    "\n"
   ]
  },
  {
   "cell_type": "code",
   "execution_count": 11,
   "id": "4bc2e4b0",
   "metadata": {},
   "outputs": [
    {
     "name": "stdout",
     "output_type": "stream",
     "text": [
      "('L. Messi', 32, 170, 72, 'Argentina', 'FC Barcelona', 94)\n",
      "('Cristiano Ronaldo', 34, 187, 83, 'Portugal', 'Juventus', 93)\n",
      "('Neymar Jr', 27, 175, 68, 'Brazil', 'Paris Saint-Germain', 92)\n",
      "('J. Oblak', 26, 188, 87, 'Slovenia', 'Atlético Madrid', 91)\n",
      "('E. Hazard', 28, 175, 74, 'Belgium', 'Real Madrid', 91)\n",
      "\n",
      "\n"
     ]
    }
   ],
   "source": [
    "rdd_fifa = raw_data.map(separar_campos)\n",
    "\n",
    "# Imprimimos una muestra de los datos\n",
    "for row in rdd_fifa.take(5):\n",
    "    print(row)\n",
    "print('\\n')"
   ]
  },
  {
   "cell_type": "markdown",
   "id": "128a46f4",
   "metadata": {},
   "source": [
    "Hasta ahora, hemos realizado diferentes operaciones sobre nuestro RDD para poder darle un formato más tratable a los datos que contiene. Sin embargo, no hemos detallado nada sobre la naturaleza de dichas operaciones. Enfoquemonos ahora en hacer más explícitos estos detalles.\n",
    "\n",
    "Existen dos operaciones básicas que pueden ser aplicadas a los RDD:\n",
    "\n",
    "    Acciones: Son operaciones que accionan la realización de cálculos y regresan valores explícitos del RDD.\n",
    "\n",
    "    Transformaciones: Son operaciones que devuelven otro RDD. Este tipo de operaciones no se ejecutan como tal sino hasta que es llamada una acción. Por esta razón se dice que las transformaciones son de evaluacion peresoza (lazy evaluation).\n",
    "\n",
    "En el caso de la celda anterior, map() es una transformación que aplica la función dada a los elementos del RDD y take() es la acción que nos devuelve los\n",
    "\n",
    "primeros elementos.\n",
    "\n",
    "Veamos más ejemplos. Podríamos querer saber cuantos jugadores existen por país en la base de datos. Para lograr esto primero necesitamos convertir nuestros datos en pares (key, value), donde la keyserá el pais y el value nos indicará que ese registro pertenece a un jugador de dicho país"
   ]
  },
  {
   "cell_type": "code",
   "execution_count": 13,
   "id": "175dfef8",
   "metadata": {},
   "outputs": [],
   "source": [
    "# Nos quedamos solo con la entrada corresponiente al país\n",
    "rdd_nacionalidades = rdd_fifa.map(lambda row: (row[4], 1))"
   ]
  },
  {
   "cell_type": "code",
   "execution_count": 14,
   "id": "5e67ec34",
   "metadata": {},
   "outputs": [
    {
     "data": {
      "text/plain": [
       "PythonRDD[6] at RDD at PythonRDD.scala:53"
      ]
     },
     "execution_count": 14,
     "metadata": {},
     "output_type": "execute_result"
    }
   ],
   "source": [
    "rdd_nacionalidades"
   ]
  },
  {
   "cell_type": "markdown",
   "id": "730a8272",
   "metadata": {},
   "source": [
    "Usando los países como llaves y la transfromación llamada reduceByKey, sumaremos todos los valores para cada país."
   ]
  },
  {
   "cell_type": "code",
   "execution_count": 15,
   "id": "fe6904d1",
   "metadata": {},
   "outputs": [],
   "source": [
    "rdd_nacionalidades = rdd_nacionalidades.reduceByKey(lambda val_1 , val_2: val_1 + val_2)"
   ]
  },
  {
   "cell_type": "code",
   "execution_count": 16,
   "id": "9ce732bf",
   "metadata": {},
   "outputs": [
    {
     "data": {
      "text/plain": [
       "PythonRDD[11] at RDD at PythonRDD.scala:53"
      ]
     },
     "execution_count": 16,
     "metadata": {},
     "output_type": "execute_result"
    }
   ],
   "source": [
    "rdd_nacionalidades"
   ]
  },
  {
   "cell_type": "markdown",
   "id": "b21f862b",
   "metadata": {},
   "source": [
    "Hasta el momento hemos usado las transformaciones map() y reduceByKey(), para obtener resultados necesitamos efectuar una acción, en este caso usaremos la acción collect(), que nos devuelve todo el contenido del RDD. Esta acción debe usarse con cuidado, en casos donde el RDD contenga una gran cantidad de registros, cargar todo el contenido del RDD puede dejar al sistema sin memoria."
   ]
  },
  {
   "cell_type": "code",
   "execution_count": 17,
   "id": "aea56e5e",
   "metadata": {},
   "outputs": [
    {
     "name": "stdout",
     "output_type": "stream",
     "text": [
      "('Argentina', 886)\n",
      "('Portugal', 344)\n",
      "('Brazil', 824)\n",
      "('Slovenia', 61)\n",
      "('Belgium', 268)\n",
      "('Netherlands', 416)\n",
      "('France', 984)\n",
      "('Uruguay', 164)\n",
      "('Poland', 324)\n",
      "('Denmark', 345)\n",
      "('Gabon', 16)\n",
      "('Korea Republic', 322)\n",
      "('Costa Rica', 30)\n",
      "('Slovakia', 54)\n",
      "('Bosnia Herzegovina', 66)\n",
      "('Scotland', 277)\n",
      "('Hungary', 35)\n",
      "('Switzerland', 229)\n",
      "('Greece', 96)\n",
      "('Austria', 319)\n"
     ]
    }
   ],
   "source": [
    "resultados = rdd_nacionalidades.collect()\n",
    "\n",
    "for row in resultados[:20]:\n",
    "    print(row)"
   ]
  },
  {
   "cell_type": "markdown",
   "id": "d350f510",
   "metadata": {},
   "source": [
    "Aunque los resultados obtenidos son buenos, sería interesante poder ordenar a los paises por la cantidad de jugadores. En la siguiente celda imprimimos los 10 países con más jugadores registrados en el juego de FIFA20"
   ]
  },
  {
   "cell_type": "code",
   "execution_count": 18,
   "id": "c3d8a230",
   "metadata": {},
   "outputs": [
    {
     "name": "stdout",
     "output_type": "stream",
     "text": [
      "PAIS         TOTAL JUGADORES\n",
      "England      1667           \n",
      "Germany      1216           \n",
      "Spain        1035           \n",
      "France       984            \n",
      "Argentina    886            \n",
      "Brazil       824            \n",
      "Italy        732            \n",
      "Colombia     591            \n",
      "Japan        453            \n",
      "Netherlands  416            \n"
     ]
    }
   ],
   "source": [
    "# Pedimos que ordene por total de jugadores\n",
    "rdd_nacionalidades = rdd_nacionalidades.sortBy(lambda row: row[1], ascending = False)\n",
    "\n",
    "print (\"{:<12} {:<15}\".format('PAIS', 'TOTAL JUGADORES'))\n",
    "\n",
    "for row in rdd_nacionalidades.take(10):\n",
    "    pais = row[0]\n",
    "    total_jugadores = row[1]\n",
    "  \n",
    "    print (\"{:<12} {:<15}\".format(pais, total_jugadores))"
   ]
  },
  {
   "cell_type": "markdown",
   "id": "39b85c54",
   "metadata": {},
   "source": [
    "Además de las transformaciones y acciones empleadas aquí existen muchas más, sin embargo, los ejemplos expuestos aqui pueden ayudar al lector a familiarizarse con su uso.\n",
    "\n",
    "Como el lector habrá notado, aunque los RDDs nos proveen de la capacidad de manipular y hacer calculos con datos distribuidos, éstos carecen de las funcionalidades y la estructura que tienen herramientas de un poco más alto nivel, como los DataFrame de Pandas, para el manejo de datos.\n",
    "\n",
    "En PySpark existe un tipo de objetos, igual llamados DataFrames, los cuales nos ayudan a dotar a nuestros datos con más funcionalidades y estructura, en comparación a los RDDs, al mismo tiempo que seguir trabajando de forma distribuida con ellos. Por esta razon, procederemos a dar una introducción a los DataFrames de PySpark que son los entes con los cuales más trabajaremos a lo largo del curso."
   ]
  },
  {
   "cell_type": "markdown",
   "id": "7d6915dd",
   "metadata": {},
   "source": [
    "### DataFrames"
   ]
  },
  {
   "cell_type": "markdown",
   "id": "8ee4efe2",
   "metadata": {},
   "source": [
    "A diferencia de los RDDs, los DataFrames nos permiten estructurar a una collección de datos distribuidos en forma de tabla (con columnas y filas).\n",
    "\n",
    "Podemos crear un DataFrame a partir de un archivo CSV de la siguiente manera"
   ]
  },
  {
   "cell_type": "code",
   "execution_count": 19,
   "id": "4ca6ef9b",
   "metadata": {},
   "outputs": [
    {
     "name": "stderr",
     "output_type": "stream",
     "text": [
      "                                                                                \r"
     ]
    }
   ],
   "source": [
    "df_fifa = spark.read.csv('../data/players_20.csv', header = True, inferSchema = True)"
   ]
  },
  {
   "cell_type": "markdown",
   "id": "c418b9d3",
   "metadata": {},
   "source": [
    "Para efectos de la clase no haremos uso de todos los campos de la base de datos, seleccionemos solo un subconjunto. Para esto usaremos la función select(), la cual devuelve un DataFrame con solo las columnas seleccionadas."
   ]
  },
  {
   "cell_type": "code",
   "execution_count": 20,
   "id": "9fa6261f",
   "metadata": {},
   "outputs": [],
   "source": [
    "df_fifa = df_fifa.select('short_name','age', 'height_cm', 'weight_kg', \n",
    "                         'nationality', 'club', 'value_eur', 'preferred_foot')"
   ]
  },
  {
   "cell_type": "markdown",
   "id": "f12d80d8",
   "metadata": {},
   "source": [
    "Dada la estructrua que el DataFrame da a los datos, podemos hacer referencia a las columnas por su nombre en el archivo CSV.\n",
    "Para visualizar los datos, utilizamos:"
   ]
  },
  {
   "cell_type": "code",
   "execution_count": 22,
   "id": "9997a1b4",
   "metadata": {},
   "outputs": [
    {
     "name": "stdout",
     "output_type": "stream",
     "text": [
      "+-----------------+---+---------+---------+-----------+-------------------+---------+--------------+\n",
      "|       short_name|age|height_cm|weight_kg|nationality|               club|value_eur|preferred_foot|\n",
      "+-----------------+---+---------+---------+-----------+-------------------+---------+--------------+\n",
      "|         L. Messi| 32|      170|       72|  Argentina|       FC Barcelona| 95500000|          Left|\n",
      "|Cristiano Ronaldo| 34|      187|       83|   Portugal|           Juventus| 58500000|         Right|\n",
      "|        Neymar Jr| 27|      175|       68|     Brazil|Paris Saint-Germain|105500000|         Right|\n",
      "|         J. Oblak| 26|      188|       87|   Slovenia|    Atlético Madrid| 77500000|         Right|\n",
      "|        E. Hazard| 28|      175|       74|    Belgium|        Real Madrid| 90000000|         Right|\n",
      "|     K. De Bruyne| 28|      181|       70|    Belgium|    Manchester City| 90000000|         Right|\n",
      "|    M. ter Stegen| 27|      187|       85|    Germany|       FC Barcelona| 67500000|         Right|\n",
      "|      V. van Dijk| 27|      193|       92|Netherlands|          Liverpool| 78000000|         Right|\n",
      "|        L. Modrić| 33|      172|       66|    Croatia|        Real Madrid| 45000000|         Right|\n",
      "|         M. Salah| 27|      175|       71|      Egypt|          Liverpool| 80500000|          Left|\n",
      "|        K. Mbappé| 20|      178|       73|     France|Paris Saint-Germain| 93500000|         Right|\n",
      "|     K. Koulibaly| 28|      187|       89|    Senegal|             Napoli| 67500000|         Right|\n",
      "|          H. Kane| 25|      188|       89|    England|  Tottenham Hotspur| 83000000|         Right|\n",
      "|          Alisson| 26|      191|       91|     Brazil|          Liverpool| 58000000|         Right|\n",
      "|           De Gea| 28|      192|       82|      Spain|  Manchester United| 56000000|         Right|\n",
      "+-----------------+---+---------+---------+-----------+-------------------+---------+--------------+\n",
      "only showing top 15 rows\n",
      "\n"
     ]
    }
   ],
   "source": [
    "df_fifa.show(15)"
   ]
  },
  {
   "cell_type": "markdown",
   "id": "6a1f1a87",
   "metadata": {},
   "source": [
    "Si el contenido del DataFrame es lo suficientemente pequeño podemos transformar su contenido a un DataFrame de Pandas."
   ]
  },
  {
   "cell_type": "code",
   "execution_count": 23,
   "id": "23d1cb02",
   "metadata": {},
   "outputs": [
    {
     "data": {
      "text/html": [
       "<div>\n",
       "<style scoped>\n",
       "    .dataframe tbody tr th:only-of-type {\n",
       "        vertical-align: middle;\n",
       "    }\n",
       "\n",
       "    .dataframe tbody tr th {\n",
       "        vertical-align: top;\n",
       "    }\n",
       "\n",
       "    .dataframe thead th {\n",
       "        text-align: right;\n",
       "    }\n",
       "</style>\n",
       "<table border=\"1\" class=\"dataframe\">\n",
       "  <thead>\n",
       "    <tr style=\"text-align: right;\">\n",
       "      <th></th>\n",
       "      <th>short_name</th>\n",
       "      <th>age</th>\n",
       "      <th>height_cm</th>\n",
       "      <th>weight_kg</th>\n",
       "      <th>nationality</th>\n",
       "      <th>club</th>\n",
       "      <th>value_eur</th>\n",
       "      <th>preferred_foot</th>\n",
       "    </tr>\n",
       "  </thead>\n",
       "  <tbody>\n",
       "    <tr>\n",
       "      <th>0</th>\n",
       "      <td>L. Messi</td>\n",
       "      <td>32</td>\n",
       "      <td>170</td>\n",
       "      <td>72</td>\n",
       "      <td>Argentina</td>\n",
       "      <td>FC Barcelona</td>\n",
       "      <td>95500000</td>\n",
       "      <td>Left</td>\n",
       "    </tr>\n",
       "    <tr>\n",
       "      <th>1</th>\n",
       "      <td>Cristiano Ronaldo</td>\n",
       "      <td>34</td>\n",
       "      <td>187</td>\n",
       "      <td>83</td>\n",
       "      <td>Portugal</td>\n",
       "      <td>Juventus</td>\n",
       "      <td>58500000</td>\n",
       "      <td>Right</td>\n",
       "    </tr>\n",
       "    <tr>\n",
       "      <th>2</th>\n",
       "      <td>Neymar Jr</td>\n",
       "      <td>27</td>\n",
       "      <td>175</td>\n",
       "      <td>68</td>\n",
       "      <td>Brazil</td>\n",
       "      <td>Paris Saint-Germain</td>\n",
       "      <td>105500000</td>\n",
       "      <td>Right</td>\n",
       "    </tr>\n",
       "    <tr>\n",
       "      <th>3</th>\n",
       "      <td>J. Oblak</td>\n",
       "      <td>26</td>\n",
       "      <td>188</td>\n",
       "      <td>87</td>\n",
       "      <td>Slovenia</td>\n",
       "      <td>Atlético Madrid</td>\n",
       "      <td>77500000</td>\n",
       "      <td>Right</td>\n",
       "    </tr>\n",
       "    <tr>\n",
       "      <th>4</th>\n",
       "      <td>E. Hazard</td>\n",
       "      <td>28</td>\n",
       "      <td>175</td>\n",
       "      <td>74</td>\n",
       "      <td>Belgium</td>\n",
       "      <td>Real Madrid</td>\n",
       "      <td>90000000</td>\n",
       "      <td>Right</td>\n",
       "    </tr>\n",
       "  </tbody>\n",
       "</table>\n",
       "</div>"
      ],
      "text/plain": [
       "          short_name  age  height_cm  weight_kg nationality  \\\n",
       "0           L. Messi   32        170         72   Argentina   \n",
       "1  Cristiano Ronaldo   34        187         83    Portugal   \n",
       "2          Neymar Jr   27        175         68      Brazil   \n",
       "3           J. Oblak   26        188         87    Slovenia   \n",
       "4          E. Hazard   28        175         74     Belgium   \n",
       "\n",
       "                  club  value_eur preferred_foot  \n",
       "0         FC Barcelona   95500000           Left  \n",
       "1             Juventus   58500000          Right  \n",
       "2  Paris Saint-Germain  105500000          Right  \n",
       "3      Atlético Madrid   77500000          Right  \n",
       "4          Real Madrid   90000000          Right  "
      ]
     },
     "execution_count": 23,
     "metadata": {},
     "output_type": "execute_result"
    }
   ],
   "source": [
    "df_pequeño = df_fifa.limit(10)\n",
    "df_pandas = df_pequeño.toPandas()\n",
    "df_pandas.head(5)"
   ]
  },
  {
   "cell_type": "code",
   "execution_count": 24,
   "id": "5b4005b3",
   "metadata": {},
   "outputs": [
    {
     "data": {
      "text/plain": [
       "DataFrame[short_name: string, age: int, height_cm: int, weight_kg: int, nationality: string, club: string, value_eur: int, preferred_foot: string]"
      ]
     },
     "execution_count": 24,
     "metadata": {},
     "output_type": "execute_result"
    }
   ],
   "source": [
    "df_fifa"
   ]
  },
  {
   "cell_type": "markdown",
   "id": "929eb239",
   "metadata": {},
   "source": [
    "Con Spark podemos hacer lo anterior con una sola línea de código."
   ]
  },
  {
   "cell_type": "code",
   "execution_count": 25,
   "id": "dbec34f8",
   "metadata": {},
   "outputs": [
    {
     "data": {
      "text/html": [
       "<div>\n",
       "<style scoped>\n",
       "    .dataframe tbody tr th:only-of-type {\n",
       "        vertical-align: middle;\n",
       "    }\n",
       "\n",
       "    .dataframe tbody tr th {\n",
       "        vertical-align: top;\n",
       "    }\n",
       "\n",
       "    .dataframe thead th {\n",
       "        text-align: right;\n",
       "    }\n",
       "</style>\n",
       "<table border=\"1\" class=\"dataframe\">\n",
       "  <thead>\n",
       "    <tr style=\"text-align: right;\">\n",
       "      <th></th>\n",
       "      <th>short_name</th>\n",
       "      <th>age</th>\n",
       "      <th>height_cm</th>\n",
       "      <th>weight_kg</th>\n",
       "      <th>nationality</th>\n",
       "      <th>club</th>\n",
       "      <th>value_eur</th>\n",
       "      <th>preferred_foot</th>\n",
       "    </tr>\n",
       "  </thead>\n",
       "  <tbody>\n",
       "    <tr>\n",
       "      <th>0</th>\n",
       "      <td>L. Messi</td>\n",
       "      <td>32</td>\n",
       "      <td>170</td>\n",
       "      <td>72</td>\n",
       "      <td>Argentina</td>\n",
       "      <td>FC Barcelona</td>\n",
       "      <td>95500000</td>\n",
       "      <td>Left</td>\n",
       "    </tr>\n",
       "    <tr>\n",
       "      <th>1</th>\n",
       "      <td>Cristiano Ronaldo</td>\n",
       "      <td>34</td>\n",
       "      <td>187</td>\n",
       "      <td>83</td>\n",
       "      <td>Portugal</td>\n",
       "      <td>Juventus</td>\n",
       "      <td>58500000</td>\n",
       "      <td>Right</td>\n",
       "    </tr>\n",
       "    <tr>\n",
       "      <th>2</th>\n",
       "      <td>Neymar Jr</td>\n",
       "      <td>27</td>\n",
       "      <td>175</td>\n",
       "      <td>68</td>\n",
       "      <td>Brazil</td>\n",
       "      <td>Paris Saint-Germain</td>\n",
       "      <td>105500000</td>\n",
       "      <td>Right</td>\n",
       "    </tr>\n",
       "    <tr>\n",
       "      <th>3</th>\n",
       "      <td>J. Oblak</td>\n",
       "      <td>26</td>\n",
       "      <td>188</td>\n",
       "      <td>87</td>\n",
       "      <td>Slovenia</td>\n",
       "      <td>Atlético Madrid</td>\n",
       "      <td>77500000</td>\n",
       "      <td>Right</td>\n",
       "    </tr>\n",
       "    <tr>\n",
       "      <th>4</th>\n",
       "      <td>E. Hazard</td>\n",
       "      <td>28</td>\n",
       "      <td>175</td>\n",
       "      <td>74</td>\n",
       "      <td>Belgium</td>\n",
       "      <td>Real Madrid</td>\n",
       "      <td>90000000</td>\n",
       "      <td>Right</td>\n",
       "    </tr>\n",
       "  </tbody>\n",
       "</table>\n",
       "</div>"
      ],
      "text/plain": [
       "          short_name  age  height_cm  weight_kg nationality  \\\n",
       "0           L. Messi   32        170         72   Argentina   \n",
       "1  Cristiano Ronaldo   34        187         83    Portugal   \n",
       "2          Neymar Jr   27        175         68      Brazil   \n",
       "3           J. Oblak   26        188         87    Slovenia   \n",
       "4          E. Hazard   28        175         74     Belgium   \n",
       "\n",
       "                  club  value_eur preferred_foot  \n",
       "0         FC Barcelona   95500000           Left  \n",
       "1             Juventus   58500000          Right  \n",
       "2  Paris Saint-Germain  105500000          Right  \n",
       "3      Atlético Madrid   77500000          Right  \n",
       "4          Real Madrid   90000000          Right  "
      ]
     },
     "execution_count": 25,
     "metadata": {},
     "output_type": "execute_result"
    }
   ],
   "source": [
    "df_fifa.limit(10).toPandas().head(5)"
   ]
  },
  {
   "cell_type": "code",
   "execution_count": 26,
   "id": "4636de31",
   "metadata": {},
   "outputs": [
    {
     "data": {
      "text/html": [
       "<div>\n",
       "<style scoped>\n",
       "    .dataframe tbody tr th:only-of-type {\n",
       "        vertical-align: middle;\n",
       "    }\n",
       "\n",
       "    .dataframe tbody tr th {\n",
       "        vertical-align: top;\n",
       "    }\n",
       "\n",
       "    .dataframe thead th {\n",
       "        text-align: right;\n",
       "    }\n",
       "</style>\n",
       "<table border=\"1\" class=\"dataframe\">\n",
       "  <thead>\n",
       "    <tr style=\"text-align: right;\">\n",
       "      <th></th>\n",
       "      <th>short_name</th>\n",
       "      <th>age</th>\n",
       "      <th>height_cm</th>\n",
       "      <th>weight_kg</th>\n",
       "      <th>nationality</th>\n",
       "      <th>club</th>\n",
       "      <th>value_eur</th>\n",
       "      <th>preferred_foot</th>\n",
       "    </tr>\n",
       "  </thead>\n",
       "  <tbody>\n",
       "    <tr>\n",
       "      <th>0</th>\n",
       "      <td>L. Messi</td>\n",
       "      <td>32</td>\n",
       "      <td>170</td>\n",
       "      <td>72</td>\n",
       "      <td>Argentina</td>\n",
       "      <td>FC Barcelona</td>\n",
       "      <td>95500000</td>\n",
       "      <td>Left</td>\n",
       "    </tr>\n",
       "    <tr>\n",
       "      <th>1</th>\n",
       "      <td>Cristiano Ronaldo</td>\n",
       "      <td>34</td>\n",
       "      <td>187</td>\n",
       "      <td>83</td>\n",
       "      <td>Portugal</td>\n",
       "      <td>Juventus</td>\n",
       "      <td>58500000</td>\n",
       "      <td>Right</td>\n",
       "    </tr>\n",
       "    <tr>\n",
       "      <th>2</th>\n",
       "      <td>Neymar Jr</td>\n",
       "      <td>27</td>\n",
       "      <td>175</td>\n",
       "      <td>68</td>\n",
       "      <td>Brazil</td>\n",
       "      <td>Paris Saint-Germain</td>\n",
       "      <td>105500000</td>\n",
       "      <td>Right</td>\n",
       "    </tr>\n",
       "    <tr>\n",
       "      <th>3</th>\n",
       "      <td>J. Oblak</td>\n",
       "      <td>26</td>\n",
       "      <td>188</td>\n",
       "      <td>87</td>\n",
       "      <td>Slovenia</td>\n",
       "      <td>Atlético Madrid</td>\n",
       "      <td>77500000</td>\n",
       "      <td>Right</td>\n",
       "    </tr>\n",
       "    <tr>\n",
       "      <th>4</th>\n",
       "      <td>E. Hazard</td>\n",
       "      <td>28</td>\n",
       "      <td>175</td>\n",
       "      <td>74</td>\n",
       "      <td>Belgium</td>\n",
       "      <td>Real Madrid</td>\n",
       "      <td>90000000</td>\n",
       "      <td>Right</td>\n",
       "    </tr>\n",
       "  </tbody>\n",
       "</table>\n",
       "</div>"
      ],
      "text/plain": [
       "          short_name  age  height_cm  weight_kg nationality  \\\n",
       "0           L. Messi   32        170         72   Argentina   \n",
       "1  Cristiano Ronaldo   34        187         83    Portugal   \n",
       "2          Neymar Jr   27        175         68      Brazil   \n",
       "3           J. Oblak   26        188         87    Slovenia   \n",
       "4          E. Hazard   28        175         74     Belgium   \n",
       "\n",
       "                  club  value_eur preferred_foot  \n",
       "0         FC Barcelona   95500000           Left  \n",
       "1             Juventus   58500000          Right  \n",
       "2  Paris Saint-Germain  105500000          Right  \n",
       "3      Atlético Madrid   77500000          Right  \n",
       "4          Real Madrid   90000000          Right  "
      ]
     },
     "execution_count": 26,
     "metadata": {},
     "output_type": "execute_result"
    }
   ],
   "source": [
    "df_fifa.limit(10) \\\n",
    "  .toPandas() \\\n",
    "  .head(5)"
   ]
  },
  {
   "cell_type": "markdown",
   "id": "41da8937",
   "metadata": {},
   "source": [
    "Para poder revisar la organización de nuestro DataFrame y el data tpye de cada campo podemos usar lo siguiente"
   ]
  },
  {
   "cell_type": "code",
   "execution_count": 27,
   "id": "2f75b13e",
   "metadata": {},
   "outputs": [
    {
     "name": "stdout",
     "output_type": "stream",
     "text": [
      "root\n",
      " |-- short_name: string (nullable = true)\n",
      " |-- age: integer (nullable = true)\n",
      " |-- height_cm: integer (nullable = true)\n",
      " |-- weight_kg: integer (nullable = true)\n",
      " |-- nationality: string (nullable = true)\n",
      " |-- club: string (nullable = true)\n",
      " |-- value_eur: integer (nullable = true)\n",
      " |-- preferred_foot: string (nullable = true)\n",
      "\n"
     ]
    }
   ],
   "source": [
    "df_fifa.printSchema()"
   ]
  },
  {
   "cell_type": "markdown",
   "id": "a68a06f0",
   "metadata": {},
   "source": [
    "### Funciones"
   ]
  },
  {
   "cell_type": "markdown",
   "id": "cf46d1a0",
   "metadata": {},
   "source": [
    "#### Renombrar columnas"
   ]
  },
  {
   "cell_type": "code",
   "execution_count": 25,
   "id": "e28e4a5e",
   "metadata": {},
   "outputs": [
    {
     "name": "stdout",
     "output_type": "stream",
     "text": [
      "+-----------------+---+---------+---------+-----------+-------------------+-----------+--------------+\n",
      "|       short_name|age|height_cm|weight_kg|nationality|               club|valor_euros|preferred_foot|\n",
      "+-----------------+---+---------+---------+-----------+-------------------+-----------+--------------+\n",
      "|         L. Messi| 32|      170|       72|  Argentina|       FC Barcelona|   95500000|          Left|\n",
      "|Cristiano Ronaldo| 34|      187|       83|   Portugal|           Juventus|   58500000|         Right|\n",
      "|        Neymar Jr| 27|      175|       68|     Brazil|Paris Saint-Germain|  105500000|         Right|\n",
      "|         J. Oblak| 26|      188|       87|   Slovenia|    Atlético Madrid|   77500000|         Right|\n",
      "|        E. Hazard| 28|      175|       74|    Belgium|        Real Madrid|   90000000|         Right|\n",
      "+-----------------+---+---------+---------+-----------+-------------------+-----------+--------------+\n",
      "only showing top 5 rows\n",
      "\n"
     ]
    }
   ],
   "source": [
    "df_fifa.withColumnRenamed('value_eur','valor_euros').show(5)"
   ]
  },
  {
   "cell_type": "code",
   "execution_count": 26,
   "id": "ad6b8c09",
   "metadata": {},
   "outputs": [
    {
     "name": "stdout",
     "output_type": "stream",
     "text": [
      "+-----------------+---+---------+---------+-----------+-------------------+-----------+--------------+\n",
      "|       short_name|age|height_cm|weight_kg|nationality|               club|valor_euros|preferred_foot|\n",
      "+-----------------+---+---------+---------+-----------+-------------------+-----------+--------------+\n",
      "|         L. Messi| 32|      170|       72|  Argentina|       FC Barcelona|   95500000|          Left|\n",
      "|Cristiano Ronaldo| 34|      187|       83|   Portugal|           Juventus|   58500000|         Right|\n",
      "|        Neymar Jr| 27|      175|       68|     Brazil|Paris Saint-Germain|  105500000|         Right|\n",
      "|         J. Oblak| 26|      188|       87|   Slovenia|    Atlético Madrid|   77500000|         Right|\n",
      "|        E. Hazard| 28|      175|       74|    Belgium|        Real Madrid|   90000000|         Right|\n",
      "+-----------------+---+---------+---------+-----------+-------------------+-----------+--------------+\n",
      "only showing top 5 rows\n",
      "\n"
     ]
    }
   ],
   "source": [
    "df_ejemplo = df_fifa.withColumnRenamed('value_eur','valor_euros')\n",
    "df_ejemplo.show(5)"
   ]
  },
  {
   "cell_type": "markdown",
   "id": "8d969ddd",
   "metadata": {},
   "source": [
    "#### Quitar columnas"
   ]
  },
  {
   "cell_type": "code",
   "execution_count": 27,
   "id": "d1d0fb0c",
   "metadata": {},
   "outputs": [
    {
     "name": "stdout",
     "output_type": "stream",
     "text": [
      "+-----------------+---+---------+-----------+-------------------+---------+--------------+\n",
      "|       short_name|age|height_cm|nationality|               club|value_eur|preferred_foot|\n",
      "+-----------------+---+---------+-----------+-------------------+---------+--------------+\n",
      "|         L. Messi| 32|      170|  Argentina|       FC Barcelona| 95500000|          Left|\n",
      "|Cristiano Ronaldo| 34|      187|   Portugal|           Juventus| 58500000|         Right|\n",
      "|        Neymar Jr| 27|      175|     Brazil|Paris Saint-Germain|105500000|         Right|\n",
      "|         J. Oblak| 26|      188|   Slovenia|    Atlético Madrid| 77500000|         Right|\n",
      "|        E. Hazard| 28|      175|    Belgium|        Real Madrid| 90000000|         Right|\n",
      "+-----------------+---+---------+-----------+-------------------+---------+--------------+\n",
      "only showing top 5 rows\n",
      "\n"
     ]
    }
   ],
   "source": [
    "df_fifa.drop('weight_kg').show(5)"
   ]
  },
  {
   "cell_type": "markdown",
   "id": "7ed9b264",
   "metadata": {},
   "source": [
    "#### Ordenar"
   ]
  },
  {
   "cell_type": "code",
   "execution_count": 28,
   "id": "b0b4d20e",
   "metadata": {},
   "outputs": [
    {
     "name": "stdout",
     "output_type": "stream",
     "text": [
      "+------------+---+---------+---------+-----------+-------------------+---------+--------------+\n",
      "|  short_name|age|height_cm|weight_kg|nationality|               club|value_eur|preferred_foot|\n",
      "+------------+---+---------+---------+-----------+-------------------+---------+--------------+\n",
      "|   Neymar Jr| 27|      175|       68|     Brazil|Paris Saint-Germain|105500000|         Right|\n",
      "|    L. Messi| 32|      170|       72|  Argentina|       FC Barcelona| 95500000|          Left|\n",
      "|   K. Mbappé| 20|      178|       73|     France|Paris Saint-Germain| 93500000|         Right|\n",
      "|   E. Hazard| 28|      175|       74|    Belgium|        Real Madrid| 90000000|         Right|\n",
      "|K. De Bruyne| 28|      181|       70|    Belgium|    Manchester City| 90000000|         Right|\n",
      "+------------+---+---------+---------+-----------+-------------------+---------+--------------+\n",
      "only showing top 5 rows\n",
      "\n"
     ]
    }
   ],
   "source": [
    "df_fifa.orderBy('value_eur', ascending = False).show(5)"
   ]
  },
  {
   "cell_type": "markdown",
   "id": "28b6afc6",
   "metadata": {},
   "source": [
    "#### Filtrado con where"
   ]
  },
  {
   "cell_type": "code",
   "execution_count": 29,
   "id": "81d75418",
   "metadata": {},
   "outputs": [
    {
     "name": "stdout",
     "output_type": "stream",
     "text": [
      "+-----------------+---+---------+---------+-----------+---------------+---------+--------------+\n",
      "|       short_name|age|height_cm|weight_kg|nationality|           club|value_eur|preferred_foot|\n",
      "+-----------------+---+---------+---------+-----------+---------------+---------+--------------+\n",
      "|         L. Messi| 32|      170|       72|  Argentina|   FC Barcelona| 95500000|          Left|\n",
      "|Cristiano Ronaldo| 34|      187|       83|   Portugal|       Juventus| 58500000|         Right|\n",
      "|        L. Modrić| 33|      172|       66|    Croatia|    Real Madrid| 45000000|         Right|\n",
      "|     G. Chiellini| 34|      187|       85|      Italy|       Juventus| 24500000|          Left|\n",
      "|        S. Agüero| 31|      173|       70|  Argentina|Manchester City| 60000000|         Right|\n",
      "+-----------------+---+---------+---------+-----------+---------------+---------+--------------+\n",
      "only showing top 5 rows\n",
      "\n"
     ]
    }
   ],
   "source": [
    "df_fifa.where(df_ejemplo.age > 30).show(5)"
   ]
  },
  {
   "cell_type": "markdown",
   "id": "03c810aa",
   "metadata": {},
   "source": [
    "tal vez quisieramos solo ver la informacion de los jugadores del Liverpool que tuviera mas de 30 años de edad"
   ]
  },
  {
   "cell_type": "code",
   "execution_count": 30,
   "id": "96ca7de0",
   "metadata": {},
   "outputs": [
    {
     "name": "stdout",
     "output_type": "stream",
     "text": [
      "+-----------+---+---------+---------+-----------+---------+---------+--------------+\n",
      "| short_name|age|height_cm|weight_kg|nationality|     club|value_eur|preferred_foot|\n",
      "+-----------+---+---------+---------+-----------+---------+---------+--------------+\n",
      "|  J. Milner| 33|      175|       70|    England|Liverpool| 10500000|         Right|\n",
      "| A. Lallana| 31|      178|       73|    England|Liverpool| 11000000|         Right|\n",
      "|     Adrián| 32|      190|       80|      Spain|Liverpool|  4700000|         Right|\n",
      "|A. Lonergan| 35|      192|       87|    England|Liverpool|   150000|          Left|\n",
      "+-----------+---+---------+---------+-----------+---------+---------+--------------+\n",
      "\n"
     ]
    }
   ],
   "source": [
    "df_fifa.where((df_ejemplo.age > 30) & (df_ejemplo.club == 'Liverpool')).show(5)"
   ]
  },
  {
   "cell_type": "markdown",
   "id": "c29027cc",
   "metadata": {},
   "source": [
    "#### Funciones de agregación"
   ]
  },
  {
   "cell_type": "markdown",
   "id": "a6d47581",
   "metadata": {},
   "source": [
    "Supongamos que queremos saber el costo total en euros de un equipo, lograríamos dicho objetivo sumando el valor de los jugadores de cada equipo. Esto lo podemos lograr usando la funcion groupBy() en conjunto con algunas funciones de agregación de la siguiente manera"
   ]
  },
  {
   "cell_type": "code",
   "execution_count": 31,
   "id": "56aa60d4",
   "metadata": {},
   "outputs": [
    {
     "name": "stdout",
     "output_type": "stream",
     "text": [
      "+--------------------+--------------+\n",
      "|                Club|sum(value_eur)|\n",
      "+--------------------+--------------+\n",
      "|       Côte d'Ivoire|             0|\n",
      "|          Göztepe SK|      43065000|\n",
      "|CD Everton de Viñ...|      18075000|\n",
      "|     Shonan Bellmare|       1410000|\n",
      "|        Salford City|       7905000|\n",
      "+--------------------+--------------+\n",
      "only showing top 5 rows\n",
      "\n"
     ]
    }
   ],
   "source": [
    "df_fifa.groupBy('Club').sum('value_eur').show(5)"
   ]
  },
  {
   "cell_type": "markdown",
   "id": "daf071cc",
   "metadata": {},
   "source": [
    "si quisieramos saber cuales son los 5 equipos mas caros hariamos lo siguiente"
   ]
  },
  {
   "cell_type": "code",
   "execution_count": 32,
   "id": "ceae242d",
   "metadata": {},
   "outputs": [
    {
     "name": "stdout",
     "output_type": "stream",
     "text": [
      "+---------------+--------------+\n",
      "|           club|sum(value_eur)|\n",
      "+---------------+--------------+\n",
      "|    Real Madrid|     897850000|\n",
      "|   FC Barcelona|     869300000|\n",
      "|Manchester City|     845745000|\n",
      "|       Juventus|     735475000|\n",
      "|      Liverpool|     693265000|\n",
      "+---------------+--------------+\n",
      "only showing top 5 rows\n",
      "\n"
     ]
    }
   ],
   "source": [
    "df_fifa.groupBy('club') \\\n",
    "  .sum('value_eur') \\\n",
    "  .orderBy('sum(value_eur)', ascending = False) \\\n",
    "  .show(5)"
   ]
  },
  {
   "cell_type": "markdown",
   "id": "68c88259",
   "metadata": {},
   "source": [
    "Si quisieramos usar más de una función de agregación tendriamos que hacer lo siguiente"
   ]
  },
  {
   "cell_type": "markdown",
   "id": "139f13a4",
   "metadata": {},
   "source": [
    "#### Crear nuevas columnas"
   ]
  },
  {
   "cell_type": "markdown",
   "id": "7b316e68",
   "metadata": {},
   "source": [
    "Podemos crear columnas a partir de los valores de otras, por ejemplo, podríamos querer obtener el valor de los jugadores en pesos."
   ]
  },
  {
   "cell_type": "code",
   "execution_count": 33,
   "id": "fcf594e5",
   "metadata": {},
   "outputs": [
    {
     "name": "stdout",
     "output_type": "stream",
     "text": [
      "+-----------------+---+---------+---------+-----------+-------------------+---------+--------------+-----------+\n",
      "|       short_name|age|height_cm|weight_kg|nationality|               club|value_eur|preferred_foot|valor_pesos|\n",
      "+-----------------+---+---------+---------+-----------+-------------------+---------+--------------+-----------+\n",
      "|         L. Messi| 32|      170|       72|  Argentina|       FC Barcelona| 95500000|          Left|   2.4066E9|\n",
      "|Cristiano Ronaldo| 34|      187|       83|   Portugal|           Juventus| 58500000|         Right|   1.4742E9|\n",
      "|        Neymar Jr| 27|      175|       68|     Brazil|Paris Saint-Germain|105500000|         Right|   2.6586E9|\n",
      "|         J. Oblak| 26|      188|       87|   Slovenia|    Atlético Madrid| 77500000|         Right|    1.953E9|\n",
      "|        E. Hazard| 28|      175|       74|    Belgium|        Real Madrid| 90000000|         Right|    2.268E9|\n",
      "+-----------------+---+---------+---------+-----------+-------------------+---------+--------------+-----------+\n",
      "only showing top 5 rows\n",
      "\n"
     ]
    }
   ],
   "source": [
    "df_fifa.withColumn('valor_pesos', df_fifa.value_eur * 25.2).show(5)"
   ]
  },
  {
   "cell_type": "markdown",
   "id": "a68c6e3a",
   "metadata": {},
   "source": [
    "### Consultas SQL"
   ]
  },
  {
   "cell_type": "markdown",
   "id": "daa5c434",
   "metadata": {},
   "source": [
    "Quien esté familiarizado con SQL habrá notado que existe cierta similaridad entre las funciones de los DataFrames de PySpark con algunas sentencias de SQL. Este paralelismo llega a tal grado que podemos reemplazar la concatenación de varias funciones con una simple consulta SQL. Por ejemplo, si quisieramos consultar de nuevo cuales son los 5 equipos más caros, solo que esta vez haciendo una consulta SQL, haríamos los siguiente"
   ]
  },
  {
   "cell_type": "code",
   "execution_count": 34,
   "id": "22254e01",
   "metadata": {},
   "outputs": [
    {
     "name": "stderr",
     "output_type": "stream",
     "text": [
      "/home/vania/jupyter/jupyterenv/lib/python3.8/site-packages/pyspark/sql/dataframe.py:138: FutureWarning: Deprecated in 2.0, use createOrReplaceTempView instead.\n",
      "  warnings.warn(\n",
      "24/02/24 09:57:28 WARN package: Truncated the string representation of a plan since it was too large. This behavior can be adjusted by setting 'spark.sql.debug.maxToStringFields'.\n"
     ]
    },
    {
     "name": "stdout",
     "output_type": "stream",
     "text": [
      "+-------------------+-----------+\n",
      "|               club|valor_total|\n",
      "+-------------------+-----------+\n",
      "|        Real Madrid|  897850000|\n",
      "|       FC Barcelona|  869300000|\n",
      "|    Manchester City|  845745000|\n",
      "|           Juventus|  735475000|\n",
      "|          Liverpool|  693265000|\n",
      "|  FC Bayern München|  688775000|\n",
      "|Paris Saint-Germain|  687550000|\n",
      "|  Tottenham Hotspur|  649850000|\n",
      "|    Atlético Madrid|  590375000|\n",
      "|  Borussia Dortmund|  532325000|\n",
      "+-------------------+-----------+\n",
      "only showing top 10 rows\n",
      "\n"
     ]
    }
   ],
   "source": [
    "# Le dice a spark que guarde este DataFrame como una tabla SQL\n",
    "df_fifa.registerTempTable('FIFA20')\n",
    "\n",
    "consulta = '''\n",
    "  SELECT club, SUM(value_eur) AS valor_total \n",
    "  FROM FIFA20\n",
    "  GROUP BY club\n",
    "  ORDER BY valor_total DESC\n",
    "  '''\n",
    "\n",
    "spark.sql(consulta).show(10)"
   ]
  },
  {
   "cell_type": "markdown",
   "id": "71eda2c1",
   "metadata": {},
   "source": [
    "Basado en los apuntes del Dr. Gibran Fuentes"
   ]
  },
  {
   "cell_type": "code",
   "execution_count": null,
   "id": "84631ece",
   "metadata": {},
   "outputs": [],
   "source": []
  }
 ],
 "metadata": {
  "kernelspec": {
   "display_name": "Python 3 (ipykernel)",
   "language": "python",
   "name": "python3"
  },
  "language_info": {
   "codemirror_mode": {
    "name": "ipython",
    "version": 3
   },
   "file_extension": ".py",
   "mimetype": "text/x-python",
   "name": "python",
   "nbconvert_exporter": "python",
   "pygments_lexer": "ipython3",
   "version": "3.8.10"
  }
 },
 "nbformat": 4,
 "nbformat_minor": 5
}
